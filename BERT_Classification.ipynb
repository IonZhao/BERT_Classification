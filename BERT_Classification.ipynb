{
 "cells": [
  {
   "cell_type": "markdown",
   "metadata": {
    "colab_type": "text",
    "id": "view-in-github"
   },
   "source": [
    "<a href=\"https://colab.research.google.com/github/IonZhao/BERT_Classification/blob/main/BERT_Classification.ipynb\" target=\"_parent\"><img src=\"https://colab.research.google.com/assets/colab-badge.svg\" alt=\"Open In Colab\"/></a>"
   ]
  },
  {
   "cell_type": "markdown",
   "metadata": {
    "id": "8MSF5WuygVdf"
   },
   "source": [
    "# Step 1: Load the dataset"
   ]
  },
  {
   "cell_type": "code",
   "execution_count": null,
   "metadata": {
    "colab": {
     "base_uri": "https://localhost:8080/",
     "height": 206
    },
    "id": "hMY31bwCgVdg",
    "outputId": "58df3127-6e23-46a4-beb5-c3fb7be65934"
   },
   "outputs": [
    {
     "data": {
      "application/vnd.google.colaboratory.intrinsic+json": {
       "summary": "{\n  \"name\": \"df\",\n  \"rows\": 5572,\n  \"fields\": [\n    {\n      \"column\": \"Category\",\n      \"properties\": {\n        \"dtype\": \"category\",\n        \"num_unique_values\": 2,\n        \"samples\": [\n          \"spam\",\n          \"ham\"\n        ],\n        \"semantic_type\": \"\",\n        \"description\": \"\"\n      }\n    },\n    {\n      \"column\": \"Message\",\n      \"properties\": {\n        \"dtype\": \"string\",\n        \"num_unique_values\": 5156,\n        \"samples\": [\n          \"also sir, i sent you an email about how to log into the usc payment portal. i.ll send you another message that should explain how things are back home. have a great weekend.\",\n          \"are you free now?can i call now?\"\n        ],\n        \"semantic_type\": \"\",\n        \"description\": \"\"\n      }\n    }\n  ]\n}",
       "type": "dataframe",
       "variable_name": "df"
      },
      "text/html": [
       "\n",
       "  <div id=\"df-b173012a-ca87-46db-bc96-030e0887a21d\" class=\"colab-df-container\">\n",
       "    <div>\n",
       "<style scoped>\n",
       "    .dataframe tbody tr th:only-of-type {\n",
       "        vertical-align: middle;\n",
       "    }\n",
       "\n",
       "    .dataframe tbody tr th {\n",
       "        vertical-align: top;\n",
       "    }\n",
       "\n",
       "    .dataframe thead th {\n",
       "        text-align: right;\n",
       "    }\n",
       "</style>\n",
       "<table border=\"1\" class=\"dataframe\">\n",
       "  <thead>\n",
       "    <tr style=\"text-align: right;\">\n",
       "      <th></th>\n",
       "      <th>Category</th>\n",
       "      <th>Message</th>\n",
       "    </tr>\n",
       "  </thead>\n",
       "  <tbody>\n",
       "    <tr>\n",
       "      <th>0</th>\n",
       "      <td>ham</td>\n",
       "      <td>go until jurong point, crazy.. available only ...</td>\n",
       "    </tr>\n",
       "    <tr>\n",
       "      <th>1</th>\n",
       "      <td>ham</td>\n",
       "      <td>ok lar... joking wif u oni...</td>\n",
       "    </tr>\n",
       "    <tr>\n",
       "      <th>2</th>\n",
       "      <td>spam</td>\n",
       "      <td>free entry in 2 a wkly comp to win fa cup fina...</td>\n",
       "    </tr>\n",
       "    <tr>\n",
       "      <th>3</th>\n",
       "      <td>ham</td>\n",
       "      <td>u dun say so early hor... u c already then say...</td>\n",
       "    </tr>\n",
       "    <tr>\n",
       "      <th>4</th>\n",
       "      <td>ham</td>\n",
       "      <td>nah i don't think he goes to usf, he lives aro...</td>\n",
       "    </tr>\n",
       "  </tbody>\n",
       "</table>\n",
       "</div>\n",
       "    <div class=\"colab-df-buttons\">\n",
       "\n",
       "  <div class=\"colab-df-container\">\n",
       "    <button class=\"colab-df-convert\" onclick=\"convertToInteractive('df-b173012a-ca87-46db-bc96-030e0887a21d')\"\n",
       "            title=\"Convert this dataframe to an interactive table.\"\n",
       "            style=\"display:none;\">\n",
       "\n",
       "  <svg xmlns=\"http://www.w3.org/2000/svg\" height=\"24px\" viewBox=\"0 -960 960 960\">\n",
       "    <path d=\"M120-120v-720h720v720H120Zm60-500h600v-160H180v160Zm220 220h160v-160H400v160Zm0 220h160v-160H400v160ZM180-400h160v-160H180v160Zm440 0h160v-160H620v160ZM180-180h160v-160H180v160Zm440 0h160v-160H620v160Z\"/>\n",
       "  </svg>\n",
       "    </button>\n",
       "\n",
       "  <style>\n",
       "    .colab-df-container {\n",
       "      display:flex;\n",
       "      gap: 12px;\n",
       "    }\n",
       "\n",
       "    .colab-df-convert {\n",
       "      background-color: #E8F0FE;\n",
       "      border: none;\n",
       "      border-radius: 50%;\n",
       "      cursor: pointer;\n",
       "      display: none;\n",
       "      fill: #1967D2;\n",
       "      height: 32px;\n",
       "      padding: 0 0 0 0;\n",
       "      width: 32px;\n",
       "    }\n",
       "\n",
       "    .colab-df-convert:hover {\n",
       "      background-color: #E2EBFA;\n",
       "      box-shadow: 0px 1px 2px rgba(60, 64, 67, 0.3), 0px 1px 3px 1px rgba(60, 64, 67, 0.15);\n",
       "      fill: #174EA6;\n",
       "    }\n",
       "\n",
       "    .colab-df-buttons div {\n",
       "      margin-bottom: 4px;\n",
       "    }\n",
       "\n",
       "    [theme=dark] .colab-df-convert {\n",
       "      background-color: #3B4455;\n",
       "      fill: #D2E3FC;\n",
       "    }\n",
       "\n",
       "    [theme=dark] .colab-df-convert:hover {\n",
       "      background-color: #434B5C;\n",
       "      box-shadow: 0px 1px 3px 1px rgba(0, 0, 0, 0.15);\n",
       "      filter: drop-shadow(0px 1px 2px rgba(0, 0, 0, 0.3));\n",
       "      fill: #FFFFFF;\n",
       "    }\n",
       "  </style>\n",
       "\n",
       "    <script>\n",
       "      const buttonEl =\n",
       "        document.querySelector('#df-b173012a-ca87-46db-bc96-030e0887a21d button.colab-df-convert');\n",
       "      buttonEl.style.display =\n",
       "        google.colab.kernel.accessAllowed ? 'block' : 'none';\n",
       "\n",
       "      async function convertToInteractive(key) {\n",
       "        const element = document.querySelector('#df-b173012a-ca87-46db-bc96-030e0887a21d');\n",
       "        const dataTable =\n",
       "          await google.colab.kernel.invokeFunction('convertToInteractive',\n",
       "                                                    [key], {});\n",
       "        if (!dataTable) return;\n",
       "\n",
       "        const docLinkHtml = 'Like what you see? Visit the ' +\n",
       "          '<a target=\"_blank\" href=https://colab.research.google.com/notebooks/data_table.ipynb>data table notebook</a>'\n",
       "          + ' to learn more about interactive tables.';\n",
       "        element.innerHTML = '';\n",
       "        dataTable['output_type'] = 'display_data';\n",
       "        await google.colab.output.renderOutput(dataTable, element);\n",
       "        const docLink = document.createElement('div');\n",
       "        docLink.innerHTML = docLinkHtml;\n",
       "        element.appendChild(docLink);\n",
       "      }\n",
       "    </script>\n",
       "  </div>\n",
       "\n",
       "\n",
       "<div id=\"df-0e4e0d58-20f1-4e27-8bc2-875bd96b0294\">\n",
       "  <button class=\"colab-df-quickchart\" onclick=\"quickchart('df-0e4e0d58-20f1-4e27-8bc2-875bd96b0294')\"\n",
       "            title=\"Suggest charts\"\n",
       "            style=\"display:none;\">\n",
       "\n",
       "<svg xmlns=\"http://www.w3.org/2000/svg\" height=\"24px\"viewBox=\"0 0 24 24\"\n",
       "     width=\"24px\">\n",
       "    <g>\n",
       "        <path d=\"M19 3H5c-1.1 0-2 .9-2 2v14c0 1.1.9 2 2 2h14c1.1 0 2-.9 2-2V5c0-1.1-.9-2-2-2zM9 17H7v-7h2v7zm4 0h-2V7h2v10zm4 0h-2v-4h2v4z\"/>\n",
       "    </g>\n",
       "</svg>\n",
       "  </button>\n",
       "\n",
       "<style>\n",
       "  .colab-df-quickchart {\n",
       "      --bg-color: #E8F0FE;\n",
       "      --fill-color: #1967D2;\n",
       "      --hover-bg-color: #E2EBFA;\n",
       "      --hover-fill-color: #174EA6;\n",
       "      --disabled-fill-color: #AAA;\n",
       "      --disabled-bg-color: #DDD;\n",
       "  }\n",
       "\n",
       "  [theme=dark] .colab-df-quickchart {\n",
       "      --bg-color: #3B4455;\n",
       "      --fill-color: #D2E3FC;\n",
       "      --hover-bg-color: #434B5C;\n",
       "      --hover-fill-color: #FFFFFF;\n",
       "      --disabled-bg-color: #3B4455;\n",
       "      --disabled-fill-color: #666;\n",
       "  }\n",
       "\n",
       "  .colab-df-quickchart {\n",
       "    background-color: var(--bg-color);\n",
       "    border: none;\n",
       "    border-radius: 50%;\n",
       "    cursor: pointer;\n",
       "    display: none;\n",
       "    fill: var(--fill-color);\n",
       "    height: 32px;\n",
       "    padding: 0;\n",
       "    width: 32px;\n",
       "  }\n",
       "\n",
       "  .colab-df-quickchart:hover {\n",
       "    background-color: var(--hover-bg-color);\n",
       "    box-shadow: 0 1px 2px rgba(60, 64, 67, 0.3), 0 1px 3px 1px rgba(60, 64, 67, 0.15);\n",
       "    fill: var(--button-hover-fill-color);\n",
       "  }\n",
       "\n",
       "  .colab-df-quickchart-complete:disabled,\n",
       "  .colab-df-quickchart-complete:disabled:hover {\n",
       "    background-color: var(--disabled-bg-color);\n",
       "    fill: var(--disabled-fill-color);\n",
       "    box-shadow: none;\n",
       "  }\n",
       "\n",
       "  .colab-df-spinner {\n",
       "    border: 2px solid var(--fill-color);\n",
       "    border-color: transparent;\n",
       "    border-bottom-color: var(--fill-color);\n",
       "    animation:\n",
       "      spin 1s steps(1) infinite;\n",
       "  }\n",
       "\n",
       "  @keyframes spin {\n",
       "    0% {\n",
       "      border-color: transparent;\n",
       "      border-bottom-color: var(--fill-color);\n",
       "      border-left-color: var(--fill-color);\n",
       "    }\n",
       "    20% {\n",
       "      border-color: transparent;\n",
       "      border-left-color: var(--fill-color);\n",
       "      border-top-color: var(--fill-color);\n",
       "    }\n",
       "    30% {\n",
       "      border-color: transparent;\n",
       "      border-left-color: var(--fill-color);\n",
       "      border-top-color: var(--fill-color);\n",
       "      border-right-color: var(--fill-color);\n",
       "    }\n",
       "    40% {\n",
       "      border-color: transparent;\n",
       "      border-right-color: var(--fill-color);\n",
       "      border-top-color: var(--fill-color);\n",
       "    }\n",
       "    60% {\n",
       "      border-color: transparent;\n",
       "      border-right-color: var(--fill-color);\n",
       "    }\n",
       "    80% {\n",
       "      border-color: transparent;\n",
       "      border-right-color: var(--fill-color);\n",
       "      border-bottom-color: var(--fill-color);\n",
       "    }\n",
       "    90% {\n",
       "      border-color: transparent;\n",
       "      border-bottom-color: var(--fill-color);\n",
       "    }\n",
       "  }\n",
       "</style>\n",
       "\n",
       "  <script>\n",
       "    async function quickchart(key) {\n",
       "      const quickchartButtonEl =\n",
       "        document.querySelector('#' + key + ' button');\n",
       "      quickchartButtonEl.disabled = true;  // To prevent multiple clicks.\n",
       "      quickchartButtonEl.classList.add('colab-df-spinner');\n",
       "      try {\n",
       "        const charts = await google.colab.kernel.invokeFunction(\n",
       "            'suggestCharts', [key], {});\n",
       "      } catch (error) {\n",
       "        console.error('Error during call to suggestCharts:', error);\n",
       "      }\n",
       "      quickchartButtonEl.classList.remove('colab-df-spinner');\n",
       "      quickchartButtonEl.classList.add('colab-df-quickchart-complete');\n",
       "    }\n",
       "    (() => {\n",
       "      let quickchartButtonEl =\n",
       "        document.querySelector('#df-0e4e0d58-20f1-4e27-8bc2-875bd96b0294 button');\n",
       "      quickchartButtonEl.style.display =\n",
       "        google.colab.kernel.accessAllowed ? 'block' : 'none';\n",
       "    })();\n",
       "  </script>\n",
       "</div>\n",
       "\n",
       "    </div>\n",
       "  </div>\n"
      ],
      "text/plain": [
       "  Category                                            Message\n",
       "0      ham  go until jurong point, crazy.. available only ...\n",
       "1      ham                      ok lar... joking wif u oni...\n",
       "2     spam  free entry in 2 a wkly comp to win fa cup fina...\n",
       "3      ham  u dun say so early hor... u c already then say...\n",
       "4      ham  nah i don't think he goes to usf, he lives aro..."
      ]
     },
     "execution_count": 25,
     "metadata": {},
     "output_type": "execute_result"
    }
   ],
   "source": [
    "import pandas as pd\n",
    "# import numpy as np\n",
    "from sklearn.model_selection import train_test_split\n",
    "\n",
    "df = pd.read_csv('./data/SPAM text message 20170820 - Data.csv')\n",
    "df['Message'] = df['Message'].apply(lambda x: x.lower())\n",
    "df.head()"
   ]
  },
  {
   "cell_type": "markdown",
   "metadata": {
    "id": "PwRr51w1gVdh"
   },
   "source": [
    "# Step 2:Naive Bayes by hand\n",
    "## Step 2.1：Training the model"
   ]
  },
  {
   "cell_type": "code",
   "execution_count": null,
   "metadata": {
    "id": "fZZi6_cbgVdi"
   },
   "outputs": [],
   "source": [
    "from sklearn.model_selection import train_test_split\n",
    "import re\n",
    "\n",
    "train_df, test_df = train_test_split(df, test_size=0.2)\n",
    "train_df.shape, test_df.shape\n",
    "\n",
    "# Total number of documents\n",
    "N = len(train_df)\n",
    "\n",
    "# P(c_j), each document's category probability\n",
    "P_ham = train_df['Category'].value_counts()['ham'] / N\n",
    "P_spam = train_df['Category'].value_counts()['spam'] / N\n",
    "\n",
    "# P(w|c_j), each word's probability in a category\n",
    "\n",
    "word_count = {} # dictionary mapping word to count overall\n",
    "\n",
    "spam_word_count = {} # same, but only for spam\n",
    "\n",
    "ham_word_count = {} # same, but only for ham\n",
    "\n",
    "\n",
    "for index, row in train_df.iterrows(): # loop through rows of training dataset\n",
    "\n",
    "  document = row['Message']\n",
    "  category = row['Category']\n",
    "  # tokenization\n",
    "  tokenized_document = re.split(r\"\\W+\", document)\n",
    "  for word in tokenized_document:\n",
    "      word_count[word] = word_count.get(word, 0) + 1\n",
    "      if category == 'spam':\n",
    "        spam_word_count[word] = spam_word_count.get(word, 0) + 1\n",
    "      else:\n",
    "        ham_word_count[word] = ham_word_count.get(word, 0) + 1\n",
    "\n",
    "V = len(word_count)\n",
    "len_spam_vocab = len(spam_word_count)\n",
    "len_ham_vocab = len(ham_word_count)"
   ]
  },
  {
   "cell_type": "markdown",
   "metadata": {
    "id": "Mgb9RWhZgVdj"
   },
   "source": [
    "# Step 2.2: Predict in test data"
   ]
  },
  {
   "cell_type": "code",
   "execution_count": null,
   "metadata": {
    "colab": {
     "base_uri": "https://localhost:8080/"
    },
    "id": "NR-ExMDhgVdj",
    "outputId": "52cd62d9-6e4a-414a-d967-11dd86b99031"
   },
   "outputs": [
    {
     "name": "stdout",
     "output_type": "stream",
     "text": [
      "TP: 100, TN: 970, FP: 0, FN: 45\n",
      "Accuracy: 0.9596412556053812\n",
      "Precision: 1.0\n",
      "Recall: 0.6896551724137931\n",
      "F1: 0.8163265306122449\n",
      "\n"
     ]
    }
   ],
   "source": [
    "# Training is complete\n",
    "\n",
    "TP, TN, FP, FN = 0, 0, 0, 0\n",
    "for index, row in test_df.iterrows(): # go through each test document\n",
    "  document = row['Message']\n",
    "  true_category = row['Category'] # ground truth\n",
    "\n",
    "  # Probability of this doc given spam\n",
    "  p_spam = P_spam\n",
    "  for word in re.split(r\"\\W+\", document):\n",
    "    p_spam *= (spam_word_count.get(word, 0) + 1) / (len_spam_vocab + V)\n",
    "\n",
    "  # Probability of this doc given ham\n",
    "  p_ham = P_ham\n",
    "  for word in re.split(r\"\\W+\", document):\n",
    "    p_ham *= (ham_word_count.get(word, 0) + 1) / (len_ham_vocab + V)\n",
    "\n",
    "  # Check which probability is higher\n",
    "  if p_spam > p_ham:\n",
    "    output_category = 'spam'\n",
    "  else:\n",
    "    output_category = 'ham'\n",
    "\n",
    "  # Calculate confusion matrix\n",
    "  if output_category == 'spam' and true_category == 'spam':\n",
    "    TP += 1\n",
    "  elif output_category == 'ham' and true_category == 'ham':\n",
    "    TN += 1\n",
    "  elif output_category == 'spam' and true_category == 'ham':\n",
    "    FP += 1\n",
    "  elif output_category == 'ham' and true_category == 'spam':\n",
    "    FN += 1\n",
    "\n",
    "# Print results\n",
    "print(f'TP: {TP}, TN: {TN}, FP: {FP}, FN: {FN}')\n",
    "print(f'Accuracy: {(TP + TN) / (TP + TN + FP + FN)}')\n",
    "print(f'Precision: {TP / (TP + FP)}')\n",
    "print(f'Recall: {TP / (TP + FN)}')\n",
    "print(f'F1: {2 * TP / (2 * TP + FP + FN)}')\n",
    "print()"
   ]
  },
  {
   "cell_type": "markdown",
   "metadata": {
    "id": "7k2MpCmGgVdk"
   },
   "source": [
    "# Step 3: TF-idf By hand\n",
    "## Step 3.1: Preprocessing the dataframe"
   ]
  },
  {
   "cell_type": "code",
   "execution_count": null,
   "metadata": {
    "id": "lM95cZqigVdk"
   },
   "outputs": [],
   "source": [
    "df['Category'] = df['Category'].map({'ham': 0, 'spam': 1})\n",
    "\n",
    "train_texts, test_texts, train_labels, test_labels = train_test_split(df['Message'], df['Category'], test_size=0.2)"
   ]
  },
  {
   "cell_type": "markdown",
   "metadata": {
    "id": "RlAj-a68gVdk"
   },
   "source": [
    "## Step 3.2: Build TF-idf"
   ]
  },
  {
   "cell_type": "code",
   "execution_count": null,
   "metadata": {
    "colab": {
     "base_uri": "https://localhost:8080/"
    },
    "id": "QqSUVfjVgVdk",
    "outputId": "d3b8a2cd-4583-49af-8595-bfec060f62c3"
   },
   "outputs": [
    {
     "name": "stdout",
     "output_type": "stream",
     "text": [
      "Counter({'': 2679, 'i': 2457, 'you': 1788, 'to': 1782, 'a': 1184, 'the': 1057, 'u': 957, 'and': 797, 'in': 721, 'is': 688, 'me': 633, 'my': 617, 'for': 557, 'it': 557, 'your': 555, 'of': 507, 'call': 482, 'have': 478, 'that': 469, 's': 468, 'on': 439, '2': 423, 'now': 407, 't': 388, 'are': 387, 'can': 383, 'so': 378, 'm': 361, 'but': 356, 'not': 351, 'at': 338, 'we': 327, 'or': 326, 'ur': 323, 'do': 322, 'be': 320, 'get': 318, 'if': 312, 'just': 308, 'with': 306, 'will': 303, 'no': 292, 'gt': 276, 'lt': 272, 'this': 270, '4': 263, 'up': 255, 'how': 244, 'go': 238, 'what': 235, 'from': 234, 'ok': 229, 'out': 224, 'free': 224, 'll': 224, 'all': 224, 'when': 223, 'know': 204, 'good': 200, 'he': 196, 'day': 196, 'then': 195, 'was': 194, 'there': 190, 'like': 190, 'come': 187, 'got': 183, 'am': 182, 'its': 182, 'time': 180, 'love': 180, 'only': 179, 'want': 166, 'text': 157, 'send': 150, 'as': 150, 'about': 144, 'she': 143, 'txt': 142, 'going': 140, 'one': 140, 'ü': 140, 'today': 140, 'by': 139, '1': 136, 'n': 136, 'r': 133, 'sorry': 132, 'need': 130, 'back': 127, 'don': 126, 'see': 122, 'home': 122, 'd': 121, 'lor': 120, 'still': 120, 'our': 119, 'da': 119, 'dont': 118, 'stop': 118, 'k': 116, 'mobile': 115, 'pls': 115, 'her': 114, 'tell': 114, 'later': 114, 'please': 114, 'take': 113, 'new': 113, 'been': 113, 'reply': 110, 'they': 109, 'did': 108, 'hi': 108, 'week': 107, 'think': 105, 'c': 105, 'any': 105, 'here': 99, 'phone': 98, 'dear': 98, 'who': 98, 'oh': 97, 'night': 96, 'some': 96, 'has': 96, 'happy': 96, 'claim': 94, 'an': 93, 'hope': 93, 'hey': 93, 'well': 91, 'much': 91, 'where': 90, 're': 89, 'him': 89, '3': 89, 'great': 88, 'more': 87, 'msg': 86, 'too': 86, 'had': 85, 'make': 84, 'way': 83, 'yes': 83, 've': 82, 'number': 82, 'www': 80, 'give': 80, 'amp': 79, 'should': 79, 'wat': 79, 'right': 78, 'work': 77, 'say': 77, 'ask': 77, 'after': 77, 'e': 76, 'won': 76, 'prize': 75, 'already': 74, 'said': 73, 'tomorrow': 72, 'why': 71, 'cash': 70, 'b': 70, 'last': 69, 'message': 69, 'yeah': 69, 'doing': 69, 'meet': 69, 'life': 68, 'im': 68, 'anything': 68, 'morning': 68, 'them': 66, 'find': 66, 'really': 65, 'would': 64, 'win': 64, 'thanks': 63, 'miss': 62, 'very': 61, 'sure': 61, 'keep': 60, 'nokia': 60, 'urgent': 60, 'every': 60, 'babe': 59, 'uk': 59, 'pick': 59, 'wait': 58, 'went': 57, 'cos': 57, 'com': 56, 'first': 56, 'thing': 56, 'let': 56, 'feel': 55, 'even': 55, 'contact': 55, 'lol': 54, 'care': 54, 'min': 53, 'cant': 53, '5': 53, '150p': 52, 'something': 52, '50': 52, 'before': 51, 'tonight': 51, 'sent': 51, 'gud': 51, 'v': 50, 'special': 50, 'x': 50, 'tone': 49, 'place': 49, 'soon': 49, '16': 49, 'late': 48, 'were': 48, 'friends': 48, 'many': 48, 'us': 48, 'over': 48, 'may': 48, 'also': 48, 'his': 48, 'buy': 48, 'down': 47, 'customer': 47, 'per': 47, 'money': 47, 'which': 47, 'sleep': 47, 'around': 47, 'again': 47, 'off': 46, 'nice': 46, 'told': 46, 'someone': 46, 'chat': 46, 'always': 46, 'same': 45, 'co': 45, 'hello': 45, 'ya': 45, 'could': 44, 'help': 44, 'wish': 44, 'friend': 44, 'service': 43, 'year': 43, 'dun': 43, 'sms': 42, 'gonna': 42, 'next': 42, 'wan': 42, 'thk': 42, 'name': 42, 'haha': 41, 'didn': 41, 'people': 41, 'god': 41, 'getting': 41, '6': 41, 'smile': 40, '18': 40, 'things': 40, 'leave': 40, 'guaranteed': 40, 'waiting': 40, 'holiday': 40, 'done': 39, 'try': 39, 'yet': 39, 'use': 39, 'bit': 39, 'y': 38, 'thought': 38, 'person': 38, 'talk': 38, 'mins': 38, 'being': 38, 'class': 37, 'thats': 37, 'yup': 37, 'coming': 37, 'fine': 37, '7': 37, 'lunch': 37, 'cost': 37, 'other': 36, 'draw': 36, 'line': 36, 'trying': 36, 'few': 36, 'best': 35, 'cool': 35, 'meeting': 35, 'job': 35, 'receive': 35, '1000': 35, 'never': 35, 'finish': 35, 'stuff': 35, 'cs': 35, 'world': 35, 'sir': 35, 'play': 35, 'live': 35, 'box': 34, 'long': 34, 'mind': 34, 'man': 34, 'better': 34, 'dat': 33, 'guys': 33, '1st': 33, 'having': 33, 'check': 33, 'another': 33, 'ready': 33, 'days': 33, 'liao': 33, 'ill': 33, '100': 33, 'luv': 33, 'because': 32, 'wanna': 32, '10': 32, 'heart': 32, 'wk': 32, 'end': 32, '500': 31, 'po': 31, 'problem': 31, 'guess': 31, 'might': 31, 'awarded': 31, 'xxx': 31, 'sweet': 31, 'house': 31, 'account': 31, 'nothing': 31, 'lot': 30, 'enjoy': 30, 'shit': 30, 'than': 30, 'eat': 30, 'shows': 30, 'car': 30, 'pay': 30, 'once': 29, 'wont': 29, 'minutes': 29, 'latest': 29, 'half': 29, 'bad': 29, 'aight': 29, '150ppm': 29, 'word': 29, 'yo': 29, 'early': 28, 'jus': 28, 'afternoon': 28, 'bt': 28, 'ringtone': 28, 'chance': 28, 'speak': 28, 'real': 28, 'office': 28, 'birthday': 28, 'video': 28, 'lar': 28, 'calls': 28, 'ah': 27, 'plan': 27, 'award': 27, 'called': 27, 'landline': 27, 'tv': 27, 'reach': 27, 'room': 27, 'does': 27, 'offer': 27, 'true': 27, 'watch': 27, 'den': 26, 'those': 26, 'shall': 26, 'sat': 26, 'start': 26, 'ever': 26, 'hear': 26, 'selected': 26, 'watching': 26, 'dinner': 26, 'camera': 26, 'part': 26, 'princess': 26, 'girl': 26, 'into': 26, 'two': 26, 'shopping': 26, 'month': 26, 'probably': 25, 'anyway': 25, 'while': 25, 'made': 25, 'didnt': 25, 'rate': 25, 'forgot': 25, 'dunno': 25, 'apply': 25, 'face': 25, 'actually': 25, 'big': 25, '9': 25, 'says': 25, 'code': 25, 'maybe': 25, 'quite': 25, 'hour': 25, '2nd': 24, 'easy': 24, 'means': 24, 'orange': 24, 'between': 24, '000': 24, 'thanx': 24, 'little': 24, 'xmas': 24, 'without': 24, 'sexy': 24, 'asked': 24, 'bed': 24, 'pa': 24, 'wife': 24, 'school': 23, 'kiss': 23, 'important': 23, 'weekend': 23, 'texts': 23, 'yesterday': 23, 'thank': 23, 'most': 23, 'wif': 23, 'dad': 23, 'everything': 23, 'wanted': 23, 'collection': 23, 'bus': 23, 'valid': 23, '2000': 23, 'g': 23, 'boy': 22, 'enough': 22, 'til': 22, 'left': 22, 'haven': 22, 'de': 22, 'hav': 22, 'okay': 22, 'came': 22, 'collect': 22, 'remember': 22, 'join': 22, 'until': 22, 'music': 22, 'looking': 22, 'mail': 22, 'decimal': 22, 'leh': 22, 'network': 21, 'wake': 21, 'messages': 21, 'havent': 21, 'else': 21, 'show': 21, 'abt': 21, 'coz': 21, 'shop': 21, 'entry': 21, 'since': 21, 'times': 21, 'hurt': 21, 'evening': 21, 'run': 21, 'fuck': 21, 'plz': 21, 'dis': 21, 'friendship': 21, 'price': 21, 'gift': 21, 'wid': 21, '8': 21, 'haf': 21, 'tmr': 21, 'makes': 21, 'missed': 20, 'must': 20, 'goes': 20, 'fun': 20, 'these': 20, 'working': 20, '10p': 20, '5000': 20, 'hair': 20, 'alright': 20, 'yours': 20, 'wen': 20, 'food': 20, 'guy': 20, 'o': 20, 'saw': 20, 'ard': 20, 'baby': 20, 'till': 20, 'bring': 20, 'test': 19, 'huh': 19, 'either': 19, 'look': 19, 'away': 19, 'able': 19, 'trip': 19, 'tot': 19, 'family': 19, 'weekly': 19, 'address': 19, 'attempt': 19, 'words': 19, 'await': 19, 'sae': 19, 'update': 19, 'games': 19, 'town': 19, 'question': 19, 'top': 19, 'pain': 19, 'sch': 19, 'feeling': 19, 'net': 19, 'dreams': 19, 'put': 19, 'both': 18, 'mob': 18, 'calling': 18, 'http': 18, 'hours': 18, 'game': 18, 'auction': 18, 'todays': 18, 'wants': 18, 'comes': 18, 'post': 18, 'years': 18, 'bored': 18, 'online': 18, 'smiling': 18, 'lei': 18, 'goin': 18, 'beautiful': 18, 'head': 18, 'missing': 18, 'juz': 17, 'found': 17, 'full': 17, 'national': 17, 'hot': 17, 'movie': 17, 'happen': 17, 'started': 17, 'order': 17, 'id': 17, 'details': 17, 'date': 17, 'delivery': 17, 'plus': 17, 'charge': 17, 'colour': 17, '800': 17, 'land': 17, 'book': 17, 'worry': 17, 'story': 17, 'wot': 17, 'awesome': 17, 'though': 17, 'vouchers': 17, 'leaving': 17, 'congrats': 17, 'together': 17, 'nite': 17, 'simple': 17, 'stay': 17, 'club': 17, '12hrs': 17, 'double': 17, 'tomo': 17, 'tones': 17, 'yourself': 17, 'mean': 16, 'lets': 16, '8007': 16, 'nt': 16, 'okie': 16, 'mum': 16, 'took': 16, '750': 16, 'drive': 16, 'driving': 16, 'angry': 16, 'pub': 16, 'row': 16, 'wonderful': 16, 'touch': 16, 'dude': 16, 'alone': 16, 'ha': 16, 'pm': 16, 'sleeping': 16, 'busy': 16, 'believe': 16, 'taking': 16, '86688': 15, 'visit': 15, 'loving': 15, 'ring': 15, 'services': 15, 'tried': 15, 'oso': 15, 'wit': 15, 'xx': 15, 'news': 15, 'bonus': 15, 'eve': 15, 'sister': 15, 'email': 15, 'each': 15, 'old': 15, '150': 15, 'pobox': 15, 'gr8': 15, 'choose': 15, 'final': 15, 'kind': 15, 'rite': 15, 'walk': 15, 'far': 15, '11': 15, 'lovely': 15, 'pics': 15, 'anyone': 15, 'sad': 15, 'weeks': 15, 'change': 15, 'making': 15, 'smoke': 15, 'quiz': 15, 'close': 15, 'boytoy': 15, 'parents': 15, 'sea': 14, 'finished': 14, 'whats': 14, 'cause': 14, 'bout': 14, 'gd': 14, 'lucky': 14, 'chikku': 14, 'unsubscribe': 14, 'anytime': 14, 'earlier': 14, 'thinking': 14, 'smth': 14, 'break': 14, 'open': 14, 'saying': 14, 'whatever': 14, 'needs': 14, 'points': 14, 'voucher': 14, 'mates': 14, 'crazy': 14, 'set': 14, 'carlos': 14, 'answer': 14, 'ni8': 14, 'wil': 14, 'winner': 14, 'ltd': 14, 'pic': 14, 'rs': 14, 'private': 14, 'secret': 14, 'lesson': 14, 'noe': 14, '350': 14, 'minute': 14, 'doesn': 14, 'tho': 14, 'pounds': 13, 'course': 13, 'opt': 13, 'fucking': 13, 'gone': 13, 'decided': 13, 'nope': 13, 'fast': 13, 'company': 13, 'aft': 13, 'available': 13, 'girls': 13, 'hmm': 13, 'hold': 13, 'mine': 13, 'reason': 13, 'dating': 13, 'mom': 13, 'worth': 13, 'brother': 13, 'thinks': 13, 'fri': 13, 'frnds': 13, 'invited': 13, 'second': 13, 'type': 13, 'saturday': 13, 'drop': 13, 'party': 13, '250': 13, 'blue': 13, 'friday': 12, 'operator': 12, 'poly': 12, 'tel': 12, 'unlimited': 12, 'sex': 12, 'lots': 12, 'case': 12, 'gas': 12, 'p': 12, 'prob': 12, 'surprise': 12, 'ugh': 12, 'drink': 12, 'gal': 12, 'hand': 12, 'suite342': 12, '2lands': 12, 'finally': 12, 'hard': 12, 'happiness': 12, 'hit': 12, 'valued': 12, 'mu': 12, 'everyone': 12, 'expires': 12, 'press': 12, '08000930705': 12, 'na': 12, 'search': 12, 'met': 12, 'sis': 12, 'christmas': 12, 'neva': 12, 'lose': 12, 'mah': 12, 'ten': 12, 'fancy': 12, 'w': 12, 'bank': 12, 'freemsg': 12, 'darlin': 12, 'college': 12, 'doin': 12, 'darren': 12, 'wrong': 12, 'felt': 12, 'seen': 12, 'numbers': 12, 'point': 12, 'player': 12, 'oredi': 12, 'currently': 11, 'side': 11, 'mrng': 11, 'sun': 11, 'hungry': 11, 'least': 11, 'sounds': 11, 'luck': 11, 'info': 11, 'jay': 11, 'sort': 11, '03': 11, 'card': 11, 'heard': 11, 'lost': 11, 'std': 11, 'listen': 11, 'nyt': 11, 'happened': 11, 'picking': 11, 'caller': 11, 'tc': 11, 'rest': 11, 'b4': 11, 'forget': 11, 'th': 11, 'support': 11, 'rock': 11, 'complimentary': 11, '0800': 11, 'identifier': 11, 'congratulations': 11, 'wkly': 11, '87066': 11, 'talking': 11, 'camcorder': 11, 'ends': 11, 'reading': 11, 'frnd': 11, 'area': 11, 'dnt': 11, 'john': 11, 'st': 11, 'meant': 11, 'statement': 11, 'swing': 11, 'hmmm': 11, 'goodmorning': 11, 'content': 11, 'crave': 11, 'mr': 11, 'police': 11, 'snow': 11, 'motorola': 11, 'whole': 11, 'isn': 11, 'txts': 11, 'mobileupd8': 11, '08000839402': 11, 'outside': 11, 'difficult': 11, 'cut': 11, 'couple': 11, 'india': 11, 'msgs': 11, 'computer': 11, 'balance': 10, 'grins': 10, 'song': 10, 'woke': 10, 'bath': 10, 'askd': 10, 'their': 10, 'welcome': 10, '200': 10, 'yr': 10, 'monday': 10, 'credit': 10, 'log': 10, 'wasn': 10, 'within': 10, 'wana': 10, 'gn': 10, 'sell': 10, 'used': 10, 'read': 10, 'pray': 10, 'mobiles': 10, 'mate': 10, 'tired': 10, 'usual': 10, 'em': 10, 'knew': 10, 'hows': 10, 'understand': 10, 'supposed': 10, 'shower': 10, 'gotta': 10, 'txting': 10, 'rental': 10, 'callertune': 10, 'uncle': 10, 'tickets': 10, 'f': 10, 'etc': 10, 'ge': 10, 'yar': 10, 'wonder': 10, 'savamob': 10, 'offers': 10, 'stupid': 10, 'confirm': 10, 'somebody': 10, 'bill': 10, 'pete': 10, 'father': 10, 'extra': 10, 'ass': 10, 'march': 10, '2003': 10, '04': 10, 'wow': 10, 'wine': 10, 'match': 10, 'clean': 10, 'reveal': 10, 'hospital': 9, 'park': 9, 'muz': 9, 'takes': 9, 'cheap': 9, 'starts': 9, 'information': 9, 'fantastic': 9, 'ex': 9, 'through': 9, 'hw': 9, 'charged': 9, 'orchard': 9, 'chennai': 9, 'coffee': 9, 'project': 9, 'ipod': 9, 'fr': 9, 'energy': 9, 'cum': 9, 'drugs': 9, 'asap': 9, 'gave': 9, 'ago': 9, 'dream': 9, 'joy': 9, 'otherwise': 9, 'light': 9, 'asking': 9, '900': 9, 'sound': 9, 'voice': 9, 'kate': 9, 'using': 9, 'accept': 9, 'rply': 9, 'frm': 9, 'oops': 9, 'copy': 9, 'almost': 9, 'weed': 9, 'empty': 9, 'gettin': 9, 'king': 9, 'eh': 9, 'seeing': 9, '20': 9, 'plans': 9, 'knw': 9, 'valentines': 9, 'treat': 9, 'merry': 9, 'mayb': 9, 'glad': 9, 'laptop': 9, 'semester': 9, 'summer': 9, '2nite': 9, 'comin': 9, 'discount': 9, 'mrt': 9, 'enter': 9, 'xy': 9, 'pretty': 9, 'mm': 9, 'reaching': 9, 'un': 9, 'redeemed': 9, 'hee': 9, 'deep': 9, 'age16': 9, 'across': 9, 'brings': 9, 'loved': 9, 'noon': 9, 'correct': 9, 'admirer': 9, 'blood': 9, 'red': 9, 'store': 9, 'loads': 9, 'al': 9, 'fone': 8, 'download': 8, 'pass': 8, 'moral': 8, 'move': 8, 'abiola': 8, '00': 8, 'round': 8, '2day': 8, 'awaiting': 8, 'reference': 8, 'mon': 8, 'comp': 8, 'paying': 8, 'laugh': 8, 'spend': 8, 'gym': 8, 'urself': 8, 'bcoz': 8, 'reached': 8, 'bathe': 8, 'funny': 8, 'hg': 8, 'specially': 8, 'nobody': 8, 'decide': 8, 'ho': 8, 'sitting': 8, 'rain': 8, 'wishing': 8, 'miracle': 8, 'tonite': 8, 'paper': 8, 'normal': 8, 'eyes': 8, 'w1j6hl': 8, 'weight': 8, 'cd': 8, 'no1': 8, 'getzed': 8, 'request': 8, 'deal': 8, 'die': 8, 'worried': 8, 'ip4': 8, '5we': 8, 'forever': 8, 'lazy': 8, 'study': 8, 'lovable': 8, 'others': 8, 'yrs': 8, 'yep': 8, 'rakhesh': 8, 'terms': 8, 'del': 8, 'weekends': 8, 'fact': 8, 'moment': 8, 'own': 8, 'months': 8, 'telling': 8, 'booked': 8, 'link': 8, 'men': 8, 'thinkin': 8, 'tampa': 8, 'sp': 8, 'wondering': 8, 'promise': 8, 'poor': 8, 'immediately': 8, 'whenever': 8, 'remove': 8, 'planning': 8, 'boss': 8, 'exam': 8, 'rent': 8, 'direct': 8, 'less': 8, 'somewhere': 8, '3030': 8, 'ts': 8, 'cake': 8, 'south': 8, 'alex': 8, 'save': 8, 'water': 8, 'call2optout': 8, 'ending': 8, 'idea': 8, 'worries': 8, 'sony': 8, 'ntt': 8, '50p': 8, 'situation': 8, 'sunshine': 8, 'slowly': 8, 'facebook': 8, '12': 8, 'ive': 8, 'safe': 8, 'reward': 8, 'sofa': 8, 'colleagues': 8, 'wednesday': 7, 'biz': 7, 'moon': 7, 'children': 7, 'rose': 7, 'doesnt': 7, 'spent': 7, 'feb': 7, '06': 7, 'pound': 7, 'gay': 7, '08712460324': 7, 'mark': 7, 'knows': 7, 'ice': 7, 'user': 7, 'onto': 7, 'workin': 7, 'pleasure': 7, 'players': 7, 'picked': 7, 'aha': 7, 'kept': 7, 'checking': 7, 'fault': 7, 'honey': 7, 'nigeria': 7, 'past': 7, 'film': 7, 'cal': 7, 'omg': 7, 'menu': 7, 'anymore': 7, 'seriously': 7, 'train': 7, 'future': 7, 'ac': 7, 'sub': 7, 'hiya': 7, 'under': 7, 'slow': 7, 'maid': 7, 'murderer': 7, 'murdered': 7, 'january': 7, 'damn': 7, 'happening': 7, 'eatin': 7, 'myself': 7, 'buying': 7, 'lover': 7, '4u': 7, 'ldew': 7, '36504': 7, 'phones': 7, 'sense': 7, 'freephone': 7, 'seems': 7, 'starting': 7, '3g': 7, 'bx420': 7, 'sim': 7, 'kallis': 7, 'frens': 7, 'near': 7, 'door': 7, 'country': 7, 'eg': 7, 'ldn': 7, 'iam': 7, 'fingers': 7, 'cinema': 7, 'cute': 7, 'learn': 7, 'advance': 7, 'via': 7, 'married': 7, 'sick': 7, 'sight': 7, 'flirt': 7, 'sk38xh': 7, 'black': 7, 'member': 7, 'vl': 7, 'station': 7, 'quick': 7, 'bslvyl': 7, 'credits': 7, 'wap': 7, 'pizza': 7, 'ans': 7, 'wishes': 7, 'gets': 7, 'comuk': 7, 'kids': 7, 'dogging': 7, 'kinda': 7, 'road': 7, 'hai': 7, 'doctor': 7, 'convey': 7, 'towards': 7, 'bedroom': 7, 'mood': 7, 'buzz': 7, 'cheers': 7, 'entered': 7, 'apartment': 7, 'naughty': 7, 'unsub': 7, 'dvd': 7, 'bid': 7, 'cup': 7, 'pix': 7, 'rates': 7, 'england': 7, 'sending': 7, 'truth': 7, 'single': 7, 'catch': 7, 'cancel': 7, 'unless': 7, 'experience': 7, 'bluetooth': 7, '20p': 7, 'arrive': 7, 'goto': 7, 'leaves': 7, 'ringtones': 7, 'bb': 7, 'write': 7, 'team': 7, 'custcare': 7, 'warm': 7, 'insurance': 7, '82277': 7, 'stand': 7, 'ahead': 7, 'naked': 7, 'realy': 7, 'itself': 7, 'sky': 7, 'hmv': 7, 'maximize': 6, '08718720201': 6, 'simply': 6, 'app': 6, '25p': 6, 'charity': 6, 'polys': 6, 'walking': 6, 'tuesday': 6, 'dog': 6, 'confidence': 6, 'wer': 6, 'sit': 6, 'students': 6, 'dey': 6, 'forwarded': 6, 'matches': 6, 'giving': 6, 'fall': 6, 'asleep': 6, 'hoping': 6, 'scream': 6, 'add': 6, 'bak': 6, 'bucks': 6, 'fixed': 6, 'urawinner': 6, 'imma': 6, 'cold': 6, 'hurts': 6, 'tea': 6, 'sunday': 6, 'definitely': 6, 'informed': 6, 'digital': 6, 'added': 6, 'fullonsms': 6, 'jst': 6, 'return': 6, 'loves': 6, 'izzit': 6, '86021': 6, '02': 6, 'hotel': 6, 'slept': 6, 'different': 6, 'o2': 6, 'il': 6, 'omw': 6, 'goodnight': 6, 'battery': 6, 'died': 6, 'sometimes': 6, 'become': 6, 'texting': 6, 'armand': 6, 'five': 6, 'fat': 6, 'replied': 6, 'role': 6, 'sunny': 6, 'envelope': 6, 'tenerife': 6, 'nature': 6, 'marriage': 6, 'closed': 6, 'including': 6, 'none': 6, 'loan': 6, 'figure': 6, 'interested': 6, 'ave': 6, 'cell': 6, 'w45wq': 6, 'norm150p': 6, '11mths': 6, 'melle': 6, 'recently': 6, '150pm': 6, 'tear': 6, 'waste': 6, 'usf': 6, 'weather': 6, '87077': 6, 'kick': 6, 'liked': 6, 'created': 6, 'strong': 6, 'mother': 6, 'excellent': 6, 'short': 6, 'exciting': 6, 'tat': 6, 'askin': 6, 'replying': 6, 'plenty': 6, 'style': 6, 'lect': 6, 'lmao': 6, 'running': 6, 'changed': 6, '25': 6, 'costa': 6, 'sol': 6, '09050090044': 6, 'toclaim': 6, 'pobox334': 6, 'stockport': 6, 'max10mins': 6, 'excuse': 6, 'hop': 6, 'silent': 6, 'brand': 6, 'meh': 6, 'april': 6, 'cine': 6, 'login': 6, 'hurry': 6, 'rcvd': 6, 'q': 6, 'boys': 6, 'training': 6, 'flower': 6, 'wiv': 6, 'qatar': 6, 'alrite': 6, 'fyi': 6, 'power': 6, 'trouble': 6, 'sed': 6, 'loverboy': 6, 'cover': 6, 'holla': 6, 'bother': 6, 'meaning': 6, 'page': 6, 'street': 6, 'tough': 6, 'questions': 6, 'yay': 6, 'process': 6, 'flag': 6, 'nah': 6, 'website': 6, 'age': 6, 'spoke': 6, 'appreciate': 6, 'matter': 6, 'horny': 6, 'ar': 6, 'sign': 6, 'possible': 6, '0870': 6, 'happens': 6, 'slave': 6, 'paid': 6, 'ended': 6, 'vodafone': 6, 'bold': 6, 'ahmad': 6, 'pc': 6, 'medical': 6, 'library': 6, 'tour': 6, 'representative': 6, 'high': 6, 'daddy': 6, 'umma': 6, 'present': 6, 'j': 6, 'ate': 6, 'spree': 6, '30': 6, 'arcade': 6, 'complete': 6, 'hell': 6, 'law': 6, 'studying': 6, 'mode': 6, 'cafe': 6, 'amazing': 6, 'during': 6, 'thru': 6, 'depends': 6, 'joined': 6, 'screaming': 6, 'cc': 5, '80488': 5, 'posted': 5, 'fetch': 5, 'urgnt': 5, 'aftr': 5, 'hun': 5, 'sale': 5, 'cheaper': 5, 'travel': 5, 'rather': 5, 'completely': 5, 'aiyo': 5, 'gee': 5, 'sura': 5, 'unsold': 5, 'salary': 5, 'worse': 5, 'centre': 5, 'instead': 5, 'willing': 5, 'ignore': 5, 'results': 5, 'daily': 5, 'list': 5, 'movies': 5, 'feels': 5, 'ma': 5, 'wherever': 5, 'cud': 5, 'valentine': 5, 'dint': 5, '2004': 5, 'bitch': 5, 'english': 5, 'romantic': 5, 'nights': 5, 'chinese': 5, 'ones': 5, 'kano': 5, 'hrs': 5, 'airport': 5, 'opportunity': 5, 'opinion': 5, 'model': 5, 'remind': 5, 'torch': 5, 'sup': 5, 'aathi': 5, 'tuition': 5, 'flights': 5, 'la': 5, 'tncs': 5, 'returns': 5, 'callers': 5, 'shouldn': 5, 'ish': 5, 'announcement': 5, 'handset': 5, 'dropped': 5, 'space': 5, 'buns': 5, 'videophones': 5, 'videochat': 5, 'java': 5, 'dload': 5, 'noline': 5, 'rentl': 5, 'system': 5, 'evng': 5, 'wed': 5, '8th': 5, 'din': 5, 'sec': 5, 'social': 5, 'season': 5, 'xchat': 5, 'aiyah': 5, 'kerala': 5, 'respect': 5, 'loyalty': 5, 'gap': 5, 'holding': 5, 'earth': 5, 'wnt': 5, 'planned': 5, 'whether': 5, 'gals': 5, 'discuss': 5, 'activate': 5, 'ride': 5, '4th': 5, 'entitled': 5, 'jordan': 5, 'yest': 5, 'track': 5, 'hella': 5, '85023': 5, 'boo': 5, 'belly': 5, 'cry': 5, 'registered': 5, 'share': 5, 'lessons': 5, 'themob': 5, 'selection': 5, 'babes': 5, 'ran': 5, 'geeee': 5, 'murder': 5, 'brilliant': 5, 'works': 5, 'disturb': 5, 'inclusive': 5, '08712300220': 5, 'photo': 5, 'contract': 5, 'tariffs': 5, 'everybody': 5, 'thnk': 5, 'cancer': 5, 'checked': 5, 'mistake': 5, 'ym': 5, 'wun': 5, 'sonyericsson': 5, 'minuts': 5, 'latr': 5, 'hopefully': 5, 'inc': 5, 'shd': 5, 'quality': 5, 'cabin': 5, 'mite': 5, 'longer': 5, 'lift': 5, 'budget': 5, 'london': 5, 'gives': 5, 'thursday': 5, 'shuhui': 5, 'eating': 5, 'joking': 5, 'imagine': 5, 'nvm': 5, 'transaction': 5, 'standard': 5, 'anybody': 5, 'notice': 5, 'greet': 5, 'password': 5, 'exactly': 5, 'l8r': 5, 'allah': 5, 'swt': 5, 'bye': 5, 'partner': 5, 'access': 5, 'staying': 5, 'inside': 5, 'pictures': 5, 'tyler': 5, 'roommate': 5, 'pin': 5, 'cuz': 5, 'nxt': 5, 'ppl': 5, '1327': 5, 'croydon': 5, 'cr9': 5, '5wb': 5, 'looks': 5, 'tm': 5, 'internet': 5, 'rays': 5, 'mp3': 5, 'turns': 5, 'showing': 5, 'super': 5, 'isnt': 5, 'holder': 5, 'surfing': 5, 'deliver': 5, 'thurs': 5, 'childish': 5, 'vikky': 5, 'small': 5, 'self': 5, 'cars': 5, 'moan': 5, 'twice': 5, 'nimya': 5, 'lik': 5, 'mad': 5, 'expecting': 5, 'joke': 5, 'current': 5, 'mid': 5, 'ta': 5, 'vary': 5, 'expensive': 5, 'costs': 5, 'mo': 5, '400': 5, 'green': 5, 'boost': 5, 'especially': 4, 'w1': 4, 'yun': 4, 'zed': 4, 'choice': 4, 'rd': 4, 'behind': 4, 'sighs': 4, 'height': 4, 'plane': 4, 'spending': 4, 'derek': 4, 'sen': 4, 'broke': 4, '2mrw': 4, 'cream': 4, 'url': 4, 'reasons': 4, 'ru': 4, 'surely': 4, 'competition': 4, 'sept': 4, 'euro2004': 4, 'sipix': 4, 'pages': 4, 'advice': 4, 'basically': 4, 'obviously': 4, '7250i': 4, 'w1jhl': 4, '2optout': 4, 'fix': 4, 'bag': 4, 'vijay': 4, 'fren': 4, 'santa': 4, '3mins': 4, 'unable': 4, 'accidentally': 4, 'lemme': 4, 'technical': 4, 'putting': 4, 'pleased': 4, 'following': 4, 'bloomberg': 4, 'note': 4, 'looked': 4, '62468': 4, 'vip': 4, 'takin': 4, 'grand': 4, 'public': 4, 'govt': 4, 'instituitions': 4, 'lecture': 4, 'waking': 4, 'sport': 4, 'radio': 4, 'legal': 4, 'issues': 4, 'sore': 4, 'dead': 4, 'respond': 4, 'belovd': 4, 'enemy': 4, 'bday': 4, 'cds': 4, 'oru': 4, 'wylie': 4, 'btw': 4, 'beer': 4, '542': 4, 'appt': 4, 'guide': 4, 'deleted': 4, 'hands': 4, 'against': 4, 'group': 4, 'hook': 4, 'msgrcvdhg': 4, 'ticket': 4, 'gaps': 4, 'losing': 4, 'throw': 4, 'passed': 4, 'machan': 4, 'awake': 4, 'pilates': 4, 'football': 4, 'mas': 4, 'theatre': 4, 'conditions': 4, 'wouldn': 4, 'bright': 4, 'raise': 4, 'wonders': 4, '7th': 4, '6th': 4, '5th': 4, 'personality': 4, '3rd': 4, 'singles': 4, 'optout': 4, 'rem': 4, 'bugis': 4, 'delivered': 4, 'credited': 4, 'acc': 4, 'totally': 4, 'aiyar': 4, 'raining': 4, 'ttyl': 4, 'subscription': 4, 'cartoon': 4, 'listening': 4, 'temple': 4, 'jazz': 4, 'usually': 4, 'pussy': 4, 'hl': 4, 'solve': 4, 'cook': 4, 'cooking': 4, 'arrested': 4, 'adult': 4, 'tis': 4, 'tb': 4, 'interesting': 4, 'leona': 4, 'forward': 4, 'cat': 4, 'txtauction': 4, 'lonely': 4, 'argument': 4, 'amount': 4, 'moms': 4, 'cannot': 4, 'ad': 4, 'born': 4, 'regards': 4, 'dem': 4, 'yoga': 4, 'wanting': 4, 'weird': 4, 'timing': 4, 'pg': 4, 'aint': 4, '1000s': 4, '440': 4, 'girlfrnd': 4, 'h': 4, 'heavy': 4, 'site': 4, '87131': 4, 'lead': 4, 'pongal': 4, 'local': 4, '8552': 4, 'sam': 4, 'voda': 4, 'quoting': 4, 'official': 4, 'eng': 4, 'yan': 4, 'jiu': 4, '3510i': 4, '300': 4, '2moro': 4, 'wats': 4, 'fb': 4, 'ordered': 4, 'fml': 4, 'membership': 4, 'hug': 4, 'persons': 4, 'embarassed': 4, 'directly': 4, 'oz': 4, 'scared': 4, 'fantasy': 4, 'dollars': 4, '530': 4, 'roger': 4, 'body': 4, 'career': 4, 'marry': 4, 'fantasies': 4, '08707509020': 4, 'taken': 4, 'cam': 4, 'moby': 4, 'bay': 4, 'weak': 4, 'considering': 4, 'midnight': 4, 'upset': 4, 'begin': 4, 'passionate': 4, 'whom': 4, 'spoken': 4, 'vry': 4, 'hv': 4, 'lacs': 4, 'surprised': 4, 'essential': 4, 'lab': 4, 'giv': 4, 'yuo': 4, 'tihs': 4, 'letter': 4, 'indians': 4, 'indian': 4, 'village': 4, 'exams': 4, 'barely': 4, 'bcums': 4, 'affection': 4, 'kettoda': 4, 'manda': 4, 'jesus': 4, 'straight': 4, 'december': 4, 'malaria': 4, 'ansr': 4, 'tyrone': 4, 'further': 4, 'air': 4, '10am': 4, '7pm': 4, 'er': 4, 'stopped': 4, 'prabha': 4, 'fight': 4, 'frndship': 4, 'sn': 4, 'horrible': 4, 'howz': 4, 'hunny': 4, 'relation': 4, 'except': 4, 'idiot': 4, 'intelligent': 4, 'woman': 4, 'diet': 4, 'asks': 4, 'iz': 4, 'photos': 4, 'wet': 4, 'playing': 4, 'jokes': 4, 'played': 4, '88039': 4, 'skilgme': 4, 'letters': 4, '87121': 4, 'drug': 4, 'ages': 4, 'tells': 4, 'bin': 4, 'favour': 4, 'ibiza': 4, 'living': 4, 'settings': 4, 'fill': 4, '1x150p': 4, 'mumtaz': 4, 'sometime': 4, 'uni': 4, 'sugar': 4, 'rush': 4, 'result': 4, 'version': 4, 'lady': 4, 'dry': 4, 'somethin': 4, 'waitin': 4, 'lie': 4, '9am': 4, 'report': 4, 'closer': 4, 'hols': 4, 'smokes': 4, 'sucks': 4, 'jess': 4, 'throat': 4, 'idk': 4, 'truly': 4, 'lookin': 4, 'fa': 4, 'bishan': 4, 'ache': 4, 'saved': 4, 'sooner': 4, 'teasing': 4, 'shortly': 4, 'serious': 4, 'kidz': 4, 'bahamas': 4, 'vote': 4, 'quote': 4, 'gm': 4, 'gorgeous': 4, 'however': 4, 'polyphonic': 4, 'é': 4, '114': 3, '14': 3, 'tcr': 3, 'tease': 3, '4get': 3, 'cheer': 3, 'fit': 3, 'profit': 3, 'ful': 3, 'thm': 3, 'in2': 3, 'tht': 3, 'faster': 3, 'ground': 3, 'gimme': 3, 'prospects': 3, 'wah': 3, 'ws': 3, 'alert': 3, '21': 3, 'fool': 3, 'loud': 3, 'taylor': 3, 'management': 3, 'couldn': 3, 'chosen': 3, '05': 3, 'careful': 3, 'bite': 3, 'term': 3, 'ain': 3, 'fran': 3, 'given': 3, 'thts': 3, 'violence': 3, 'handed': 3, 'onwards': 3, 'rooms': 3, 'befor': 3, 'activities': 3, 'str': 3, 'pissed': 3, 'dai': 3, 'package': 3, 'pod': 3, '80182': 3, '08452810073': 3, 'chasing': 3, 'receipt': 3, '83222': 3, 'history': 3, 'trust': 3, 'answers': 3, 'bigger': 3, 'slap': 3, 'birds': 3, 'moved': 3, 'catching': 3, '09066362231': 3, '07xxxxxxxxx': 3, '89545': 3, '087187262701': 3, '50gbp': 3, 'mtmsg18': 3, 'apologise': 3, 'bloke': 3, 'valid12hrs': 3, 'step': 3, 'brought': 3, '_': 3, 'problems': 3, 'floor': 3, 'shirt': 3, 'books': 3, 'moji': 3, 'rich': 3, 'peace': 3, 'seat': 3, 'review': 3, 'charges': 3, 'transfer': 3, 'low': 3, 'center': 3, 'argue': 3, 'released': 3, 'bags': 3, 'tirupur': 3, 'unique': 3, 'abta': 3, 'cw25wx': 3, 'ppm': 3, 'gang': 3, 'snake': 3, 'twelve': 3, 'sentence': 3, 'anythin': 3, 'refused': 3, 'suite': 3, '26': 3, 'connection': 3, 'random': 3, 'campus': 3, 'abi': 3, 'butt': 3, 'queen': 3, 'wedding': 3, 'dear1': 3, 'best1': 3, 'clos1': 3, 'lvblefrnd': 3, 'jstfrnd': 3, 'cutefrnd': 3, 'lifpartnr': 3, 'swtheart': 3, 'bstfrnd': 3, 'speed': 3, 'pobox36504w45wq': 3, 'com1win150ppmx3age16': 3, 'ummmmmaah': 3, 'university': 3, 'minnaminunginte': 3, 'nurungu': 3, 'vettam': 3, 'lousy': 3, 'wtf': 3, 'luxury': 3, 'islands': 3, 'ref': 3, 'juicy': 3, 'gossip': 3, 'hill': 3, 'adore': 3, 'boye': 3, 'searching': 3, 'yeh': 3, 'purity': 3, 'shorter': 3, 'women': 3, 'gentle': 3, 'fear': 3, 'perfect': 3, 'oic': 3, 'standing': 3, 'business': 3, 'inviting': 3, 'foreign': 3, 'stamps': 3, 'caught': 3, 'gentleman': 3, 'dignity': 3, 'upgrade': 3, 'fills': 3, '09061209465': 3, 'suprman': 3, 'matrix3': 3, 'starwars3': 3, 'ideas': 3, 'map': 3, 'tree': 3, 'karaoke': 3, 'madam': 3, 'regret': 3, 'response': 3, 'google': 3, '88600': 3, 'evn': 3, 'aiya': 3, 'claire': 3, 'remain': 3, 'maintain': 3, 'uncles': 3, 'atlanta': 3, 'august': 3, 'mall': 3, 'saucy': 3, 'celeb': 3, 'pocketbabe': 3, 'se': 3, 'havin': 3, 'answering': 3, 'flaked': 3, 'revealed': 3, '2morrow': 3, 'whos': 3, 'stars': 3, 'pobox84': 3, 'fees': 3, 'goal': 3, 'liverpool': 3, 'ph': 3, 'shame': 3, 'blame': 3, 'needed': 3, 'church': 3, 'si': 3, 'meal': 3, 'ic': 3, 'yogasana': 3, 'fifteen': 3, 'tcs': 3, 'whenevr': 3, 'txtin': 3, '4info': 3, 'american': 3, 'pie': 3, 'seemed': 3, 'celebrate': 3, 'box97n7qp': 3, 'questioned': 3, 'gardener': 3, 'vegetables': 3, 'neighbour': 3, 'locations': 3, 'ths': 3, 'iq': 3, 'ladies': 3, 'boring': 3, 'ben': 3, '3qxj9': 3, '08702840625': 3, '9ae': 3, 'understood': 3, 'records': 3, 'voicemail': 3, '09063458130': 3, 'polyph': 3, 'bat': 3, 'innings': 3, 'shut': 3, 'regular': 3, 'laid': 3, 'ec2a': 3, '84025': 3, 'handle': 3, 'exe': 3, 'skype': 3, 'promises': 3, 'captain': 3, 'sh': 3, 'inform': 3, 'places': 3, 'magical': 3, 'enuff': 3, 'iouri': 3, 'tscs': 3, 'skillgame': 3, '1winaweek': 3, '150ppermesssubscription': 3, 'suntec': 3, '09061790121': 3, '15': 3, 'ikea': 3, 'concert': 3, 'dearer': 3, 'kb': 3, 'sachin': 3, 'loss': 3, 'dresser': 3, 'goodnite': 3, 'films': 3, 'contents': 3, 'spl': 3, 'character': 3, 'value': 3, 'railway': 3, 'seven': 3, 'lines': 3, 'bathing': 3, 'purchase': 3, 'bottle': 3, 'netcollex': 3, '08717898035': 3, 'soup': 3, 'upto': 3, 'interview': 3, 'hostel': 3, 'contacted': 3, 'beyond': 3, 'u4': 3, 'rude': 3, 'yer': 3, '84199': 3, 'box39822': 3, 'w111wx': 3, 'eerie': 3, 'title': 3, 'hip': 3, 'cust': 3, 'anti': 3, 'finishing': 3, 'doors': 3, 'proof': 3, 'meds': 3, 'fish': 3, 'mths': 3, 'drunk': 3, 'freefone': 3, 'child': 3, 'insha': 3, 'jason': 3, 'meetin': 3, 'lil': 3, 'exact': 3, 'slippers': 3, 'instantly': 3, 'k52': 3, 'files': 3, 'journey': 3, 'shld': 3, 'turn': 3, 'cramps': 3, 'finishes': 3, 'xxxx': 3, 'auto': 3, 'buzy': 3, 'feelin': 3, 'three': 3, 'maneesha': 3, 'satisfied': 3, 'toll': 3, 'thanksgiving': 3, '5min': 3, 'dictionary': 3, 'pieces': 3, 'research': 3, 'teeth': 3, 'ringtoneking': 3, '82242': 3, 'blessings': 3, 'booty': 3, 'farm': 3, 'smart': 3, 'smiles': 3, 'vodka': 3, 'sorted': 3, 'hint': 3, 'tablets': 3, 'july': 3, 'macho': 3, 'six': 3, '87575': 3, 'terrible': 3, 'appointment': 3, 'falls': 3, 'collected': 3, 'outta': 3, 'stomach': 3, 'assume': 3, 'roommates': 3, 'often': 3, 'dubsack': 3, 'inches': 3, 'pink': 3, 'darling': 3, 'amt': 3, 'masters': 3, 'ron': 3, 'boat': 3, '40gb': 3, '81303': 3, 'buff': 3, '24': 3, 'bought': 3, 'relax': 3, '33': 3, 'prepare': 3, 'painful': 3, 'ese': 3, 'tlp': 3, '80062': 3, 'major': 3, 'concentrate': 3, 'cornwall': 3, '83355': 3, 'mtmsgrcvd18': 3, 'middle': 3, 'italian': 3, 'billed': 3, 'due': 3, 'l': 3, 'fever': 3, '08002986906': 3, 'aunty': 3, 'cleaning': 3, 'num': 3, 'series': 3, 'record': 3, 'teach': 3, 'mix': 3, 'accordingly': 3, 'white': 3, 'hr': 3, 'minmobsmorelkpobox177hp51fl': 3, 'swimming': 3, 'blah': 3, 'headache': 3, 'likes': 3, 'spk': 3, 'bf': 3, 'practice': 3, 'eye': 3, 'art': 3, 'sorting': 3, 'lick': 3, '88066': 3, 'shouted': 3, 'arrange': 3, 'stock': 3, 'lido': 3, 'wn': 3, '31': 3, 'easier': 3, 'ure': 3, 'hasn': 3, '21st': 3, 'eaten': 3, 'def': 3, 'itz': 3, 'yahoo': 3, '18yrs': 3, 'afraid': 3, 'comedy': 3, 'city': 3, 'tscs087147403231winawk': 3, '50perwksub': 3, 'ne': 3, 'attend': 3, 'drivin': 3, 'infernal': 3, 'coins': 3, 'preferably': 3, 'walls': 3, 'bloody': 3, 'clock': 3, 'lives': 3, 'original': 3, '80082': 3, 'gautham': 3, 'returned': 3, 'raji': 3, '434': 3, 'sk3': 3, '8wp': 3, '10k': 3, '0': 3, 'personal': 3, 'enjoyed': 3, 'taunton': 3, 'milk': 3, 'birla': 3, 'soft': 3, 'sum1': 3, 'legs': 3, 'june': 3, '08715705022': 3, 'symbol': 3, 'husband': 3, 'touched': 3, 'audition': 3, 'bein': 3, 'gently': 3, 'nw': 3, 'jan': 3, 'dare': 3, 'avent': 3, 'dress': 3, 'mnth': 3, '83600': 3, 'egg': 3, 'gona': 3, 'moments': 3, 'feet': 3, '0808': 3, '145': 3, '4742': 3, '11pm': 3, 'subs': 3, 'force': 3, 'cares': 3, 'apparently': 3, 'med': 3, 'drinks': 3, 'mt': 3, 'missin': 3, 'members': 3, 'caring': 3, 'dick': 3, 'guilty': 3, 'lifetime': 3, 'mmmm': 3, 'fair': 3, 'common': 3, 'laughing': 3, 'exhausted': 3, 'nap': 3, 'theory': 3, 'booking': 3, 'winning': 3, 'sing': 3, 'tkts': 3, '2005': 3, 'm8': 3, 'wc1n3xx': 3, 'atm': 3, 'register': 3, 'becoz': 3, 'chicken': 3, 'picture': 3, 'knowing': 3, 'ptbo': 3, 'receiving': 3, 'cruise': 3, 'alwys': 3, 'bloo': 3, 'error': 3, 'blow': 3, 'wallpaper': 3, '0845': 3, 'jen': 3, 'warner': 3, '9pm': 3, 'kisses': 3, 'honeybee': 3, 'sweetest': 3, 'laughed': 3, 'havnt': 3, 'crack': 3, 'dislikes': 3, 'february': 3, 'crab': 3, 'cleared': 3, 'footprints': 3, '89555': 3, 'textoperator': 3, 'gary': 3, 'dsn': 3, 'scary': 3, 'freezing': 3, 'alive': 3, 'expect': 3, 'tick': 3, 'cn': 3, 'porn': 3, 'some1': 3, 'yor': 3, 'downloads': 3, 'prey': 2, 'devouring': 2, 'purse': 2, 'soo': 2, 'alfie': 2, 'm8s': 2, 'nokias': 2, '08701417012': 2, 'mel': 2, 'confused': 2, 'tt': 2, 'dark': 2, 'waited': 2, 'stones': 2, 'atlast': 2, 'yunny': 2, 'wating': 2, 'lounge': 2, 'aeronautics': 2, 'professors': 2, 'calld': 2, 'aeroplane': 2, 'hurried': 2, 'datz': 2, '87239': 2, 'mila': 2, 'age23': 2, 'blonde': 2, 'mtalk': 2, '69866': 2, '30pp': 2, '5free': 2, 'increments': 2, 'help08718728876': 2, 'cashbin': 2, 'biggest': 2, 'meets': 2, '2p': 2, 'germany': 2, 'shoving': 2, 'lou': 2, 'neway': 2, 'steam': 2, 'pee': 2, 'easter': 2, 'male': 2, '08709222922': 2, '5p': 2, '8p': 2, 'peak': 2, 'yellow': 2, 'divorce': 2, 'cashto': 2, '08000407165': 2, 'getstop': 2, '88222': 2, 'php': 2, 'thesis': 2, 'knackered': 2, 'shipped': 2, '2find': 2, 'mei': 2, 'philosophy': 2, 'skyped': 2, 'kz': 2, 'ultimatum': 2, 'countin': 2, 'aburo': 2, 'aren': 2, 'flip': 2, 'bbd': 2, 'mega': 2, 'celebration': 2, 'gbp': 2, 'apps': 2, 'kickoff': 2, 'euro': 2, '09061221066': 2, 'fromm': 2, '28': 2, 'intro': 2, 'covers': 2, 'brief': 2, 'blur': 2, 'runs': 2, 'vewy': 2, 'prince': 2, 'ned': 2, 'toa': 2, 'payoh': 2, 'misbehaved': 2, 'twenty': 2, 'vivek': 2, 'swoop': 2, 'answered': 2, 'bluff': 2, 'impossible': 2, 'bless': 2, 'engin': 2, 'file': 2, '09050003091': 2, 'c52': 2, 'thgt': 2, 'select': 2, 'benefits': 2, 'ela': 2, 'ideal': 2, 'ruin': 2, 'creep': 2, 'everywhere': 2, 'mouth': 2, 'flowing': 2, 'vomiting': 2, 'carry': 2, 'advise': 2, 'recent': 2, '1500': 2, '447797706009': 2, 'careers': 2, 'death': 2, 'woken': 2, 'shirts': 2, 'wear': 2, 'posts': 2, 'seem': 2, 'necessary': 2, 'worlds': 2, 'discreet': 2, 'bruce': 2, '60p': 2, 'nat': 2, 'garbage': 2, 'eggs': 2, 'bread': 2, 'silver': 2, 'lays': 2, '09061702893': 2, 'acl03530150pm': 2, 'tms': 2, 'widelive': 2, 'index': 2, 'wml': 2, 'desparate': 2, '7ish': 2, '326': 2, 'shore': 2, 'adventure': 2, 'biola': 2, 'dancing': 2, 'east': 2, 'wa': 2, 'puttin': 2, 'purpose': 2, '75': 2, 'homeowners': 2, 'tenants': 2, 'previously': 2, '1956669': 2, 'acted': 2, '786': 2, 'unredeemed': 2, 'xxxxx': 2, 'hm': 2, 'royal': 2, 'speedchat': 2, 'virgin': 2, 'parking': 2, 'garage': 2, '4mths': 2, 'mobilesdirect': 2, '08000938767': 2, 'or2stoptxt': 2, 'elsewhere': 2, 'restaurant': 2, 'pride': 2, 'kid': 2, 'callin': 2, 'bruv': 2, 'freedom': 2, '09061213237': 2, 'canary': 2, '177': 2, 'm227xy': 2, 'petrol': 2, 'foot': 2, 'penis': 2, '0578': 2, 'dr': 2, 'networks': 2, 'fan': 2, 'issue': 2, 'suggest': 2, 'setting': 2, 'definite': 2, '09061744553': 2, 'polyh': 2, 'senthil': 2, 'hsbc': 2, 'success': 2, 'stranger': 2, 'distract': 2, 'desperate': 2, 'anna': 2, 'nagar': 2, 'poem': 2, 'clever': 2, 'tension': 2, 'innocent': 2, 'doggy': 2, 'sweets': 2, '165': 2, 'goals': 2, 'mostly': 2, 'sleepwell': 2, 'nydc': 2, 'mcat': 2, '0207': 2, '153': 2, 'greatest': 2, 'courage': 2, 'bear': 2, 'defeat': 2, 'building': 2, 'arms': 2, 'tlk': 2, 'loxahatchee': 2, 'burning': 2, 'prove': 2, 'kindly': 2, 'rgds': 2, 'box334sk38ch': 2, 'evr': 2, 'yijue': 2, 'aunt': 2, 'ps': 2, '48': 2, 'actor': 2, 'unemployed': 2, 'bills': 2, 'sha': 2, 'difficulties': 2, 'correction': 2, 'pouch': 2, 'settled': 2, 'wishin': 2, 'andros': 2, '08002986030': 2, 'free2day': 2, 'george': 2, '89080': 2, '0870241182716': 2, 'scold': 2, 'borin': 2, 'minmoremobsemspobox45po139wa': 2, 'guessing': 2, 'le': 2, 'maga': 2, 'subscriber': 2, 'fake': 2, 'tank': 2, 'theres': 2, 'tmrw': 2, 'dial': 2, 'weirdest': 2, 'bet': 2, 'm263uz': 2, 'lip': 2, 'female': 2, 'deciding': 2, '09058094565': 2, 'banks': 2, 'diff': 2, 'arsenal': 2, 'henry': 2, 'shot': 2, 'vomit': 2, 'grave': 2, 'premier': 2, 'boyfriend': 2, 'jane': 2, 'urn': 2, 'beware': 2, 'quit': 2, '1hr': 2, 'mk45': 2, '2wt': 2, 'jaya': 2, 'approx': 2, 'newest': 2, 'funky': 2, '82468': 2, 'forevr': 2, '87021': 2, 'eek': 2, 'singing': 2, 'actual': 2, 'delay': 2, 'count': 2, 'woot': 2, 'language': 2, 'reasonable': 2, 'sleepy': 2, 'connections': 2, 'smoking': 2, 'various': 2, 'jenny': 2, 'cheese': 2, '____': 2, 'ias': 2, 'inch': 2, 'birthdate': 2, 'plaza': 2, 'hor': 2, 'morphine': 2, 'networking': 2, 'hugs': 2, 'snogs': 2, 'british': 2, 'hotels': 2, 'sw73ss': 2, 'yck': 2, 'ding': 2, 'vid': 2, 'mnths': 2, 'callback': 2, 'stops': 2, 'hoped': 2, 'usb': 2, 'flash': 2, 'visionsms': 2, 'ee': 2, '08719181513': 2, 'appreciated': 2, 'apart': 2, 'aka': 2, 'pap': 2, 'messy': 2, 'iscoming': 2, 'tnc': 2, 'largest': 2, '3lp': 2, 'eastenders': 2, 'dot': 2, 'compare': 2, 'herself': 2, 'violet': 2, 'tulip': 2, 'lily': 2, 'wkent': 2, '150p16': 2, 'walked': 2, 'hrishi': 2, 'haiz': 2, 'respectful': 2, 'l8tr': 2, 'gotten': 2, 'kay': 2, 'melt': 2, 'usc': 2, 'decision': 2, 'simpler': 2, 'bristol': 2, 'signing': 2, '09050001808': 2, 'm95': 2, 'idew': 2, 'blackberry': 2, 'wasted': 2, 'applebees': 2, 'transfered': 2, 'aunts': 2, 'anniversary': 2, 'fancies': 2, 'ls15hb': 2, 'forgiven': 2, 'prof': 2, 'papers': 2, 'sem': 2, 'student': 2, 'mess': 2, 'blu': 2, 'smsco': 2, 'linerental': 2, 'jiayin': 2, 'block': 2, 'howard': 2, 'tahan': 2, 'anot': 2, 'lo': 2, 'jacket': 2, 'gain': 2, 'chill': 2, 'chest': 2, 'cock': 2, 'items': 2, 'china': 2, 'makin': 2, 'cookies': 2, 'hang': 2, '0871277810810': 2, 'sweetie': 2, 'sarasota': 2, 'pig': 2, 'bleh': 2, 'jada': 2, 'kusruthi': 2, 'matured': 2, 'stylish': 2, 'faith': 2, 'relatives': 2, 'costing': 2, 'dorm': 2, 'selling': 2, 'natalja': 2, 'nat27081980': 2, 'storming': 2, 'phne': 2, 'wt': 2, 'margaret': 2, 'grahmbell': 2, 'invnted': 2, 'telphone': 2, 'alcohol': 2, 'web': 2, 'erm': 2, 'combine': 2, 'telly': 2, '08712402050': 2, '10ppm': 2, 'ag': 2, 'promo': 2, 'reminding': 2, 'adoring': 2, 'responce': 2, 'happend': 2, 'partnership': 2, 'amused': 2, 'owns': 2, 'randy': 2, '08700621170150p': 2, 'frying': 2, 'pan': 2, 'perhaps': 2, 'likely': 2, 'tortilla': 2, 'ms': 2, 'indyarocks': 2, 'connect': 2, 'update_now': 2, 'speechless': 2, 'easily': 2, '09066612661': 2, 'sender': 2, 'hol': 2, 'animation': 2, 'refilled': 2, 'successfully': 2, 'inr': 2, 'keralacircle': 2, 'prepaid': 2, 'kr': 2, 'edge': 2, 'pobox45w2tg150p': 2, '08000776320': 2, '01223585334': 2, '2c': 2, 'shagged': 2, '2end': 2, 'nalla': 2, '3100': 2, 'm26': 2, '3uz': 2, 'reaction': 2, 'desert': 2, 'spanish': 2, 'tonights': 2, 'dracula': 2, 'titles': 2, 'ghost': 2, 'addamsfa': 2, 'munsters': 2, 'exorcist': 2, 'twilight': 2, 'parco': 2, 'nb': 2, 'deliveredtomorrow': 2, '08712405020': 2, 'rofl': 2, 'invest': 2, 'oni': 2, 'pimples': 2, 'wearing': 2, 'yelling': 2, 'reality': 2, 'settle': 2, '54': 2, 'tog': 2, 'downloaded': 2, 'installing': 2, 'flaky': 2, 'parent': 2, 'blake': 2, 'electricity': 2, 'expression': 2, 'software': 2, 'slp': 2, 'muah': 2, 'fighting': 2, 'mokka': 2, 'calculation': 2, 'neft': 2, 'beneficiary': 2, 'cha': 2, 'exeter': 2, 'specific': 2, 'jia': 2, 'avoid': 2, 'action': 2, 'filling': 2, 'forms': 2, 'underwear': 2, 'arts': 2, 'calicut': 2, 'interest': 2, 'sticky': 2, 'potential': 2, 'talent': 2, 'miserable': 2, 'effects': 2, 'birth': 2, 'control': 2, 'shoot': 2, 'skip': 2, '08718726270': 2, '447801259231': 2, '09058094597': 2, 'nan': 2, 'kothi': 2, 'shared': 2, 'horo': 2, 'star': 2, 'phoned': 2, 'pole': 2, 'wuld': 2, 'nuther': 2, 'upstairs': 2, 'fell': 2, 'pple': 2, '6months': 2, 'randomly': 2, 'kappa': 2, '27': 2, 'ranjith': 2, 'drpd': 2, 'deeraj': 2, 'deepak': 2, 'vegas': 2, 'generally': 2, 'noun': 2, 'seconds': 2, 'fights': 2, 'call09050000327': 2, 'msg150p': 2, '2rcv': 2, 'hlp': 2, '08712317606': 2, 'module': 2, 'modules': 2, 'grace': 2, 'dance': 2, 'habit': 2, 'rang': 2, 'explain': 2, 'tears': 2, '81151': 2, '4t': 2, 'difference': 2, 'polo': 2, '373': 2, 'w1j': 2, '6hl': 2, 'four': 2, 'received': 2, 'txt82228': 2, '26th': 2, 'responding': 2, 'brothas': 2, '83383': 2, 'stuck': 2, 'teaches': 2, 'tsunamis': 2, 'ericsson': 2, '0825': 2, 'album': 2, 'cuddling': 2, 'gibbs': 2, '8am': 2, 'cbe': 2, 'dough': 2, 'monthly': 2, 'responsibility': 2, 'rule': 2, 'taste': 2, 'replacement': 2, 'pence': 2, '85': 2, 'favorite': 2, 'dearly': 2, '09058094599': 2, 'wales': 2, 'pushes': 2, 'pop': 2, 'remains': 2, 'bros': 2, '08006344447': 2, 'expired': 2, 'docs': 2, 'convinced': 2, 'bmw': 2, 'urgently': 2, 'shortage': 2, 'source': 2, 'arng': 2, '09065171142': 2, 'stopsms': 2, '7250': 2, 'textpod': 2, 'main': 2, 'gods': 2, 'print': 2, 'garden': 2, 'bulbs': 2, 'seeds': 2, 'scotsman': 2, 'go2': 2, 'notxt': 2, 'konw': 2, 'waht': 2, 'rael': 2, 'gving': 2, 'exmpel': 2, 'jsut': 2, 'evrey': 2, 'splleing': 2, 'wrnog': 2, 'sitll': 2, 'raed': 2, 'wihtuot': 2, 'ayn': 2, 'mitsake': 2, 'sarcasm': 2, 'expressoffer': 2, '2waxsto': 2, 'basic': 2, 'educational': 2, 'ibhltd': 2, 'ldnw15h': 2, 'rstm': 2, 'sw7': 2, '3ss': 2, 'fuckin': 2, 'pre': 2, 'mids': 2, 'taxi': 2, 'ing': 2, 'apo': 2, 'capital': 2, '41685': 2, '07': 2, 'welp': 2, 'annie': 2, 'keys': 2, 'swiss': 2, 'crore': 2, 'delhi': 2, 'lane': 2, 'roads': 2, 'citizen': 2, 'politicians': 2, 'rights': 2, 'joanna': 2, 'brah': 2, 'sigh': 2, 'island': 2, 'bird': 2, 'blessed': 2, 'reboot': 2, 'paragon': 2, 'tons': 2, 'bc': 2, 'wee': 2, 'key': 2, 'window': 2, 'audrey': 2, 'stick': 2, 'indeed': 2, 'lately': 2, 'algarve': 2, 'ship': 2, 'nahi': 2, 'zindgi': 2, 'wo': 2, 'jo': 2, 'ham': 2, 'figures': 2, 'helen': 2, 'repeat': 2, 'cooked': 2, '2007': 2, 'include': 2, 'vday': 2, 'bottom': 2, 'mmmmmm': 2, 'yummy': 2, 'texted': 2, 'epsilon': 2, 'constantly': 2, 'filled': 2, 'whatsup': 2, 'lucy': 2, 'beloved': 2, 'thangam': 2, 'mis': 2, 'math': 2, 'heading': 2, 'racing': 2, 'dhoni': 2, 'tessy': 2, 'favor': 2, 'shijas': 2, 'jackpot': 2, '81010': 2, 'dbuk': 2, 'lccltd': 2, '4403ldnw1a7rw18': 2, 'strike': 2, 'grow': 2, 'ability': 2, 'lovejen': 2, 'bringing': 2, 'odi': 2, 'ashley': 2, 'addie': 2, 'potato': 2, 'express': 2, 'secretary': 2, 'blessing': 2, 'nasty': 2, 'slo': 2, 'messenger': 2, 'housewives': 2, '0871750': 2, '77': 2, 'landlines': 2, 'mag': 2, 'upload': 2, '08718730666': 2, 'crisis': 2, 'popped': 2, 'ola': 2, 'bids': 2, 'shipping': 2, 'bell': 2, 'quiet': 2, 'nothin': 2, 'eveb': 2, '09061221061': 2, '28days': 2, 'box177': 2, 'm221bp': 2, '2yr': 2, 'warranty': 2, '99': 2, 'supervisor': 2, 'nit': 2, '40533': 2, 'weigh': 2, 'breathe': 2, 'bhaji': 2, 'cricketer': 2, 'filthy': 2, 'pattern': 2, 'crap': 2, 'hamster': 2, 'jealous': 2, 'lion': 2, 'admit': 2, 'distance': 2, 'plm': 2, 'disconnect': 2, 'terrorist': 2, 'confirmd': 2, 'verified': 2, 'cnn': 2, 'ibn': 2, 'boston': 2, 'nyc': 2, 'uks': 2, 'sacrifice': 2, 'beg': 2, 'clear': 2, 'anthony': 2, 'earn': 2, 'joining': 2, 'praying': 2, 'hockey': 2, 'drinkin': 2, 'crash': 2, 'period': 2, 'clearly': 2, 'reverse': 2, 'cheating': 2, 'mathematics': 2, 'cousin': 2, 'wkend': 2, 'huge': 2, 'argh': 2, 'donno': 2, 'northampton': 2, 'stress': 2, 'kg': 2, 'wrc': 2, 'rally': 2, 'lucozade': 2, 'wiskey': 2, 'brandy': 2, 'rum': 2, 'gin': 2, 'scotch': 2, 'shampain': 2, 'kudi': 2, 'yarasu': 2, 'dhina': 2, 'vaazhthukkal': 2, '8pm': 2, 'affairs': 2, 'beneath': 2, 'pale': 2, 'chocolate': 2, 'kegger': 2, 'reminder': 2, 'patty': 2, 'dirty': 2, 'bang': 2, 'peaceful': 2, 'spoiled': 2, 'prescription': 2, 'eurodisinc': 2, 'trav': 2, 'aco': 2, 'entry41': 2, 'morefrmmob': 2, 'shracomorsglsuplt': 2, 'ls1': 2, '3aj': 2, 'hanging': 2, 'thread': 2, 'charles': 2, 'songs': 2, 'ey': 2, 'up4': 2, 'division': 2, 'science': 2, 'sunlight': 2, 'instructions': 2, 'rents': 2, '89070': 2, 'revision': 2, 'forgotten': 2, 'esplanade': 2, 'avoiding': 2, 'curry': 2, 'en': 2, 'jolly': 2, 'ba': 2, '09066350750': 2, 'repair': 2, '09061743386': 2, 'geeeee': 2, 'minor': 2, 'burger': 2, 'invaders': 2, 'orig': 2, 'console': 2, '930': 2, 'mojibiola': 2, 'hurting': 2, '4fil': 2, 'stayin': 2, 'stone': 2, 'becomes': 2, 'follow': 2, '3gbp': 2, 'eight': 2, '5k': 2, '09064011000': 2, 'cr01327bt': 2, 'fixedline': 2, 'score': 2, 'sharing': 2, 'behave': 2, 'lotr': 2, '80878': 2, 'deus': 2, 'mahal': 2, 'shahjahan': 2, 'killed': 2, 'os': 2, 'allowed': 2, 'dippeditinadew': 2, 'lovingly': 2, 'itwhichturnedinto': 2, 'gifted': 2, 'tomeandsaid': 2, '2go': 2, 'av': 2, 'bck': 2, 'dan': 2, 'effect': 2, 'affair': 2, 'among': 2, 'vth': 2, 'jogging': 2, 'christ': 2, 'shesil': 2, 'everyday': 2, 'screen': 2, 'duchess': 2, '008704050406': 2, 'donate': 2, 'wipro': 2, 'dollar': 2, 'chatting': 2, 'subpoly': 2, '81618': 2, '08718727870': 2, 'although': 2, '85069': 2, 'verify': 2, 'usher': 2, 'britney': 2, '5249': 2, 'mk17': 2, '92h': 2, '450ppw': 2, 'realise': 2, 'watever': 2, 'rice': 2, 'tok': 2, 'click': 2, 'buses': 2, 'remembered': 2, 'jas': 2, 'claims': 2, '08002888812': 2, 'display': 2, 'falling': 2, 'smeone': 2, 'stamped': 2, '113': 2, 'bray': 2, 'wicklow': 2, 'eire': 2, 'push': 2, 'explicit': 2, 'secs': 2, '02073162414': 2, 'ruining': 2, 'gudnite': 2, 'picsfree1': 2, 'granite': 2, 'explosive': 2, 'nasdaq': 2, 'cdgt': 2, 'stretch': 2, 'confirmed': 2, '125gift': 2, 'staring': 2, 'dave': 2, 'tee': 2, 'event': 2, '4882': 2, '09064019014': 2, 'maangalyam': 2, 'alaipayuthe': 2, 'fave': 2, 'harry': 2, 'salon': 2, 'normally': 2, '80086': 2, 'txttowin': 2, 'spring': 2, 'lotta': 2, 'keeping': 2, 'practical': 2, 'premium': 2, 'lower': 2, '8077': 2, 'despite': 2, 'dedicated': 2, 'dedicate': 2, 'valuable': 2, 'textbuddy': 2, 'postcode': 2, 'gaytextbuddy': 2, '89693': 2, 'foley': 2, 'prizes': 2, '82050': 2, 'status': 2, 'cappuccino': 2, 'painting': 2, 'cuddle': 2, 'slightly': 2, 'darlings': 2, 'greetings': 2, 'ear': 2, 'addicted': 2, 'build': 2, 'superb': 2, '86888': 2, 'subscribe6gbp': 2, '3hrs': 2, 'txtstop': 2, '08452810075over18': 2, 'toughest': 2, 'acting': 2, 'wan2': 2, 'westlife': 2, 'unbreakable': 2, 'untamed': 2, 'unkempt': 2, '83049': 2, '09066364311': 2, '3650': 2, '09066382422': 2, '300603': 2, 'bcm4284': 2, 'tissco': 2, 'tayseer': 2, 'kent': 2, 'vale': 2, 'cheat': 2, 'lies': 2, 'flat': 2, '220': 2, 'cm2': 2, 'oooh': 2, 'mornin': 2, 'wrk': 2, 'rhythm': 2, 'soryda': 2, 'sory': 2, 'sends': 2, 'pours': 2, 'batch': 2, 'prepared': 2, 'smashed': 2, 'mystery': 2, 'solved': 2, 'sarcastic': 2, 'billion': 2, 'prefer': 2, 'sweetheart': 2, 'vava': 2, 'ntwk': 2, 'cross': 2, 'aah': 2, 'pouts': 2, 'stomps': 2, '24hrs': 2, 'hardly': 2, 'understanding': 2, 'infections': 2, 'bone': 2, 'recognise': 2, 'printed': 2, 'lush': 2, 'river': 2, 'chart': 2, 'named': 2, '30ish': 2, 'onion': 2, 'roast': 2, 'callfreefone': 2, '08081560665': 2, '07786200117': 2, 'sake': 2, 'trips': 2, 'europe': 2, 'quickly': 2, 'meanwhile': 2, 'holy': 2, 'successful': 2, 'xuhui': 2, 'bowl': 2, '69888': 2, 'denis': 2, 'develop': 2, 'along': 2, 'spell': 2, 'gamestar': 2, 'active': 2, '250k': 2, 'scoring': 2, '88088': 2, 'wisdom': 2, 'rocks': 2, '13': 2, '600': 2, 'faggy': 2, 'priscilla': 2, 'incredible': 2, 'o2fwd': 2, '18p': 2, 'jamster': 2, '88888': 2, 'comfort': 2, '021': 2, '3680': 2, 'california': 2, 'pending': 2, 'medicine': 2, 'classes': 2, 'genuine': 2, '100percent': 2, 'mesages': 2, 'tooo': 2, 'completed': 2, 'admin': 2, 'treated': 2, 'fab': 2, 'demand': 2, 'resume': 2, 'diwali': 2, 'receivea': 2, '09061701461': 2, 'kl341': 2, 'sary': 2, 'community': 2, 'juan': 2, 'heater': 2, 'dressed': 2, 'causing': 2, 'nd': 2, 'okey': 2, 'wins': 2, 'loses': 2, 'shocking': 2, 'clothes': 2, 'cherish': 2, 'hex': 2, 'speaking': 2, 'whose': 2, 'neither': 2, 'spook': 2, 'logo': 2, 'inconsiderate': 2, 'nag': 2, 'recession': 2, 'hence': 2, 'tomarrow': 2, 'waves': 2, 'clearing': 2, 'driver': 2, '0776xxxxxxx': 2, 'tiwary': 2, 'sue': 2, 'recd': 2, 'scrounge': 2, 'nos': 2, 'bedrm': 2, 'wave': 2, 'flirting': 2, 'cme': 2, 'sufficient': 2, 'evry': 2, 'wkg': 2, 'violated': 2, 'whr': 2, 'forums': 2, 'loose': 2, 'inshah': 2, 'realized': 2, 'piss': 2, 'tests': 2, 'trade': 2, 'popcorn': 2, 'kiosk': 2, 'agree': 2, 'g696ga': 2, 'ganesh': 2, '69698': 2, 'anyways': 2, 'jsco': 2, 'nervous': 2, 'begging': 2, 'pt2': 2, 'salam': 2, 'wind': 2, 'elaine': 2, 'lyk': 2, 'color': 2, 'bears': 2, 'hate': 2, 'messaged': 2, 'dime': 2, 'allow': 2, 'propsd': 2, 'gv': 2, 'lv': 2, 'lttrs': 2, 'threw': 2, 'aproach': 2, 'dt': 2, 'truck': 2, 'speeding': 2, 'thy': 2, 'lived': 2, 'happily': 2, '2gthr': 2, 'drinking': 2, 'evrydy': 2, 'survey': 2, 'tom': 2, 'improve': 2, 'paperwork': 2, 'x49': 2, '09065989182': 2, 'frog': 2, 'hallaq': 2, 'pool': 2, 'collecting': 2, 'gent': 2, '09064012160': 2, 'outstanding': 2, 'nic': 2, 'norm': 2, 'confuses': 2, 'curious': 2, 'petey': 2, 'yetunde': 2, 'anywhere': 2, 'ofice': 2, 'favourite': 2, 'forum': 2, 'evenings': 2, 'raj': 2, 'thoughts': 2, 'compromised': 2, 'screamed': 2, 'chechi': 2, 'beauty': 2, 'depressed': 2, 'supply': 2, 'market': 2, 'sptv': 2, 'convincing': 2, 'arun': 2, 'remembr': 2, 'academic': 2, 'cann': 2, 'fucked': 2, '630': 2, 'prem': 2, 'keeps': 2, 'interflora': 2, 'pen': 2, 'sry': 2, 'tap': 2, 'spile': 2, 'broad': 2, 'canal': 2, 'spider': 2, 'escape': 2, 'dealing': 2, 'nichols': 2, 'knock': 2, 'sathya': 2, 'planet': 2, 'miles': 2, 'failed': 1, 'switch': 1, 'dammit': 1, 'truro': 1, 'ext': 1, 'fring': 1, 'snatch': 1, 'muchxxlove': 1, 'locaxx': 1, 'hyde': 1, 'opps': 1, 'fishrman': 1, 'sack': 1, 'strtd': 1, 'throwin': 1, '1stone': 1, 'diamonds': 1, 'citylink': 1, 'raglan': 1, 'edward': 1, 'cricket': 1, 'closeby': 1, 'chastity': 1, 'device': 1, 'beatings': 1, '21870000': 1, 'mailbox': 1, 'messaging': 1, '09056242159': 1, 'retrieve': 1, '28th': 1, 'removal': 1, '08708034412': 1, 'prevent': 1, 'dehydration': 1, 'fluids': 1, 'yeesh': 1, '08448350055': 1, 'planettalkinstant': 1, 'gyno': 1, 'belong': 1, 'retard': 1, 'pull': 1, 'lancaster': 1, 'sales': 1, '08718726970': 1, 'absolutly': 1, 'superior': 1, 'textin': 1, 'mandy': 1, 'sullivan': 1, 'hotmix': 1, 'fm': 1, 'telephone': 1, '09041940223': 1, '29': 1, 'transferred': 1, 'spjanuary': 1, 'prominent': 1, 'cheek': 1, 'alternative': 1, 'barring': 1, 'sudden': 1, 'influx': 1, 'smokin': 1, 'data': 1, 'analysis': 1, 'janx': 1, 'dads': 1, 'swhrt': 1, '0789xxxxxxx': 1, 'mallika': 1, 'sherawat': 1, 'bao': 1, 'sugardad': 1, 'icic': 1, 'useless': 1, 'dvg': 1, 'vinobanagar': 1, 'condition': 1, 'wi': 1, 'nz': 1, 'asda': 1, 'counts': 1, 'webadres': 1, 'geting': 1, 'slip': 1, 't91': 1, '09057039994': 1, 'badrith': 1, 'arnt': 1, 'xxxxxxxxxxxxxx': 1, 'leg': 1, 'musta': 1, 'overdid': 1, 'amk': 1, 'naal': 1, 'eruku': 1, 'programs': 1, 'washob': 1, 'nobbing': 1, 'nickey': 1, 'platt': 1, 'tellmiss': 1, 'tbs': 1, 'persolvo': 1, '38': 1, 'kath': 1, 'manchester': 1, 'stage': 1, 'newquay': 1, 'postcard': 1, '1im': 1, 'talkin': 1, 'nannys': 1, 'hahaha': 1, 'brain': 1, 'trends': 1, 'pros': 1, 'cons': 1, 'description': 1, 'nuclear': 1, 'fusion': 1, 'iter': 1, 'jet': 1, 'bothering': 1, 'lubly': 1, 'heaven': 1, 'coherently': 1, 'predicte': 1, 'ques': 1, 'suits': 1, 'bbq': 1, '6ish': 1, 'probs': 1, 'ree': 1, 'monkey': 1, 'asshole': 1, 'invitation': 1, 'cali': 1, 'weddin': 1, 'ignorant': 1, 'steve': 1, 'ceiling': 1, 'intrepid': 1, 'duo': 1, '1450': 1, '09053750005': 1, '310303': 1, '08718725756': 1, '140ppm': 1, 'performed': 1, 'trained': 1, 'advisors': 1, 'dialling': 1, '402': 1, '09077818151': 1, 'calls1': 1, '50ppm': 1, '30s': 1, 'santacalling': 1, 'gloucesterroad': 1, 'uup': 1, 'path': 1, 'appear': 1, 'front': 1, 'paths': 1, 'nottingham': 1, '63miles': 1, '40mph': 1, 'gram': 1, 'chachi': 1, 'pl': 1, 'tiz': 1, 'kanagu': 1, 'unfortunately': 1, 'foward': 1, 'hitter': 1, '07090201529': 1, 'diddy': 1, 'neighbor': 1, 'toothpaste': 1, 'soooo': 1, 'provider': 1, 'tming': 1, 'dismay': 1, 'dirt': 1, 'windows': 1, 'chores': 1, 'exist': 1, 'hail': 1, 'mist': 1, 'nowadays': 1, 'notixiquating': 1, 'laxinorficated': 1, 'bambling': 1, 'entropication': 1, 'oblisingately': 1, 'opted': 1, 'masteriastering': 1, 'amplikater': 1, 'fidalfication': 1, 'champlaxigating': 1, 'atrocious': 1, 'wotz': 1, 'junna': 1, 'providing': 1, 'assistance': 1, 'ditto': 1, 'fires': 1, 'aww': 1, '08712101358': 1, 'durham': 1, 'reserved': 1, 'lipo': 1, 'sac': 1, '09066364589': 1, 'withdraw': 1, 'anyhow': 1, 'alertfrom': 1, 'jeri': 1, 'stewartsize': 1, '2kbsubject': 1, 'prescripiton': 1, 'drvgsto': 1, '123': 1, 'robs': 1, 'avenge': 1, 'nudist': 1, 'themed': 1, 'young': 1, 'sun0819': 1, 'treats': 1, '83110': 1, 'fowler': 1, 'burns': 1, 'ducking': 1, 'chinchillas': 1, '09095350301': 1, 'erotic': 1, 'ecstacy': 1, 'jam': 1, 'hannaford': 1, 'wheat': 1, 'chex': 1, 'gdeve': 1, 'africa': 1, 'avin': 1, 'mylife': 1, '1b6a5ecef91ff9': 1, '37819': 1, 'true18': 1, '0430': 1, 'jul': 1, 'recorded': 1, 'jackson': 1, 'rec': 1, '9ja': 1, '09061743810': 1, 'significant': 1, 'haircut': 1, 'breezy': 1, 'fne': 1, 'arngd': 1, 'walkin': 1, 'unfortuntly': 1, 'bites': 1, 'frnt': 1, 'sayin': 1, 'teaching': 1, 'coast': 1, 'openin': 1, 'formal': 1, 'avatar': 1, 'subtoitles': 1, 'weighed': 1, 'woohoo': 1, 'bitching': 1, '08719181259': 1, 'coincidence': 1, 'ams': 1, 'elaborating': 1, 'safety': 1, 'aspects': 1, 'roomate': 1, 'graduated': 1, '330': 1, '1120': 1, '1205': 1, 'paris': 1, '79': 1, '08704439680ts': 1, 'castor': 1, 'sd': 1, 'cartons': 1, 'shelves': 1, 'dip': 1, '80155': 1, 'swap': 1, 'chatter': 1, 'chat80155': 1, 'rcd': 1, 'sumfing': 1, '125': 1, 'freeentry': 1, 'xt': 1, 'ajith': 1, 'collapsed': 1, 'grownup': 1, 'audrie': 1, 'autocorrect': 1, 'sabarish': 1, 'dealer': 1, 'lunsford': 1, '07090298926': 1, 'schedule': 1, '9307622': 1, 'lul': 1, 'nurses': 1, 'shes': 1, 'obese': 1, 'oyea': 1, 'decades': 1, 'goverment': 1, 'expects': 1, 'flavour': 1, 'stairs': 1, 'phews': 1, 'greece': 1, 'prin': 1, 'torrents': 1, 'particularly': 1, 'slowing': 1, 'dual': 1, 'wrongly': 1, 'thasa': 1, 'messed': 1, 'shudvetold': 1, 'urgran': 1, 'illspeak': 1, 'u2moro': 1, 'amla': 1, 'durban': 1, 'stands': 1, 'nitz': 1, 'talents': 1, 'length': 1, 'fringe': 1, 'belongs': 1, 'fated': 1, 'shoranur': 1, 'incident': 1, 'fuelled': 1, 'concern': 1, 'prior': 1, 'grief': 1, 'chain': 1, 'mys': 1, 'morn': 1, 'studies': 1, 'anyones': 1, 'pears': 1, 'terror': 1, 'cruel': 1, 'decent': 1, 'joker': 1, 'missionary': 1, 'natalie': 1, 'natalie2k9': 1, 'charming': 1, '820554ad0a1705572711': 1, '2wks': 1, 'villa': 1, 'slide': 1, 'broken': 1, 'classmates': 1, 'wheellock': 1, 'needa': 1, 'get4an18th': 1, 'clarify': 1, 'preponed': 1, 'dismissial': 1, '9996': 1, '14thmarch': 1, 'availa': 1, 'disappeared': 1, 'flying': 1, 'monkeys': 1, 'certainly': 1, 'crying': 1, 'imprtant': 1, 'tomorw': 1, 'gifts': 1, 'cliff': 1, 'prashanthettan': 1, 'debating': 1, 'disturbance': 1, 'dlf': 1, 'premarica': 1, 'jack': 1, 'helpful': 1, 'pretend': 1, 'hypotheticalhuagauahahuagahyuhagga': 1, 'total': 1, 'converter': 1, '1million': 1, 'ppt150x3': 1, 'box403': 1, 'w1t1jy': 1, 'someonone': 1, '09064015307': 1, 'attached': 1, 'destination': 1, 'velly': 1, '07781482378': 1, 'sitter': 1, 'kaitlyn': 1, 'cts': 1, 'employee': 1, '09061701939': 1, 's89': 1, 'cr': 1, 'nike': 1, 'grown': 1, 'rightio': 1, 'arent': 1, 'gmw': 1, 'connected': 1, 'equally': 1, 'uneventful': 1, 'pesky': 1, 'cyclists': 1, 'visa': 1, 'gucci': 1, 'errors': 1, '30th': 1, 'areyouunique': 1, 'owe': 1, 'summers': 1, 'matched': 1, 'help08714742804': 1, 'matthew': 1, '09063440451': 1, 'lux': 1, 'ppm150': 1, 'box334': 1, 'zhong': 1, 'qing': 1, 'act': 1, '09099725823': 1, 'jb': 1, 'coulda': 1, 'positions': 1, 'kama': 1, 'sutra': 1, 'resend': 1, '09058095107': 1, 's3xy': 1, 'maggi': 1, 'mee': 1, 'otside': 1, 'exp': 1, '30apr': 1, 'lacking': 1, 'particular': 1, 'dramastorm': 1, 'reffering': 1, 'getiing': 1, 'browser': 1, 'surf': 1, 'inperialmusic': 1, 'listening2the': 1, 'leafcutter': 1, 'insects': 1, 'molested': 1, 'plumbing': 1, 'remixed': 1, 'evil': 1, 'acid': 1, 'wesleys': 1, 'perumbavoor': 1, 'ignoring': 1, 'lyrics': 1, 'caveboy': 1, 'throwing': 1, 'disturbing': 1, 'draws': 1, 'testing': 1, 'sayy': 1, 'bare': 1, 'eviction': 1, 'spiral': 1, 'michael': 1, 'riddance': 1, 'ffffuuuuuuu': 1, 'nigh': 1, 'scores': 1, 'yards': 1, 'bergkamp': 1, 'margin': 1, '78': 1, 'noice': 1, 'mini': 1, 'snap': 1, 'quizclub': 1, '80122300p': 1, 'rwm': 1, '08704050406': 1, 'grandma': 1, 'parade': 1, 'managed': 1, 'oxygen': 1, 'resort': 1, 'roller': 1, 'option': 1, 'squatting': 1, 'panren': 1, 'paru': 1, 'cantdo': 1, 'anythingtomorrow': 1, 'myparents': 1, 'aretaking': 1, 'outfor': 1, 'katexxx': 1, 'mary': 1, 'sinco': 1, 'payee': 1, 'icicibank': 1, 'frauds': 1, 'disclose': 1, 'robinson': 1, 'loosu': 1, 'careless': 1, '07742676969': 1, '08719180248': 1, '45239': 1, 'environment': 1, 'terrific': 1, 'club4mobiles': 1, '87070': 1, 'club4': 1, 'box1146': 1, 'jog': 1, '09071517866': 1, '150ppmpobox10183bhamb64xe': 1, 'merely': 1, 'relationship': 1, 'wherevr': 1, 'gudnyt': 1, 'nok': 1, 'browsin': 1, 'compulsory': 1, 'adventuring': 1, 'tagged': 1, 'younger': 1, 'babies': 1, '08715205273': 1, 'opener': 1, 'doc': 1, 'stuffing': 1, 'inever': 1, 'miiiiiiissssssssss': 1, 'brison': 1, '09066362220': 1, 'answerin': 1, 'physics': 1, 'honeymoon': 1, 'outfit': 1, 'accommodation': 1, 'global': 1, 'phb1': 1, '08700435505150p': 1, 'leanne': 1, 'gumby': 1, 'chapel': 1, 'frontierville': 1, 'genus': 1, 'compliments': 1, 'impressively': 1, 'sensible': 1, 'helens': 1, 'princes': 1, 'pookie': 1, 'predicting': 1, 'accumulation': 1, 'certificate': 1, 'publish': 1, 'afterwards': 1, 'associate': 1, 'exorcism': 1, 'emily': 1, 'financial': 1, 'gotto': 1, '220cm2': 1, 'bx526': 1, '945': 1, 'entirely': 1, 'grooved': 1, 'fassyole': 1, 'blacko': 1, 'londn': 1, 'overtime': 1, 'nigpun': 1, 'finishd': 1, 'fones': 1, 'wild': 1, 'stop2stop': 1, 'regretted': 1, 'yoyyooo': 1, 'permissions': 1, 'mac': 1, 'awkward': 1, 'barred': 1, 'stores': 1, 'twat': 1, 'dungerees': 1, 'decking': 1, 'punch': 1, 'outsider': 1, 'stalking': 1, 'supports': 1, 'srt': 1, 'ps3': 1, 'abroad': 1, 'xxsp': 1, 'stopcost': 1, '08712400603': 1, 'harder': 1, 'nbme': 1, 'poortiyagi': 1, 'odalebeku': 1, 'hanumanji': 1, 'hanuman': 1, 'bajarangabali': 1, 'maruti': 1, 'pavanaputra': 1, 'sankatmochan': 1, 'ramaduth': 1, 'mahaveer': 1, 'janarige': 1, 'ivatte': 1, 'kalisidare': 1, 'olage': 1, 'ondu': 1, 'keluviri': 1, 'maretare': 1, 'inde': 1, 'dodda': 1, 'problum': 1, 'nalli': 1, 'siguviri': 1, 'idu': 1, 'matra': 1, 'neglet': 1, 'invite': 1, 'pocay': 1, 'wocay': 1, '4eva': 1, '2morrowxxxx': 1, 'semi': 1, 'sos': 1, 'changing': 1, 'diapers': 1, 'owed': 1, '08718738001': 1, '49557': 1, 'checkup': 1, 'smear': 1, '09061743811': 1, 'harish': 1, 'transfred': 1, 'acnt': 1, '74355': 1, 'infra': 1, '69696': 1, 'wining': 1, '946': 1, 'doubt': 1, 'command': 1, 'suppose': 1, 'archive': 1, 'necessarily': 1, 'hero': 1, 'apt': 1, 'gail': 1, 'yaxxx': 1, 'flurries': 1, 'zaher': 1, 'vague': 1, 'accounting': 1, 'delayed': 1, 'housing': 1, 'agency': 1, 'renting': 1, 'guild': 1, 'flight': 1, 'surya': 1, 'pokkiri': 1, 'bold2': 1, 'ger': 1, 'toking': 1, 'syd': 1, 'priya': 1, 'tarpon': 1, 'springs': 1, '09058097218': 1, 'enna': 1, 'kalaachutaarama': 1, 'bull': 1, 'floating': 1, 'november': 1, '09061104276': 1, '75max': 1, 'tooth': 1, 'or2optout': 1, 'hv9d': 1, 'drizzling': 1, 'miwa': 1, 'armenia': 1, 'swann': 1, 'batt': 1, 'assumed': 1, 'worst': 1, 'thinl': 1, 'multis': 1, 'secure': 1, '730': 1, '09066368470': 1, 'buzzzz': 1, 'vibrator': 1, 'shake': 1, 'popping': 1, 'ibuprofens': 1, 'cocksuckers': 1, 'ipads': 1, 'worthless': 1, 'novelty': 1, 'jetton': 1, 'nìte': 1, 'weirdy': 1, 'brownies': 1, 'downs': 1, 'fletcher': 1, '22': 1, 'removed': 1, 'gailxx': 1, 'shitstorm': 1, 'attributed': 1, 'cthen': 1, 'conclusion': 1, 'references': 1, 'complaining': 1, 'stuffed': 1, 'writhing': 1, 'ilol': 1, 'personally': 1, 'wuldnt': 1, 'poo': 1, 'splashmobile': 1, 'subscrition': 1, '300p': 1, 'maps': 1, 'teacher': 1, 'treadmill': 1, 'craigslist': 1, 'judgemental': 1, 'fridays': 1, '02072069400': 1, 'bx': 1, '526': 1, 'baaaaaaaabe': 1, 'asjesus': 1, 'wrote': 1, 'opinions': 1, 'fundamentals': 1, 'whoever': 1, '45pm': 1, 'scenario': 1, 'kanji': 1, 'parts': 1, 'seventeen': 1, 'hundred': 1, 'ml': 1, 'varunnathu': 1, 'edukkukayee': 1, 'raksha': 1, 'ollu': 1, 'simulate': 1, 'readiness': 1, 'engalnd': 1, 'mia': 1, 'elliot': 1, 'kissing': 1, 'hppnss': 1, 'sorrow': 1, 'goodfriend': 1, '0870737910216yrs': 1, 'animal': 1, 'healthy': 1, 'db': 1, 'approve': 1, 'panalam': 1, 'plate': 1, 'leftovers': 1, 'dumb': 1, 'realize': 1, 'attention': 1, 'sink': 1, 'paces': 1, 'cage': 1, 'surrounded': 1, 'cuck': 1, 'silly': 1, 'yummmm': 1, 'hcl': 1, 'requires': 1, 'freshers': 1, 'suman': 1, 'telephonic': 1, 'outbid': 1, 'simonwatson5120': 1, 'shinco': 1, 'plyr': 1, 'smsrewards': 1, 'notifications': 1, '12mths': 1, '400mins': 1, 'j5q': 1, 'clash': 1, 'lengths': 1, 'behalf': 1, 'stunning': 1, 'complementary': 1, 'wa14': 1, '2px': 1, 'brainless': 1, 'doll': 1, 'vehicle': 1, 'sariyag': 1, 'madoke': 1, 'barolla': 1, '09050000928': 1, 'rubber': 1, 'adi': 1, 'entey': 1, 'nattil': 1, 'kittum': 1, '1225': 1, '50award': 1, '9061100010': 1, 'wire3': 1, '1st4terms': 1, 'mobcudb': 1, 'shock': 1, 'anand': 1, 'salad': 1, 'beers': 1, '0906346330': 1, '47': 1, 'po19': 1, '2ez': 1, 'rewarding': 1, 'ahold': 1, 'authorise': 1, 'payment': 1, 'vill': 1, '1030': 1, 'orc': 1, 'imin': 1, 'dontmatter': 1, 'urgoin': 1, 'outl8r': 1, 'reallyneed': 1, '2docd': 1, 'dontplease': 1, 'dontignore': 1, 'mycalls': 1, 'thecd': 1, 'isv': 1, 'tome': 1, '84128': 1, 'textcomp': 1, 'betta': 1, 'aging': 1, 'products': 1, 'drunkard': 1, 'grinder': 1, 'rupaul': 1, 'tool': 1, 'grinule': 1, 'recpt': 1, 'processed': 1, 'memory': 1, 'pooja': 1, 'sweatter': 1, 'scrappy': 1, 'bathroom': 1, 'smoothly': 1, 'challenging': 1, 'misplaced': 1, 'resubmit': 1, 'expiry': 1, 'flies': 1, 'mth': 1, 'prix': 1, 'oranges': 1, 'upd8': 1, '2stoptx': 1, 'sometme': 1, 'snot': 1, 'unintentional': 1, 'nonetheless': 1, 'bomb': 1, 'depression': 1, 'swell': 1, 'mailed': 1, 'varma': 1, 'regarding': 1, 'virtual': 1, 'anyplaces': 1, 'method': 1, 'chip': 1, 'rimac': 1, 'prolly': 1, 'beverage': 1, 'pist': 1, 'rayan': 1, 'macleran': 1, 'fifth': 1, 'woozles': 1, 'weasels': 1, 'slaaaaave': 1, 'summon': 1, 'mention': 1, 'served': 1, '30pm': 1, '69969': 1, 'bcmsfwc1n3xx': 1, 'com1win150ppmx3age16subscription': 1, 'jurong': 1, 'buffet': 1, 'amore': 1, '09064017295': 1, 'delete': 1, 'tag': 1, 'laundry': 1, 'bras': 1, 'strewn': 1, 'pillows': 1, 'computers': 1, 'hasnt': 1, 'printer': 1, 'groovy': 1, 'groovying': 1, '09064019788': 1, 'box42wr29c': 1, 'arrived': 1, 'sundayish': 1, '08718730555': 1, 'figuring': 1, 'general': 1, 'justbeen': 1, 'overa': 1, 'brains': 1, 'mush': 1, 'kaiez': 1, 'hiphop': 1, 'cmon': 1, 'replies': 1, 'knocking': 1, 'specify': 1, 'domain': 1, 'nusstu': 1, 'mentor': 1, 'percent': 1, 'shoul': 1, 'kilos': 1, 'massive': 1, 'gut': 1, 'wrenching': 1, 'phony': 1, 'wikipedia': 1, 'dom': 1, 'dizzamn': 1, 'suitemates': 1, 'spiffing': 1, 'workage': 1, 'msgrcvd': 1, 'customercare': 1, 'ibored': 1, 'yalrigu': 1, 'heltini': 1, 'iyo': 1, 'uttered': 1, 'trusting': 1, 'accident': 1, 'a30': 1, 'divert': 1, 'wadebridge': 1, 'flyng': 1, 'followed': 1, 'aries': 1, 'disconnected': 1, 'alle': 1, 'mone': 1, 'eppolum': 1, 'allalo': 1, 'concerned': 1, 'hectic': 1, 'n9dx': 1, 'asus': 1, 'reformat': 1, 'manual': 1, 'tech': 1, 'reset': 1, 'troubleshooting': 1, 'shag': 1, 'sextextuk': 1, 'xxuk': 1, 'suzy': 1, '69876': 1, '09058094454': 1, 'maths': 1, 'chapter': 1, 'restock': 1, 'k718': 1, '09065069120': 1, 'b4u': 1, 'marsms': 1, 'b4utele': 1, '08717168528': 1, 'headset': 1, 'adp': 1, 'alibi': 1, 'cutting': 1, 'profile': 1, 'bpo': 1, 'stays': 1, 'uncountable': 1, 'paining': 1, 'expert': 1, '84484': 1, 'lnly': 1, 'sez': 1, 'arab': 1, 'evry1': 1, 'eshxxxxxxxxxxx': 1, 'humanities': 1, 'rows': 1, 'suffers': 1, 'silence': 1, 'limit': 1, 'measure': 1, 'boundaries': 1, 'endless': 1, 'shaking': 1, 'screwd': 1, 'woo': 1, 'hoo': 1, 'wrkin': 1, 'lasagna': 1, 'bangbabes': 1, 'bangb': 1, 'rumour': 1, 'applausestore': 1, 'monthlysubscription': 1, 'max6': 1, 'csc': 1, '2stop': 1, 'bari': 1, 'hudgi': 1, 'yorge': 1, 'pataistha': 1, 'ertini': 1, 'intrude': 1, 'thinked': 1, 'pickle': 1, 'every1': 1, 'ava': 1, 'goodtime': 1, 'oli': 1, 'melnite': 1, 'ifink': 1, 'everythin': 1, 'l8rs': 1, 'costumes': 1, 'yowifes': 1, 'gosh': 1, 'spose': 1, 'tiime': 1, '07734396839': 1, 'ibh': 1, 'nokia6600': 1, 'lambu': 1, 'ji': 1, 'batchlor': 1, 'versus': 1, '0089': 1, 'digits': 1, '09063442151': 1, 'text82228': 1, 'logos': 1, 'subscribed': 1, '83435': 1, 'helpline': 1, '08706091795': 1, '087016248': 1, 'upgrdcentre': 1, '9153': 1, 'attracts': 1, 'ebay': 1, '6230': 1, 'pobox114': 1, '14tcr': 1, 'volcanoes': 1, 'erupt': 1, 'arise': 1, 'hurricanes': 1, 'sway': 1, 'aroundn': 1, 'natural': 1, 'disasters': 1, 'chances': 1, 'csh11': 1, '6days': 1, 'tsandcs': 1, 'salesman': 1, 'lim': 1, '08712103738': 1, 'stereo': 1, 'mi': 1, 'unknown': 1, 'textand': 1, '08002988890': 1, 'range': 1, 'interfued': 1, 'sleeps': 1, 'w8in': 1, '4utxt': 1, 'ryder': 1, 'nightnight': 1, 'function': 1, 'firmware': 1, 'apples': 1, 'pairs': 1, 'malarky': 1, 'jontin': 1, 'rules': 1, 'bend': 1, 'thia': 1, 'inlude': 1, 'previews': 1, 'murali': 1, '0844': 1, '861': 1, 'prepayment': 1, 'telediscount': 1, 'oyster': 1, 'sashimi': 1, 'rumbling': 1, 'logging': 1, 'geoenvironmental': 1, 'implications': 1, 'macha': 1, 'mindset': 1, 'resubbing': 1, 'nighters': 1, 'persevered': 1, 'aldrine': 1, 'rtm': 1, 'property': 1, 'faggot': 1, 'macedonia': 1, 'scotland': 1, '4txt': 1, 'ú1': 1, 'poboxox36504w45wq': 1, 'underdtand': 1, 'mandan': 1, '09058091854': 1, 'box385': 1, 'm6': 1, '6wu': 1, 'staff': 1, 'abstract': 1, 'literally': 1, 'crashing': 1, 'bro': 1, 'amongst': 1, 'prakesh': 1, '09058094594': 1, 'bcum': 1, 'scraped': 1, 'barrel': 1, 'misfits': 1, 'furniture': 1, 'chgs': 1, 'rcv': 1, 'crammed': 1, 'grandfather': 1, 'continent': 1, 'wtc': 1, 'weiyi': 1, 'complacent': 1, 'conversations': 1, 'senses': 1, 'overemphasise': 1, 'wifi': 1, 'blanked': 1, '08718727870150ppm': 1, 'burgundy': 1, 'captaining': 1, 'bognor': 1, 'splendid': 1, 'french': 1, 'fooled': 1, 'noncomittal': 1, 'vpod': 1, 'dub': 1, 'je': 1, '07753741225': 1, '08715203677': 1, '42478': 1, 'incomm': 1, 'sources': 1, 'unhappiness': 1, 'ovulate': 1, '2u': 1, '3wks': 1, 'fret': 1, 'goggles': 1, 'styles': 1, 'cheyyamo': 1, 'outs': 1, 'juswoke': 1, 'boatin': 1, 'docks': 1, 'spinout': 1, 'pleasured': 1, 'crowd': 1, 'cardiff': 1, 'maintaining': 1, 'alian': 1, 'scarcasim': 1, 'listed': 1, 'totes': 1, 'shite': 1, 'kip': 1, 'ou': 1, 'basket': 1, 'throws': 1, 'brothers': 1, 'cancelled': 1, 'sacked': 1, 'deserve': 1, 'tight': 1, 'heehee': 1, 'sells': 1, 'skye': 1, 'apology': 1, 'timin': 1, 'steak': 1, '08712402972': 1, 'recorder': 1, 'canname': 1, 'australia': 1, 'mquiz': 1, '07808': 1, 'xxxxxx': 1, '08719899217': 1, 'detail': 1, 'kit': 1, 'strip': 1, '1013': 1, 'ig11': 1, 'oja': 1, 'melody': 1, 'jd': 1, 'accounts': 1, 'executive': 1, 'directors': 1, 'lac': 1, 'deposited': 1, 'taxless': 1, 'jobs': 1, 'suply': 1, 'projects': 1, 'imf': 1, 'blocked': 1, 'corrupt': 1, 'itna': 1, 'karo': 1, 'ki': 1, 'pura': 1, 'padhe': 1, '645': 1, 'jot': 1, 'onum': 1, 'brdget': 1, 'jones': 1, 'mmmmmmm': 1, 'snuggles': 1, 'contented': 1, 'whispers': 1, 'victoria': 1, 'traffic': 1, '09066660100': 1, '2309': 1, 'purchases': 1, 'shoppin': 1, 'millers': 1, '09064012103': 1, 'witin': 1, 'manage': 1, 'christmassy': 1, 'unsubscribed': 1, 'hunks': 1, 'gotbabes': 1, 'subscriptions': 1, '2marrow': 1, 'dose': 1, 'tablet': 1, 'andre': 1, 'virgil': 1, 'flow': 1, 'developed': 1, 'ovarian': 1, 'cysts': 1, 'shrink': 1, 'sheffield': 1, 'nanny': 1, 'vco': 1, 'handsome': 1, 'finding': 1, 'mummy': 1, 'tactful': 1, 'ga': 1, 'bike': 1, '6times': 1, 'thinkthis': 1, 'dangerous': 1, 'gastroenteritis': 1, 'replace': 1, 'temp': 1, 'reduce': 1, 'limiting': 1, 'illness': 1, 'phone750': 1, '09064017305': 1, 'pobox75ldns7': 1, 'funeral': 1, 'cultures': 1, 'entertaining': 1, 'hugh': 1, 'laurie': 1, 'wesley': 1, 'excited': 1, 'antha': 1, 'corrct': 1, 'dane': 1, 'conveying': 1, 'level': 1, '98321561': 1, 'familiar': 1, 'upping': 1, 'grams': 1, 'waqt': 1, 'pehle': 1, 'naseeb': 1, 'zyada': 1, 'kisi': 1, 'ko': 1, 'kuch': 1, 'milta': 1, 'hum': 1, 'sochte': 1, 'jeetey': 1, 'html': 1, 'gbp4': 1, 'mfl': 1, '1146': 1, 'balloon': 1, 'tddnewsletter': 1, 'emc1': 1, 'thedailydraw': 1, 'dozens': 1, 'prizeswith': 1, 'starving': 1, 'heat': 1, 'applyed': 1, 'oil': 1, 'trackmarque': 1, 'vipclub4u': 1, 'shant': 1, 'ceri': 1, 'rebel': 1, 'dreamz': 1, 'buddy': 1, 'blokes': 1, 'lf56': 1, 'cards': 1, 'hire': 1, 'hitman': 1, 'breaker': 1, 'deluxe': 1, 'format': 1, 'features': 1, 'graphics': 1, 'bbdeluxe': 1, 'challenge': 1, '08714712412': 1, 'arabian': 1, 'steed': 1, 'posting': 1, 'pshew': 1, '8000930705': 1, 'tarot': 1, '85555': 1, 'necesity': 1, 'witout': 1, 'colleg': 1, 'wth': 1, 'functions': 1, 'events': 1, 'espe': 1, 'cared': 1, 'irritated': 1, '4wrd': 1, 'wthout': 1, 'takecare': 1, 'priority': 1, 'mw': 1, 'tuth': 1, '1000call': 1, '09071512432': 1, '300603t': 1, 'csbcm4235wc1n3xx': 1, 'callcost150ppmmobilesvary': 1, 'max': 1, 'uv': 1, 'causes': 1, 'mutations': 1, 'sunscreen': 1, 'thesedays': 1, 'diesel': 1, 'hubby': 1, 'meetins': 1, 'cumin': 1, '09099726395': 1, 'prometazine': 1, 'syrup': 1, '5mls': 1, 'feed': 1, 'missunderstding': 1, '7548': 1, '4041': 1, 'worms': 1, 'presnts': 1, 'bcz': 1, 'jeevithathile': 1, 'irulinae': 1, 'neekunna': 1, 'prakasamanu': 1, 'sneham': 1, 'prakasam': 1, 'ennal': 1, 'mns': 1, 'discussed': 1, 'matric': 1, 'spare': 1, 'blastin': 1, 'occur': 1, 'rajnikant': 1, 'ocean': 1, 'okies': 1, '09058097189': 1, 'casualty': 1, 'stuff42moro': 1, 'includes': 1, 'sheets': 1, 'thanks2': 1, 'talks': 1, 'apes': 1, 'predict': 1, 'helloooo': 1, 'welcomes': 1, 'playng': 1, 'idc': 1, 'weaseling': 1, 'isaiah': 1, 'zac': 1, 'restrict': 1, 'antelope': 1, 'toplay': 1, 'fieldof': 1, 'selfindependence': 1, 'contention': 1, 'mental': 1, 'urfeeling': 1, 'bettersn': 1, 'probthat': 1, 'overdose': 1, '83039': 1, '62735': 1, '450': 1, 'accommodationvouchers': 1, 'mustprovide': 1, '15541': 1, 'rhode': 1, 'bong': 1, 'openings': 1, 'upcharge': 1, 'motherfucker': 1, 'pert': 1, 'narcotics': 1, 'tex': 1, 'mecause': 1, 'werebored': 1, 'okden': 1, 'uin': 1, 'likeyour': 1, 'gr8fun': 1, 'updat': 1, 'countinlots': 1, 'loveme': 1, 'sao': 1, '09061749602': 1, '528': 1, 'hp20': 1, '1yf': 1, 'reache': 1, 'seperated': 1, '鈥': 1, '〨ud': 1, 'initiate': 1, 'arithmetic': 1, 'percentages': 1, '0871277810910p': 1, 'necklace': 1, 'token': 1, 'liking': 1, 'olowoyey': 1, 'edu': 1, 'argentina': 1, 'restocked': 1, 'filthyguys': 1, '4msgs': 1, '2yrs': 1, '24th': 1, 'canteen': 1, 'hadn': 1, 'clocks': 1, 'realised': 1, 'wahay': 1, 'decorating': 1, 'possibility': 1, 'floppy': 1, 'snappy': 1, 'shitload': 1, 'inconvenient': 1, 'r836': 1, '09065069154': 1, 'das': 1, 'iknow': 1, 'wellda': 1, 'peril': 1, 'studentfinancial': 1, 'loo': 1, 'ed': 1, 'wud': 1, 'reliant': 1, 'view': 1, 'gays': 1, 'reckon': 1, 'eightish': 1, 'carpark': 1, 'watchin': 1, 'prsn': 1, 'somtimes': 1, 'saves': 1, 'mising': 1, 'keen': 1, '08715203694': 1, 'di': 1, 'srs': 1, 'appointments': 1, 'girlie': 1, 'chik': 1, 'filth': 1, '69669': 1, 'saristar': 1, 'e14': 1, '9yt': 1, '08701752560': 1, '450p': 1, 'stop2': 1, 'supose': 1, 'babysit': 1, '087123002209am': 1, 'amy': 1, 'shanghai': 1, 'cya': 1, 'haiyoh': 1, 'million': 1, 'drivby': 1, '0quit': 1, 'edrunk': 1, 'iff': 1, 'pthis': 1, 'senrd': 1, 'dnot': 1, 'dancce': 1, 'drum': 1, 'basq': 1, 'ihave': 1, '2nhite': 1, 'ros': 1, 'xxxxxxx': 1, 'lakhs': 1, 'wlcome': 1, 'slices': 1, 'guoyang': 1, 'coping': 1, 'punto': 1, 'woulda': 1, 'mathews': 1, 'tait': 1, 'edwards': 1, 'anderson': 1, 'phonebook': 1, 'annoncement': 1, '07046744435': 1, '85222': 1, 'winnersclub': 1, '84': 1, 'gbp1': 1, 'location': 1, 'signin': 1, 'lolnice': 1, '2nights': 1, 'uve': 1, 'wildest': 1, 'strongly': 1, 'creativity': 1, 'stifled': 1, 'glo': 1, 'dehydrated': 1, 'formally': 1, 'elections': 1, 'rounder': 1, 'required': 1, '07973788240': 1, '08715203649': 1, 'spirit': 1, 'rejected': 1, 'nitros': 1, 'performance': 1, 'calculated': 1, 'enc': 1, 'ip': 1, 'minecraft': 1, 'server': 1, 'props': 1, 'grumpy': 1, 'lying': 1, 'muhommad': 1, 'penny': 1, 'returning': 1, 'marking': 1, 'spotty': 1, 'province': 1, 'sterling': 1, 'scorable': 1, 'exposed': 1, 'skyving': 1, '61200': 1, 'packs': 1, 'itcould': 1, 'spiritual': 1, 'tix': 1, '0796xxxxxx': 1, 'prizeawaiting': 1, 'wknd': 1, 'err': 1, 'weekdays': 1, 'nails': 1, 'sian': 1, 'bhaskar': 1, 'lap': 1, 'daaaaa': 1, '65': 1, 'parachute': 1, 'eldest': 1, 'buttons': 1, '08714712388': 1, 'doit': 1, 'mymoby': 1, 'haul': 1, 'anal': 1, 'lips': 1, 'chk': 1, 'dict': 1, 'consider': 1, 'bunkers': 1, 'avo': 1, 'eighth': 1, 'gate': 1, 'uh': 1, 'symptoms': 1, 'babyjontet': 1, 'hassling': 1, 'andres': 1, 'haughaighgtujhyguj': 1, 'coveragd': 1, 'vasai': 1, 'derp': 1, 'complaint': 1, 'abusers': 1, 'calm': 1, 'downon': 1, 'theacusations': 1, 'itxt': 1, 'iwana': 1, 'wotu': 1, 'thew': 1, 'haventcn': 1, 'nething': 1, 'affidavit': 1, 'twiggs': 1, 'courtroom': 1, 'yavnt': 1, '08718738002': 1, '48922': 1, 'lighters': 1, 'hangin': 1, '08714714011': 1, 'jon': 1, 'spain': 1, 'sum': 1, 'dinero': 1, '000pes': 1, 'james': 1, 'sexiest': 1, 'dirtiest': 1, 'boyf': 1, 'interviw': 1, 'continued': 1, 'president': 1, 'conacted': 1, '09111030116': 1, 'pobox12n146tf15': 1, 'ayo': 1, 'travelled': 1, 'shell': 1, 'unconsciously': 1, 'unhappy': 1, 'hypertension': 1, 'videos': 1, 'shsex': 1, 'netun': 1, 'fgkslpopw': 1, 'fgkslpo': 1, 'puzzeles': 1, 'howda': 1, 'mathe': 1, 'samachara': 1, '09066368753': 1, '97n7qp': 1, 'dao': 1, 'tirunelvai': 1, '09064018838': 1, 'cro1327': 1, 'orh': 1, 'photoshop': 1, 'shindig': 1, 'pansy': 1, 'jungle': 1, 'footy': 1, 'stadium': 1, 'large': 1, 'coca': 1, 'cola': 1, 'recognises': 1, 'burial': 1, 'deduct': 1, 'convenience': 1, 'convince': 1, 'witot': 1, 'nutter': 1, 'cutter': 1, 'ctter': 1, 'cttergg': 1, 'cttargg': 1, 'ctargg': 1, 'ctagg': 1, 'ie': 1, 'virgins': 1, 'sexual': 1, 'theirs': 1, '69911': 1, 'teams': 1, 'rugby': 1, 'correctly': 1, '08': 1, '08702490080': 1, '09066358152': 1, 'prompts': 1, 'boggy': 1, 'biatch': 1, '15pm': 1, 'prices': 1, 'wildlife': 1, 'want2come': 1, 'that2worzels': 1, 'wizzle': 1, 'airtel': 1, 'ukp': 1, '09061790125': 1, 'sindu': 1, 'forgiveness': 1, 'fruit': 1, 'lions': 1, 'lionm': 1, 'mono': 1, 'lionp': 1, 'dessert': 1, 'motivating': 1, 'temales': 1, 'grasp': 1, 'lennon': 1, 'units': 1, 'practicing': 1, 'accent': 1, '4years': 1, 'dental': 1, 'nmde': 1, 'dats': 1, 'dogg': 1, 'kills': 1, 'btwn': 1, 'scratching': 1, 'lord': 1, 'rings': 1, 'soundtrack': 1, 'stdtxtrate': 1, 'dialogue': 1, 'reltnship': 1, 'wipe': 1, 'grab': 1, '146tf150p': 1, 'ummma': 1, 'corect': 1, 'speling': 1, '32000': 1, 'legitimat': 1, 'efreefone': 1, 'chad': 1, 'gymnastics': 1, 'christians': 1, 'taj': 1, 'lesser': 1, 'known': 1, 'facts': 1, 'wifes': 1, 'arises': 1, 'hari': 1, 'ubandu': 1, 'disk': 1, 'tmorrow': 1, 'accomodate': 1, 'risks': 1, 'submitting': 1, 'holby': 1, 'onbus': 1, '4a': 1, 'donyt': 1, 'hes': 1, 'latelyxxx': 1, 'brolly': 1, 'franxx': 1, 'stu': 1, 'truble': 1, 'evone': 1, 'hates': 1, 'irritation': 1, 'misscall': 1, 'frndz': 1, '6missed': 1, 'meatballs': 1, 'warwick': 1, 'tmw': 1, 'canceled': 1, 'havn': 1, 'wrking': 1, '09096102316': 1, '3pound': 1, 'spelled': 1, 'caps': 1, 'bullshit': 1, 'rushing': 1, 'real1': 1, 'pushbutton': 1, 'dontcha': 1, 'babygoodbye': 1, 'golddigger': 1, 'webeburnin': 1, 'wnevr': 1, 'fal': 1, 'fals': 1, 'yen': 1, 'madodu': 1, 'nav': 1, 'pretsorginta': 1, 'nammanna': 1, 'pretsovru': 1, 'alwa': 1, 'thnx': 1, 'objection': 1, 'chile': 1, 'subletting': 1, 'bec': 1, 'billy': 1, 'smash': 1, 'religiously': 1, 'woah': 1, 'realising': 1, 'linear': 1, 'algebra': 1, 'sleepin': 1, 'japanese': 1, 'proverb': 1, 'atleast': 1, 'shakespeare': 1, 'tops': 1, 'goigng': 1, 'perfume': 1, 'bani': 1, 'poking': 1, 'canada': 1, 'loans': 1, 'champ': 1, 'glasgow': 1, 'hme': 1, 'arrow': 1, 'stash': 1, 'fried': 1, 'spares': 1, 'looovvve': 1, 'andrews': 1, '08718738034': 1, 'unicef': 1, 'asian': 1, 'tsunami': 1, 'disaster': 1, 'fund': 1, '864233': 1, 'chief': 1, 'plural': 1, 'toyota': 1, 'camry': 1, 'olayiwola': 1, 'mileage': 1, 'landing': 1, '09066364349': 1, 'box434sk38wp150ppm18': 1, '07008009200': 1, 'obedient': 1, 'swatch': 1, '116': 1, 'swimsuit': 1, 'dock': 1, 'rolled': 1, 'newscaster': 1, 'dabbles': 1, 'flute': 1, 'wheel': 1, 'xin': 1, 'baig': 1, 'watches': 1, 'goods': 1, 'creepy': 1, 'cutie': 1, 'hills': 1, 'panties': 1, 'jeans': 1, 'somewhr': 1, 'crushes': 1, '448712404000': 1, '08712404000': 1, 'evey': 1, 'uploaded': 1, 'steyn': 1, 'wicket': 1, 'buffy': 1, 'satisfy': 1, 'qlynnbv': 1, 'help08700621170150p': 1, 'cl': 1, 'sometext': 1, 'chinatown': 1, 'porridge': 1, 'claypot': 1, 'yam': 1, 'fishhead': 1, 'beehoon': 1, '2morro': 1, 'passion': 1, '09099726481': 1, 'dena': 1, 'referin': 1, 'promotion': 1, '8714714': 1, 'uhhhhrmm': 1, 'youre': 1, 'forgets': 1, 'lastest': 1, 'stereophonics': 1, 'marley': 1, 'dizzee': 1, 'racal': 1, 'libertines': 1, 'strokes': 1, 'nookii': 1, 'bookmark': 1, 'l8': 1, 'gon': 1, 'wherre': 1, 'rub': 1, '09050005321': 1, 'beth': 1, 'charlie': 1, 'internal': 1, 'extract': 1, 'impatient': 1, 'belligerent': 1, 'copied': 1, 'hearts': 1, 'goodnoon': 1, 'fwiw': 1, 'afford': 1, 'multiply': 1, 'independently': 1, 'showed': 1, 'gsex': 1, '2667': 1, 'wc1n': 1, '3xx': 1, 'justify': 1, 'florida': 1, 'didntgive': 1, 'bellearlier': 1, 'bedbut': 1, 'thepub': 1, 'uwana': 1, 'jenxxx': 1, 'placed': 1, 'accenture': 1, 'lovin': 1, 'oga': 1, 'computational': 1, 'guessed': 1, 'keyword': 1, 'yupz': 1, 'slots': 1, 'hugging': 1, 'adjustable': 1, 'cooperative': 1, 'allows': 1, 'walsall': 1, 'tue': 1, 'terry': 1, 'the4th': 1, 'october': 1, 'waheeda': 1, 'fathima': 1, 'inner': 1, 'tigress': 1, 'zogtorius': 1, 'trash': 1, 'showr': 1, '09061743806': 1, 'box326': 1, 'somewhat': 1, 'laden': 1, 'wrecked': 1, 'korean': 1, 'stubborn': 1, 'sucker': 1, 'hospitals': 1, 'suckers': 1, 'practising': 1, 'curtsey': 1, 'greatness': 1, 'enjoyin': 1, 'sall': 1, 'hehe': 1, 'shexy': 1, 'friendships': 1, 'potter': 1, 'phoenix': 1, 'readers': 1, 'juliana': 1, 'consent': 1, 'unconscious': 1, 'adults': 1, 'abnormally': 1, 'ashwini': 1, '0721072': 1, 'wenever': 1, 'yah': 1, 'jade': 1, 'paul': 1, 'barmed': 1, 'shadow': 1, 'childporn': 1, '61610': 1, '08712400602450p': 1, 'provided': 1, 'tones2you': 1, 'thout': 1, 'butting': 1, 'heads': 1, 'vs': 1, 'chillin': 1, 'hdd': 1, 'casing': 1, 'musthu': 1, 'stability': 1, 'tranquility': 1, 'vibrant': 1, 'colourful': 1, 'mc': 1, 'constant': 1, 'liquor': 1, 'loko': 1, 'payed2day': 1, 'havbeen': 1, 'rise': 1, '4my': 1, 'havebeen': 1, 'preschoolco': 1, 'ordinator': 1, '2i': 1, 'feelingood': 1, '89105': 1, '88800': 1, '89034': 1, '08718711108': 1, 'breather': 1, 'granted': 1, 'fulfil': 1, 'rebtel': 1, 'firefox': 1, 'mmmmm': 1, 'sooooo': 1, 'yuou': 1, 'spot': 1, 'crucial': 1, 'chiong': 1, 'samus': 1, 'shoulders': 1, 'cough': 1, 'dice': 1, '83370': 1, 'trivia': 1, 'fifty': 1, 'weaknesses': 1, 'knee': 1, 'exposes': 1, 'pulls': 1, 'wicked': 1, 'rounds': 1, 'hearin': 1, 'monoc': 1, 'monos': 1, 'polyc': 1, 'stream': 1, '0871212025016': 1, 'sip': 1, 'consensus': 1, 'held': 1, 'prasad': 1, 'wall': 1, 'spageddies': 1, 'coccooning': 1, 'revealing': 1, 'crucify': 1, 'squeezed': 1, 'disastrous': 1, 'fav': 1, 'wld': 1, 'thin': 1, 'arguments': 1, 'fed': 1, 'himso': 1, 'julianaland': 1, 'oblivious': 1, 'msging': 1, 'shining': 1, 'increase': 1, 'snowman': 1, 'angels': 1, 'snowball': 1, 'formatting': 1, 'nearby': 1, 'cliffs': 1, 'randomlly': 1, 'opening': 1, 'memorable': 1, 'lingerie': 1, 'bridal': 1, 'petticoatdreams': 1, 'weddingfriend': 1, 'pure': 1, 'hearted': 1, 'enemies': 1, 'smiley': 1, 'accessible': 1, '08709501522': 1, '139': 1, 'la3': 1, '2wu': 1, 'daytime': 1, 'busty': 1, '09099726429': 1, 'janinexx': 1, 'permission': 1, '420': 1, 'starve': 1, 'apologize': 1, '08707500020': 1, 'gamb': 1, 'cab': 1, 'steps': 1, 'improved': 1, 'grandmas': 1, 'hungover': 1, 'lasting': 1, 'jelly': 1, 'f4q': 1, 'youi': 1, 'upon': 1, 'ahhhh': 1, 'ow': 1, '60': 1, '400thousad': 1, 'dudette': 1, 'nevering': 1, 'meaningless': 1, 'perpetual': 1, 'dd': 1, 'unspoken': 1, '3000': 1, 'finn': 1, 'custom': 1, 'officer': 1, 'panic': 1, 'surrender': 1, 'nearer': 1, 'spacebucks': 1, 'ploughing': 1, 'pile': 1, 'ironing': 1, 'chinky': 1, 'genius': 1, 'jokin': 1, 'onam': 1, 'sirji': 1, 'tata': 1, 'aig': 1, 'watts': 1, 'infront': 1, 'borderline': 1, 'fatty': 1, 'tantrum': 1, 'deficient': 1, 'showers': 1, 'possessiveness': 1, 'poured': 1, 'golden': 1, 'gaze': 1, 'knickers': 1, '01223585236': 1, 'nikiyu4': 1, '08719839835': 1, 'mgs': 1, '89123': 1, 'bits': 1, 'ammae': 1, 'steering': 1, 'ridden': 1, 'thanku': 1, 'lara': 1, '2hrs': 1, 'raviyog': 1, 'peripherals': 1, 'bhayandar': 1, 'dabooks': 1, 'thesmszone': 1, 'anonymous': 1, 'masked': 1, 'abuse': 1, 'establish': 1, 'conference': 1, '08719181503': 1, 'reg': 1, 'pract': 1, 'flung': 1, 'slurp': 1, 'horse': 1, 'veggie': 1, 'grr': 1, 'pharmacy': 1, 'gnarls': 1, 'barkleys': 1, 'drastic': 1, 'multimedia': 1, 'macs': 1, 'toot': 1, 'minus': 1, 'paragraphs': 1, 'coughing': 1, 'recharged': 1, 'chloe': 1, 'opened': 1, 'olave': 1, 'mandara': 1, 'trishul': 1, 'kalainar': 1, 'thenampet': 1, 'relaxing': 1, '7am': 1, '5ish': 1, 'heavily': 1, 'steamboat': 1, 'puppy': 1, 'noise': 1, 'selfish': 1, 'limited': 1, 'priest': 1, 'needing': 1, 'pai': 1, 'seh': 1, 'dorothy': 1, 'kiefer': 1, 'stressful': 1, 'tues': 1, 'crashed': 1, 'cuddled': 1, 'officially': 1, 'philosophical': 1, 'hole': 1, 'prone': 1, 'burden': 1, 'plum': 1, 'smacks': 1, 'neighbors': 1, 'xafter': 1, 'cst': 1, 'chg': 1, 'oclock': 1, 'bash': 1, 'elama': 1, 'mudyadhu': 1, 'gandhipuram': 1, 'voted': 1, 'jaklin': 1, 'shade': 1, 'luckily': 1, 'starring': 1, 'sux': 1, 'raiden': 1, 'professional': 1, 'tiger': 1, 'woods': 1, 'fondly': 1, 'thot': 1, 'needy': 1, 'blanket': 1, 'african': 1, 'soil': 1, 'recieve': 1, 'channel': 1, 'teletext': 1, 'tip': 1, 'drove': 1, 'topic': 1, 'swan': 1, 'antibiotic': 1, 'abdomen': 1, 'gynae': 1, 'lindsay': 1, 'bars': 1, 'heron': 1, 'lunchtime': 1, 'organise': 1, 'opposite': 1, 'ke': 1, 'qi': 1, 'suddenly': 1, 'soz': 1, 'imat': 1, 'mums': 1, 'evaluation': 1, '7cfca1a': 1, 'quitting': 1, 'least5times': 1, 'wudn': 1, '3mobile': 1, 'chatlines': 1, 'inclu': 1, 'servs': 1, 'l8er': 1, 'bailiff': 1, 'fumbling': 1, 'dentist': 1, 'kfc': 1, 'meals': 1, 'gravy': 1, 'epi': 1, '09058099801': 1, 'b4190604': 1, '7876150ppm': 1, 'cloud': 1, 'barbie': 1, 'ken': 1, 'fink': 1, '09099726553': 1, 'promised': 1, 'carlie': 1, 'minmobsmore': 1, 'lkpobox177hp51fl': 1, 'pisces': 1, 'aquarius': 1, 'blank': 1, 'nauseous': 1, 'dieting': 1, 'heroes': 1, 'tips': 1, 'tamilnadu': 1, 'dates': 1, 'walkabout': 1, 'shorts': 1, 'sections': 1, 'clearer': 1, 'hesitate': 1, 'weakness': 1, 'notebook': 1, 'optin': 1, 'bbc': 1, 'charts': 1, 'meive': 1, 'gotany': 1, 'ecstasy': 1, 'protect': 1, 'threats': 1, 'sib': 1, 'sensitive': 1, 'passwords': 1, 'snickering': 1, 'chords': 1, 'apeshit': 1, 'faded': 1, 'glory': 1, 'ralphs': 1, 'oreo': 1, 'truffles': 1, 'tallahassee': 1, 'wtlp': 1, 'ndship': 1, 'needle': 1, '4few': 1, 'conected': 1, '9t': 1, 'grocers': 1, 'jp': 1, 'mofo': 1, 'lock': 1, 'keypad': 1, '07808247860': 1, '08719899229': 1, '40411': 1, 'abeg': 1, 'sponsors': 1, 'arranging': 1, 'scenery': 1, '5226': 1, 'hava': 1, '1131': 1, '10th': 1, '09050000555': 1, 'ba128nnfwfly150ppm': 1, 'base': 1, '09050000878': 1, 'horniest': 1, 'stagwood': 1, 'winterstone': 1, 'victors': 1, 'rocking': 1, 'ashes': 1, 'dreading': 1, 'thou': 1, 'mina': 1, 'fucks': 1, 'beerage': 1, '1pm': 1, 'describe': 1, '09061701851': 1, 'k61': 1, '12hours': 1, 'concentration': 1, 'tomorro': 1, 'x29': 1, '09065989180': 1, 'tai': 1, 'feng': 1, 'reservations': 1, 'gek1510': 1, 'jerk': 1, 'names': 1, 'fredericksburg': 1, 'mountain': 1, 'deer': 1, 'goodo': 1, 'ratio': 1, 'repent': 1, 'dhanush': 1, 'sorts': 1, 'dept': 1, '08717507382': 1, 'passes': 1, '08704439680': 1, 'taxt': 1, 'massage': 1, 'tie': 1, 'pos': 1, 'lool': 1, 'poet': 1, 'imagination': 1, '62220cncl': 1, 'stopcs': 1, '08717890890': 1, 'built': 1, 'lonlines': 1, 'lotz': 1, 'memories': 1, 'landmark': 1, 'bob': 1, 'barry': 1, '83738': 1, 'infact': 1, 'ujhhhhhhh': 1, 'sandiago': 1, 'parantella': 1, 'poop': 1, 'offering': 1, 'hont': 1, 'starshine': 1, 'sips': 1, 'continue': 1, 'brisk': 1, 'walks': 1, 'pleasant': 1, 'statements': 1, 'thus': 1, 'obey': 1, 'settling': 1, 'happenin': 1, 'piece': 1, 'payed': 1, 'suganya': 1, 'minimum': 1, '3miles': 1, 'blogging': 1, 'magicalsongs': 1, 'blogspot': 1, 'wallet': 1, '08701213186': 1, 'gravel': 1, '31p': 1, 'awww': 1, 'sold': 1, 'amanda': 1, 'regard': 1, 'renewing': 1, 'upgrading': 1, 'subject': 1, 'southern': 1, 'loyal': 1, 'customers': 1, '09066380611': 1, 'mistakes': 1, 'mails': 1, 'nationwide': 1, 'newport': 1, 'balls': 1, 'laready': 1, 'coco': 1, '09058095201': 1, 'str8': 1, 'classic': 1, '200p': 1, 'quiteamuzing': 1, 'scool': 1, 'probpop': 1, 'cu': 1, 'satthen': 1, '4brekkie': 1, 'psxtra': 1, 'lrg': 1, 'portions': 1, 'pubs': 1, 'frankie': 1, 'bennys': 1, 'hf8': 1, 'triple': 1, 'echo': 1, 'field': 1, 'powerful': 1, 'weapon': 1, 'occupy': 1, 'digi': 1, 'coupla': 1, 'wks': 1, 'contribute': 1, 'greatly': 1, 'perform': 1, 'lavender': 1, 'tonght': 1, 'kane': 1, 'shud': 1, 'trauma': 1, 'swear': 1, 'jod': 1, 'keris': 1, 'smidgin': 1, 'gauti': 1, 'sehwag': 1, 'form': 1, 'clark': 1, 'utter': 1, 'bawling': 1, 'failure': 1, 'failing': 1, 'rip': 1, 'uterus': 1, '169': 1, '6031': 1, '850': 1, '650': 1, 'splash': 1, 'pose': 1, 'comb': 1, 'dryer': 1, '09050000332': 1, 'gokila': 1, 'spaces': 1, 'embassy': 1, 'belive': 1, '28thfeb': 1, '2stoptxt': 1, 'tim': 1, 'bollox': 1, 'tol': 1, 'folks': 1, 'september': 1, 'table': 1, 'avalarr': 1, 'hollalater': 1, 'dolls': 1, 'patrick': 1, 'swayze': 1, 'emailed': 1, 'yifeng': 1, '4the': 1, 'guides': 1, '449050000301': 1, '09050000301': 1, 'auntie': 1, 'huai': 1, 'blowing': 1, 'noooooooo': 1, 'oral': 1, 'position': 1, 'resolution': 1, 'frank': 1, 'drama': 1, 'struggling': 1, 'strange': 1, 'ego': 1, 'necessity': 1, 'reppurcussions': 1, 'rebooting': 1, 'turned': 1, '09066649731from': 1, 'degrees': 1, 'iron': 1, 'such': 1, 'oooooh': 1, 'peach': 1, 'tasts': 1, 'port': 1, 'cps': 1, 'outages': 1, 'conserve': 1, 'fridge': 1, '2814032': 1, '3x': 1, '150pw': 1, 'secured': 1, 'unsecured': 1, '195': 1, '6669': 1, 'prediction': 1, 'dokey': 1, 'pleassssssseeeeee': 1, 'sportsx': 1, 'relieved': 1, 'westonzoyland': 1, 'missions': 1, 'li': 1, 'lecturer': 1, 'repeating': 1, 'denying': 1, 'restrictions': 1, 'buddys': 1, 'salmon': 1, 'recycling': 1, 'earning': 1, 'ax': 1, 'engagement': 1, 'fixd': 1, 'njan': 1, 'vilikkam': 1, 'sudn': 1, 'neshanth': 1, 'cried': 1, 'comprehensive': 1, 'jewelry': 1, 'haunt': 1, 'promoting': 1, 'cumming': 1, 'sentiment': 1, 'rowdy': 1, 'attitude': 1, 'shy': 1, 'attractive': 1, 'irritating': 1, 'spreadsheet': 1, 'determine': 1, 'entire': 1, '2bold': 1, 'sterm': 1, 'resolved': 1, 'fortune': 1, 'halloween': 1, '08701417012150p': 1, 'inspection': 1, 'nursery': 1, 'fastest': 1, 'growing': 1, '83021': 1, 'ana': 1, 'sathy': 1, 'rto': 1, '09090204448': 1, 'minded': 1, 'minapn': 1, 'ls278bb': 1, 'receipts': 1, 'fox': 1, 'frndsship': 1, 'dwn': 1, 'bleak': 1, 'lit': 1, 'fire': 1, 'aaooooright': 1, 'aust': 1, 'bk': 1, 'gota': 1, 'wasnt': 1, 'ummifying': 1, 'dent': 1, 'dusk': 1, 'puzzles': 1, 'rob': 1, 'mack': 1, 'gf': 1, 'theater': 1, 'intention': 1, 'visitors': 1, 'placement': 1, 'agent': 1, 'goodies': 1, 'mat': 1, 'dull': 1, 'rcb': 1, 'battle': 1, 'kochi': 1, 'lapdancer': 1, 'g2': 1, '1da': 1, '150ppmsg': 1, 'meat': 1, 'lovers': 1, 'supreme': 1, 'grateful': 1, 'happier': 1, 'goin2bed': 1, 'only1more': 1, 'cherthala': 1, 'cochin': 1, 'bfore': 1, 'tmorow': 1, 'engaged': 1, 'suggestion': 1, 'lands': 1, 'helps': 1, 'forgt': 1, 'previous': 1, 'arguing': 1, '08715203685': 1, '4xx26': 1, 'vibrate': 1, 'luton': 1, '0125698789': 1, 'sq825': 1, 'arrival': 1, 'giggle': 1, 'possibly': 1, 'person2die': 1, 'nvq': 1, 'image': 1, 'lay': 1, 'bimbo': 1, 'ugo': 1, '1mega': 1, 'pixels': 1, '3optical': 1, '5digital': 1, 'dooms': 1, '09065174042': 1, '07821230901': 1, 'transport': 1, 'problematic': 1, 'sapna': 1, 'manege': 1, 'hogidhe': 1, 'chinnu': 1, 'swalpa': 1, 'agidhane': 1, 'hillsborough': 1, 'losers': 1, 'hype': 1, '700': 1, 'studio': 1, 'sickness': 1, 'lag': 1, 'machines': 1, 'alto18': 1, 'asp': 1, '44345': 1, 'payments': 1, 'fedex': 1, 'zoe': 1, 'hos': 1, '2morow': 1, 'borrow': 1, 'blankets': 1, 'thx': 1, 'emotion': 1, 'prayrs': 1, 'othrwise': 1, 'explicitly': 1, 'nora': 1, 'cheque': 1, 'ay': 1, 'habba': 1, 'install': 1, 'browse': 1, 'artists': 1, 'wondarfull': 1, 'sumthin': 1, '08718723815': 1, 'rp176781': 1, 'regalportfolio': 1, '08717205546': 1, 'ryan': 1, 'dependents': 1, 'hen': 1, '20m12aq': 1, 'subscribers': 1, 'pierre': 1, 'cardin': 1, '2geva': 1, 'mint': 1, 'simpsons': 1, 'band': 1, 'garments': 1, 'brainy': 1, '087104711148': 1, 'ahhh': 1, 'vaguely': 1, 'wishlist': 1, 'section': 1, 'nitro': 1, 'requests': 1, 'magic': 1, 'tirunelvali': 1, 'absence': 1, 'backwards': 1, 'rdy': 1, 'gained': 1, 'pressure': 1, 'limits': 1, 'related': 1, 'arul': 1, 'acknowledgement': 1, 'astoundingly': 1, 'tactless': 1, 'oath': 1, 'fo': 1, 'annoying': 1, '078': 1, 'hanger': 1, 'chit': 1, 'logon': 1, '8883': 1, 'cm': 1, '4217': 1, 'w1a': 1, '6zf': 1, '118p': 1, 'arty': 1, 'collages': 1, 'tryin': 1, 'thankyou': 1, 'freak': 1, 'payasam': 1, 'rinu': 1, 'reassuring': 1, 'ooooooh': 1, 'yoville': 1, 'fps': 1, '83118': 1, 'colin': 1, 'farrell': 1, 'swat': 1, 'mre': 1, '08452810071': 1, 'ipad': 1, 'emerging': 1, 'fiend': 1, 'impede': 1, 'hesitant': 1, 'hopeso': 1, 'amnow': 1, 'ithink': 1, 'tonsolitusaswell': 1, 'layin': 1, 'bedreal': 1, 'lotsof': 1, 'ortxt': 1, 'shattered': 1, 'hottest': 1, 'sunoco': 1, 'tiring': 1, 'concentrating': 1, 'degree': 1, 'finance': 1, 'requirements': 1, 'slob': 1, 'jide': 1, 'visiting': 1, 'dawns': 1, 'refreshed': 1, '5pm': 1, '95': 1, 'pax': 1, 'deposit': 1, 'bar': 1, 'satsgettin': 1, '47per': 1, 'endowed': 1, 'parkin': 1, '2channel': 1, 'leadership': 1, 'skills': 1, 'psychic': 1, 'web2mobile': 1, 'txt250': 1, 'box139': 1, 'la32wu': 1, 'txtx': 1, 'happiest': 1, 'characters': 1, 'differences': 1, 'spontaneously': 1, 'goodevening': 1, 'jos': 1, 'windy': 1, 'above': 1, 'impressed': 1, 'funs': 1, 'mushy': 1, 'embarrassed': 1, 'headin': 1, 'busetop': 1, 'nte': 1, 'fainting': 1, 'housework': 1, 'cuppa': 1, 'wahleykkum': 1, 'visitor': 1, 'machi': 1, 'tacos': 1, 'exhaust': 1, 'replacing': 1, 'riley': 1, 'abbey': 1, 'iraq': 1, 'afghanistan': 1, 'stable': 1, 'honest': 1, 'traveling': 1, 'nimbomsons': 1, 'guesses': 1, 'attach': 1, 'printing': 1, 'handing': 1, 'callon': 1, 'hustle': 1, 'forth': 1, 'harlem': 1, 'wahala': 1, 'mb': 1, 'torture': 1, 'saibaba': 1, 'colany': 1, 'prayers': 1, 'contacts': 1, 'purple': 1, 'yelow': 1, 'brown': 1, '09058094455': 1, 'twinks': 1, 'scallies': 1, 'skins': 1, 'jocks': 1, '08712466669': 1, 'learned': 1, 'dine': 1, 'tensed': 1, 'synced': 1, 'shangela': 1, 'attended': 1, 'half8th': 1, 'presents': 1, 'nicky': 1, '2years': 1, 'strain': 1, 'alter': 1, 'gage': 1, 'deck': 1, 'cnupdates': 1, 'newsletter': 1, 'alerts': 1, 'astrology': 1, 'gopalettan': 1, 'participate': 1, 'wrks': 1, 'topped': 1, 'bubbletext': 1, 'renewal': 1, 'tgxxrz': 1, 'waliking': 1, 'cruisin': 1, 'teju': 1, 'famamus': 1, 'woul': 1, 'curfew': 1, 'gibe': 1, 'getsleep': 1, 'studdying': 1, 'lib': 1, 'twins': 1, 'pity': 1, 'suggestions': 1, 'slower': 1, 'maniac': 1, 'walmart': 1, 'mouse': 1, 'desk': 1, 'chase': 1, 'crossing': 1, '2u2': 1, 'mentionned': 1, 'mike': 1, 'hussey': 1, 'evaporated': 1, 'privacy': 1, 'stealing': 1, 'employer': 1, 'danger': 1, 'peeps': 1, 'comment': 1, 'gobi': 1, 'selflessness': 1, 'txtstar': 1, 'vitamin': 1, 'kaila': 1, 'mad1': 1, 'mad2': 1, 'aptitude': 1, 'hardcore': 1, '69200': 1, 'chrgd': 1, '2exit': 1, 'studyn': 1, 'saeed': 1, 'jeremiah': 1, 'squishy': 1, 'mwahs': 1, 'oi': 1, 'ami': 1, 'parchi': 1, 'kicchu': 1, 'kaaj': 1, 'korte': 1, 'iccha': 1, 'korche': 1, 'tul': 1, 'jacuzzi': 1, 'highest': 1, 'maximum': 1, '71': 1, 'unnecessarily': 1, 'hostile': 1, 'va': 1, 'leads': 1, 'comingdown': 1, 'individual': 1, 'gong': 1, 'kaypoh': 1, 'detailed': 1, 'shortcode': 1, '83332': 1, '08081263000': 1, 'refunded': 1, 'guai': 1, 'congratulation': 1, 'toledo': 1, 'allday': 1, 'risk': 1, 'sparkling': 1, 'breaks': 1, '45': 1, '0121': 1, '2025050': 1, 'shortbreaks': 1, 'org': 1, 'gam': 1, 'timings': 1, 'checkin': 1, 'semiobscure': 1, 'fightng': 1, 'dificult': 1, 'w4': 1, '5wq': 1, 'operate': 1, 'footie': 1, 'phil': 1, 'neville': 1, 'importantly': 1, 'luvs': 1, 'ffffffffff': 1, 'headstart': 1, 'rummer': 1, '09061790126': 1, 'workout': 1, 'fats': 1, 'uniform': 1, 'enjoying': 1, 'proper': 1, 'tongued': 1, 'ew': 1, 'whereare': 1, 'friendsare': 1, 'thekingshead': 1, 'canlove': 1, 'flew': 1, 'sporadically': 1, 'gua': 1, 'faber': 1, 'nokia6650': 1, 'ctxt': 1, 'mtmsg': 1, 'fireplace': 1, 'icon': 1, 'involve': 1, 'imposed': 1, 'ball': 1, 'moving': 1, 'spin': 1, 'hunting': 1, 'worrying': 1, 'quizzes': 1, 'skateboarding': 1, 'thrown': 1, 'winds': 1, 'bandages': 1, 'smoked': 1, 'loooooool': 1, 'couch': 1, 'womdarfull': 1, 'youphone': 1, 'athome': 1, 'youwanna': 1, '6hrs': 1, 'surgical': 1, 'emergency': 1, 'unfolds': 1, 'whn': 1, 'duffer': 1, '087187272008': 1, 'now1': 1, 'banneduk': 1, 'poyyarikatur': 1, 'kolathupalayam': 1, 'unjalur': 1, 'erode': 1, 'neck': 1, 'killing': 1, 'amigos': 1, 'burn': 1, 'caroline': 1, 'tall': 1, '08712400200': 1, 'everyones': 1, 'babysitting': 1, 'converted': 1, 'audiitions': 1, 'relocate': 1, 'nick': 1, 'types': 1, 'werethe': 1, 'monkeespeople': 1, 'monkeyaround': 1, 'howdy': 1, 'howu': 1, 'foundurself': 1, 'jobyet': 1, 'sausage': 1, 'proze': 1, 'norcorp': 1, 'nus': 1, 'sc': 1, 'specialise': 1, 'wad': 1, 'abj': 1, 'aslamalaikkum': 1, 'tohar': 1, 'beeen': 1, 'muht': 1, 'albi': 1, 'mufti': 1, 'mahfuuz': 1, 'galileo': 1, 'panther': 1, 'sugababes': 1, 'zebra': 1, 'badass': 1, 'hoody': 1, 'feathery': 1, 'bowa': 1, 'olol': 1, 'gpu': 1, 'thanx4': 1, 'cer': 1, 'allo': 1, 'braved': 1, 'trains': 1, 'triumphed': 1, 'owl': 1, 'licks': 1, 'sports': 1, 'footbl': 1, 'crckt': 1, 'hanks': 1, 'lotsly': 1, 'dentists': 1, 'approaching': 1, 'sankranti': 1, 'republic': 1, 'shivratri': 1, 'ugadi': 1, 'fools': 1, 'independence': 1, 'teachers': 1, 'childrens': 1, 'festival': 1, 'dasara': 1, 'mornings': 1, 'afternoons': 1, 'rememberi': 1, 'achan': 1, 'amma': 1, 'dodgey': 1, 'recovery': 1, 'joys': 1, 'lifeis': 1, 'daywith': 1, 'somewheresomeone': 1, 'tosend': 1, 'greeting': 1, '087018728737': 1, 'toppoly': 1, 'tune': 1, '09066361921': 1, '08719899230': 1, 'hunt': 1, 'gist': 1, 'ninish': 1, 'icky': 1, 'freek': 1, 'treasure': 1, 'split': 1, 'reminded': 1, 'taka': 1, 'meaningful': 1, 'paypal': 1, 'voila': 1, 'pockets': 1, 'hearing': 1, 'aluable': 1, 'ffectionate': 1, 'oveable': 1, 'ternal': 1, 'oble': 1, 'ruthful': 1, 'ntimate': 1, 'atural': 1, 'namous': 1, 'absolutely': 1, 'scratches': 1, '087147123779am': 1, 'shouting': 1, 'hvae': 1, '09061701444': 1, 'refund': 1, 'ello': 1, 'invention': 1, 'fly': 1, 'ambitious': 1, 'smell': 1, 'tobacco': 1, 'doke': 1, 'laying': 1, 'waaaat': 1, 'lololo': 1, 'freaking': 1, 'myspace': 1, 'logged': 1, 'lov': 1, 'tolerat': 1, 'bcs': 1, '2getha': 1, 'thirtyeight': 1, 'langport': 1, 'go2sri': 1, 'lanka': 1, 'smiled': 1, 'broth': 1, 'ramen': 1, 'goodmate': 1, 'asusual': 1, 'cheered': 1, 'franyxxxxx': 1, 'cutest': 1, '4qf2': 1, 'adewale': 1, 'egbon': 1, 'ingredients': 1, 'noi': 1, 'js': 1, 'consistently': 1, 'practicum': 1, 'links': 1, 'ears': 1, 'cozy': 1, 'sittin': 1, 'drops': 1, 'forwarding': 1, 'les': 1, 'rudi': 1, 'snoring': 1, 'ink': 1, 'everyboy': 1, 'xxxxxxxx': 1, '09061104283': 1, '50pm': 1, 'passport': 1, 'finalise': 1, 'dancin': 1, 'roles': 1, 'outreach': 1, 'tram': 1, 'vic': 1, 'timi': 1, 'configure': 1, 'nhs': 1, '2b': 1, 'terminated': 1, 'inconvenience': 1, 'pressies': 1, 'freinds': 1, 'rayman': 1, 'golf': 1, 'activ8': 1, 'termsapply': 1, 'jersey': 1, 'devils': 1, 'detroit': 1, 'wings': 1, 'incorrect': 1, 'deny': 1, 'fffff': 1, 'kadeem': 1, 'accomodations': 1, 'cave': 1, 'offered': 1, 'embarassing': 1, '08001950382': 1, '674': 1, 'inpersonation': 1, 'flea': 1, '0a': 1, 'companies': 1, 'responsible': 1, 'suppliers': 1, 'guarantee': 1, 'laughs': 1, 'downstem': 1, 'jabo': 1, 'gravity': 1, 'carefully': 1, 'rearrange': 1, 'dormitory': 1, 'astronomer': 1, 'starer': 1, 'election': 1, 'recount': 1, 'hitler': 1, 'eleven': 1, 'program': 1, 'slacking': 1, 'western': 1, 'buz': 1, 'wedlunch': 1, 'outsomewhere': 1, 'adrink': 1, '2watershd': 1, 'fromwrk': 1, 'bthere': 1, 'petexxx': 1, 'size': 1, 'elephant': 1, 'shove': 1, 'um': 1, 'nachos': 1, 'eta': 1, 'neglect': 1, 'designation': 1, 'developer': 1, 'ambrith': 1, 'madurai': 1, 'dha': 1, 'marrge': 1, 'enufcredeit': 1, 'tocall': 1, 'ileave': 1, 'arestaurant': 1, 'squid': 1, 'dosomething': 1, 'toilet': 1, 'stolen': 1, 'cops': 1, 'mus': 1, 'shola': 1, 'department': 1, 'sagamu': 1, 'lautech': 1, 'vital': 1, 'completes': 1, 'education': 1, 'zealand': 1, 'asa': 1, 'occasion': 1, 'celebrated': 1, 'reflection': 1, 'values': 1, 'desires': 1, 'affections': 1, 'traditions': 1, 'sonetimes': 1, 'rough': 1, 'leading': 1, '151': 1, 'pause': 1, 'apologetic': 1, 'fallen': 1, 'actin': 1, 'spoilt': 1, 'badly': 1, 'excuses': 1, 'rr': 1, 'identification': 1, 'catches': 1, 'stil': 1, 'tobed': 1, '430': 1, '4goten': 1, 'scammers': 1, 'pdate_now': 1, 'yhl': 1, 'desparately': 1, 'possession': 1, 'xam': 1, '1thing': 1, 'answr': 1, 'dogbreath': 1, 'sounding': 1, 'alaikkum': 1, 'lifting': 1, 'subs16': 1, '1win150ppmx3': 1, 'rct': 1, 'thnq': 1, 'adrian': 1, 'vatian': 1, 'flowers': 1, '505060': 1, 'brighten': 1, 'nelson': 1, 'begun': 1, 'registration': 1, 'permanent': 1, 'residency': 1, 'punj': 1, 'transfr': 1, 'smith': 1, 'gayle': 1, 'shanil': 1, 'exchanged': 1, 'uncut': 1, 'diamond': 1, 'dino': 1, 'shelf': 1, 'commercial': 1, 'hasbro': 1, 'jump': 1, 'hoops': 1, 'gauge': 1, 'hep': 1, 'immunisation': 1, '08712402779': 1, 'chickened': 1, 'woould': 1, 'genes': 1, 'panasonic': 1, 'bluetoothhdset': 1, 'doublemins': 1, 'doubletxt': 1, 'urination': 1, 'packing': 1, 'rajitha': 1, 'ranju': 1, 'karnan': 1, '6pm': 1, 'prasanth': 1, 'ettans': 1, 'tunde': 1, 'youdoing': 1, 'sar': 1, 'pobox202': 1, 'nr31': 1, '7zs': 1, '450pw': 1, 'wondar': 1, 'flim': 1, 'thkin': 1, 'nowhere': 1, 'ikno': 1, 'doesdiscount': 1, 'shitinnit': 1, 'forfeit': 1, 'justthought': 1, 'sayhey': 1, 'nearly': 1, 'endof': 1, 'offdam': 1, 'nevamind': 1, '2hook': 1, 'uwant': 1, 'onluy': 1, 'matters': 1, 'offcampus': 1, 'sth': 1, 'specs': 1, 'px3748': 1, 'spoil': 1, 'whens': 1, 'honestly': 1, 'promptly': 1, 'burnt': 1, 'sday': 1, 'yetty': 1, 'weren': 1, 'kidding': 1, 'bud': 1, 'lined': 1, 'snowboarding': 1, 'shoes': 1, 'corvettes': 1, 'rencontre': 1, 'mountains': 1, 'hides': 1, 'thousands': 1, 'secrets': 1, 'n8': 1, 'edison': 1, 'rightly': 1, 'wise': 1, 'viva': 1, 'gnt': 1, 'wined': 1, 'dined': 1, 'pandy': 1, '4w': 1, 'technologies': 1, 'propose': 1, 'seing': 1, 'asssssholeeee': 1, 'glorious': 1, 'finds': 1, 'coaxing': 1, 'images': 1, 'fond': 1, 'souveniers': 1, 'cougar': 1, 'cheery': 1, 'webpage': 1, 'fetching': 1, 'onwords': 1, 'mtnl': 1, 'mumbai': 1, 'stitch': 1, 'trouser': 1, 'secretly': 1, '09065394973': 1, 'datebox1282essexcm61xn': 1, 'investigate': 1, 'marandratha': 1, 'jolt': 1, 'owned': 1, 'possessive': 1, 'steal': 1, 'passable': 1, 'phd': 1, '5years': 1, 'ccna': 1, 'biro': 1, 'eventually': 1, 'tolerance': 1, 'hits': 1, 'cloth': 1, 'pack': 1, 'hundreds': 1, 'handsomes': 1, 'beauties': 1, 'aunties': 1, 'remb': 1, 'win150ppmx3age16': 1, 'jerry': 1, 'irritates': 1, 'fails': 1, 'chuckin': 1, 'trainners': 1, 'carryin': 1, 'bac': 1, 'velusamy': 1, 'facilities': 1, 'varaya': 1, 'elaya': 1, 'sooo': 1, 'nuerologist': 1, 'craving': 1, 'bffs': 1, 'carly': 1, 'hairdressers': 1, 'beforehand': 1, 'celebrations': 1, '09066358361': 1, 'y87': 1, 'sorta': 1, 'blown': 1, 'frequently': 1, 'musical': 1, 'league': 1, 'everyso': 1, 'panicks': 1, 'marvel': 1, 'ultimate': 1, '83338': 1, '8ball': 1, 'chillaxin': 1, 'serving': 1, 'stories': 1, 'vijaykanth': 1, 'drunken': 1, 'smartcall': 1, '68866': 1, 'subscriptn3gbp': 1, '08448714184': 1, 'landlineonly': 1, 'deltomorrow': 1, '140': 1, '180': 1, 'postponed': 1, 'stocked': 1, 'rg21': 1, '4jx': 1, 'bridge': 1, 'lager': 1, 'erutupalam': 1, 'thandiyachu': 1, '1apple': 1, '1tulsi': 1, 'leaf': 1, '1lemon': 1, '1cup': 1, 'problms': 1, 'litres': 1, 'watr': 1, 'diseases': 1, 'snd': 1, 'whore': 1, 'unbelievable': 1, 'gray': 1, 'listn': 1, 'watevr': 1, 'stressed': 1, 'stink': 1, 'entrepreneurs': 1, 'payback': 1, 'telugu': 1, 'optimistic': 1, 'kavalan': 1, 'stripes': 1, 'skirt': 1, 'chick': 1, 'boobs': 1, 'bluray': 1, 'tescos': 1, '077xxx': 1, '09066362206': 1, '08708800282': 1, 'shrek': 1, '3d': 1, 'somerset': 1, 'el': 1, 'nino': 1, 'himself': 1, 'funk': 1, 'tones2u': 1, 'afternon': 1, 'interviews': 1, 'natwest': 1, 'ringing': 1, 'houseful': 1, 'brats': 1, 'pulling': 1, 'hooked': 1, 'asia': 1, 'coimbatore': 1, 'swollen': 1, 'glands': 1, 'nosy': 1, 'reacting': 1, 'freaked': 1, '08718726971': 1, 'basketball': 1, 'outdoors': 1, 'compass': 1, 'soul': 1, 'gnun': 1, 'way2sms': 1, 'tp': 1, 'offline': 1, 'anjola': 1, 'bridgwater': 1, 'banter': 1, '121': 1, '09094646899': 1, 'vu': 1, 'bcm1896wc1n3xx': 1, 'seekers': 1, 'rt': 1, 'pro': 1, '08701237397': 1, 'redeemable': 1, 'crickiting': 1, 'resizing': 1, 'zoom': 1, 'firsg': 1, 'hon': 1, 'squeeeeeze': 1, 'frndshp': 1, 'luvd': 1, '2mro': 1, '08715500022': 1, 'rpl': 1, 'cnl': 1, 'ammo': 1, 'ak': 1, 'cupboard': 1, 'gurl': 1, 'appropriate': 1, 'someplace': 1, 'lodge': 1, 'signal': 1, 'unusual': 1, '08700469649': 1, 'box420': 1, 'famous': 1, 'unconditionally': 1, 'temper': 1, 'shun': 1, 'bian': 1, 'glass': 1, 'exhibition': 1, 'companion': 1, 'chef': 1, 'listener': 1, 'organizer': 1, 'sympathetic': 1, 'athletic': 1, 'courageous': 1, 'determined': 1, 'dependable': 1, 'psychologist': 1, 'pest': 1, 'exterminator': 1, 'psychiatrist': 1, 'healer': 1, 'stylist': 1, 'aaniye': 1, 'pudunga': 1, 'venaam': 1, 'suffering': 1, 'dysentry': 1, 'dramatic': 1, 'schools': 1, 'okors': 1, '09050001295': 1, 'a21': 1, 'ore': 1, 'owo': 1, 'fro': 1, '80160': 1, 'txt43': 1, '09058094507': 1, 'blimey': 1, 'exercise': 1, 'tkls': 1, 'stoptxtstop': 1, 'sts': 1, 'msn': 1, 'nange': 1, 'bakra': 1, 'kalstiya': 1, 'axel': 1, 'akon': 1, 'eyed': 1, 'smsing': 1, '515': 1, 'rv': 1, 'rvx': 1, 'solihull': 1, 'hmph': 1, 'baller': 1, 'buyers': 1, 'dang': 1, 'significance': 1, 'host': 1, 'based': 1, 'idps': 1, 'linux': 1, 'systems': 1, 'drms': 1, 'north': 1, 'carolina': 1, 'texas': 1, 'gre': 1, 'bunch': 1, 'lotto': 1, 'fired': 1, 'breeze': 1, 'fresh': 1, 'twittering': 1, 'tscs08714740323': 1, '1winawk': 1, '50perweeksub': 1, 'axis': 1, 'perf': 1, 'completing': 1, '80608': 1, 'movietrivia': 1, '08712405022': 1, 'atten': 1, 'lovly': 1, 'wisheds': 1, 'toshiba': 1, 'portege': 1, 'm100': 1, '69855': 1, 'stopbcm': 1, 'sf': 1, 'satanic': 1, 'imposter': 1, 'destiny': 1, 'appy': 1, 'fizz': 1, 'contains': 1, 'breaking': 1, 'cstore': 1, 'monster': 1, 'hmv1': 1, 'z': 1, 'soc': 1, '09': 1, '0871': 1, '872': 1, '9755': 1, 'box95qu': 1, 'ooh': 1, '4got': 1, 'moseley': 1, 'weds': 1, 'skint': 1, 'fancied': 1, 'bevies': 1, 'waz': 1, 'othrs': 1, 'spoon': 1, 'watchng': 1, 'comfey': 1, '09058094583': 1, 'ripped': 1, 'clubmoby': 1, '08717509990': 1, 'several': 1, 'occurs': 1, 'bsn': 1, 'advising': 1, 'attraction': 1, 'breath': 1, 'sorrows': 1, 'craziest': 1, 'proove': 1, 'praises': 1, 'makiing': 1, 'sambar': 1})\n"
     ]
    }
   ],
   "source": [
    "from sklearn.linear_model import LogisticRegression\n",
    "from collections import Counter\n",
    "import numpy as np\n",
    "from sklearn.metrics import precision_recall_fscore_support\n",
    "\n",
    "\n",
    "def tokenize(text):\n",
    "    return re.split(r\"\\W+\", text)\n",
    "\n",
    "# Calculate TF-IDF\n",
    "def compute_tf_idf(train_texts, test_texts):\n",
    "    word_to_idx = {}\n",
    "    tf_idf_train, tf_idf_test = [], []\n",
    "\n",
    "    # Build vocabulary\n",
    "    word_counts = Counter(token for text in train_texts for token in tokenize(text))\n",
    "    print(word_counts)\n",
    "    word_to_idx = {word: i for i, word in enumerate(word_counts)}\n",
    "\n",
    "    # Calculate IDF\n",
    "    doc_counts = Counter(word for text in train_texts for word in set(tokenize(text)))\n",
    "    num_docs = len(train_texts)\n",
    "    idf = {word: np.log((num_docs + 1) / (doc_counts[word] + 1)) + 1 for word in word_to_idx}\n",
    "\n",
    "    # Compute TF-IDF for each document\n",
    "    def tf_idf_vector(text):\n",
    "        tokens = tokenize(text)\n",
    "        # Calculate term frequency\n",
    "        term_freq = Counter(tokens)\n",
    "        tf_idf = [term_freq[word] * idf.get(word, 0) for word in word_to_idx]\n",
    "        return np.array(tf_idf)\n",
    "\n",
    "    #Convert texts to vectors\n",
    "    tf_idf_train = np.array([tf_idf_vector(text) for text in train_texts])\n",
    "    tf_idf_test = np.array([tf_idf_vector(text) for text in test_texts])\n",
    "    return tf_idf_train, tf_idf_test\n",
    "\n",
    "tf_idf_train, tf_idf_test = compute_tf_idf(train_texts, test_texts)"
   ]
  },
  {
   "cell_type": "markdown",
   "metadata": {
    "id": "s_Eo0ZR3gVdk"
   },
   "source": [
    "## Step 3.3: Logistic regression"
   ]
  },
  {
   "cell_type": "code",
   "execution_count": null,
   "metadata": {
    "colab": {
     "base_uri": "https://localhost:8080/"
    },
    "id": "0GtB5MDKgVdl",
    "outputId": "89c58d3c-2cbf-4c9e-f4ac-b324977d1836"
   },
   "outputs": [
    {
     "name": "stdout",
     "output_type": "stream",
     "text": [
      "Tf-idf by hand - Precision: 1.0, Recall: 0.875, F1: 0.9333333333333333\n"
     ]
    }
   ],
   "source": [
    "# Logistic Regression\n",
    "# https://scikit-learn.org/stable/modules/generated/sklearn.linear_model.LogisticRegression.html\n",
    "model = LogisticRegression()\n",
    "model.fit(tf_idf_train, train_labels)\n",
    "predictions = model.predict(tf_idf_test)\n",
    "\n",
    "# Metrics\n",
    "precision, recall, f1, _ = precision_recall_fscore_support(test_labels, predictions, average='binary')\n",
    "print(f\"Tf-idf by hand - Precision: {precision}, Recall: {recall}, F1: {f1}\")"
   ]
  },
  {
   "cell_type": "markdown",
   "metadata": {
    "id": "uxa98T1igVdl"
   },
   "source": [
    "# Step 4: Naive Bayes and Tf-idf using Scikit-learn\n",
    "## Step 4.1： Traning and test the model"
   ]
  },
  {
   "cell_type": "code",
   "execution_count": null,
   "metadata": {
    "colab": {
     "base_uri": "https://localhost:8080/"
    },
    "id": "pv81xAtkgVdl",
    "outputId": "2f5e0f46-0f28-4893-ff9b-bbb7db823c1a"
   },
   "outputs": [
    {
     "name": "stdout",
     "output_type": "stream",
     "text": [
      "['00' '000' '000pes' ... 'zyada' 'èn' 'ú1']\n",
      "(4457, 7699)\n",
      "Scikit-learn Naive Bayes - Precision: 1.0, Recall: 0.6578947368421053, F1: 0.7936507936507936\n",
      "Scikit-learn Tf-idf - Precision: 1.0, Recall: 0.7631578947368421, F1: 0.8656716417910447\n"
     ]
    }
   ],
   "source": [
    "# Now let's use sklearn to do the same thing\n",
    "# https://scikit-learn.org/stable/modules/generated/sklearn.feature_extraction.text.TfidfVectorizer.html\n",
    "from sklearn.feature_extraction.text import TfidfVectorizer\n",
    "# https://scikit-learn.org/stable/modules/generated/sklearn.naive_bayes.MultinomialNB.html#sklearn.naive_bayes.MultinomialNB\n",
    "from sklearn.naive_bayes import MultinomialNB\n",
    "\n",
    "tfidf = TfidfVectorizer()\n",
    "X_train = tfidf.fit_transform(train_df['Message'])\n",
    "\n",
    "# Naive Bayes\n",
    "vectorizer = TfidfVectorizer()\n",
    "X_train = vectorizer.fit_transform(train_texts)\n",
    "\n",
    "print(tfidf.get_feature_names_out())\n",
    "print(X_train.shape)\n",
    "\n",
    "X_test = vectorizer.transform(test_texts)\n",
    "\n",
    "nb_model = MultinomialNB()\n",
    "nb_model.fit(X_train, train_labels)\n",
    "nb_predictions = nb_model.predict(X_test)\n",
    "\n",
    "# Metrics\n",
    "precision, recall, f1, _ = precision_recall_fscore_support(test_labels, nb_predictions, average='binary')\n",
    "print(f\"Scikit-learn Naive Bayes - Precision: {precision}, Recall: {recall}, F1: {f1}\")\n",
    "\n",
    "# Logistic Regression with Tf-idf\n",
    "model = LogisticRegression()\n",
    "model.fit(X_train, train_labels)\n",
    "lr_predictions = model.predict(X_test)\n",
    "\n",
    "# Metrics\n",
    "precision_word, recall_word, f1_word, _ = precision_recall_fscore_support(test_labels, lr_predictions, average='binary')\n",
    "print(f\"Scikit-learn Tf-idf - Precision: {precision_word}, Recall: {recall_word}, F1: {f1_word}\")\n"
   ]
  },
  {
   "cell_type": "markdown",
   "metadata": {
    "id": "rX3ZUwUHgVdl"
   },
   "source": [
    "## Step 4.2: Compare diffrent parameters"
   ]
  },
  {
   "cell_type": "code",
   "execution_count": null,
   "metadata": {
    "colab": {
     "base_uri": "https://localhost:8080/"
    },
    "id": "pztagHMFgVdm",
    "outputId": "e18632d9-7b1c-4f5b-d9be-27c0eae5a68e"
   },
   "outputs": [
    {
     "name": "stdout",
     "output_type": "stream",
     "text": [
      "[' !' ' ! ' ' ! *' ... '鈥┾' '鈥┾?' '鈥┾??']\n",
      "(4457, 54330)\n",
      "Word-level TF-IDF - Precision: 1.00, Recall: 0.76, F1 Score: 0.87\n",
      "Character-level TF-IDF - Precision: 1.00, Recall: 0.82, F1 Score: 0.90\n"
     ]
    }
   ],
   "source": [
    "# Character-level tf-idf\n",
    "vectorizer_char = TfidfVectorizer(analyzer='char', ngram_range=(2, 4))\n",
    "X_train_char = vectorizer_char.fit_transform(train_texts)\n",
    "X_test_char = vectorizer_char.transform(test_texts)\n",
    "\n",
    "print(vectorizer_char.get_feature_names_out())\n",
    "print(X_train_char.shape)\n",
    "\n",
    "model_char = LogisticRegression()\n",
    "model_char.fit(X_train_char, train_labels)\n",
    "predictions_char = model_char.predict(X_test_char)\n",
    "\n",
    "# Metrics for character-level\n",
    "precision_char, recall_char, f1_char, _ = precision_recall_fscore_support(test_labels, predictions_char, average='binary')\n",
    "\n",
    "# Print results\n",
    "print(f\"Word-level TF-IDF - Precision: {precision_word:.2f}, Recall: {recall_word:.2f}, F1 Score: {f1_word:.2f}\")\n",
    "print(f\"Character-level TF-IDF - Precision: {precision_char:.2f}, Recall: {recall_char:.2f}, F1 Score: {f1_char:.2f}\")"
   ]
  },
  {
   "cell_type": "markdown",
   "metadata": {
    "id": "Zmd9eP_BgVdm"
   },
   "source": [
    "## Step 4.3: Analyzation\n",
    "We'll compare the performance of two models:\n",
    "Word-level tf-idf: Default analyzer='word'\n",
    "Character-level tf-idf: analyzer='char' with n-grams of size 2 to 4\n",
    "\n",
    "### Explanation:\n",
    "Word-level TF-IDF:\n",
    "Extracts features based on complete words.\n",
    "Works well for normal text but might miss patterns in noisy text.\n",
    "\n",
    "Character-level TF-IDF:\n",
    "Extracts features based on overlapping character n-grams.\n",
    "Captures subword patterns and spelling variations (e.g., \"fr3e\" and \"free\").\n",
    "Useful for SMS spam detection where abbreviations and non-standard spellings are common.\n",
    "\n",
    "### Result:\n",
    "The character-level model performs better than the word-level model due to its ability to capture patterns in noisy and creative text.\n",
    "A potential downside is the increased computational cost due to larger feature space, especially for higher n-gram ranges."
   ]
  },
  {
   "cell_type": "markdown",
   "metadata": {
    "id": "HpjnXT1qgVdm"
   },
   "source": [
    "# Step 5: BERT\n",
    "## Step 5.1: Load BERT model and tokenizer"
   ]
  },
  {
   "cell_type": "code",
   "execution_count": null,
   "metadata": {
    "colab": {
     "base_uri": "https://localhost:8080/"
    },
    "id": "BuQ7JmzogVdm",
    "outputId": "83eddaff-fe3b-4616-f4d1-b86b851fc315"
   },
   "outputs": [
    {
     "name": "stdout",
     "output_type": "stream",
     "text": [
      "Using GPU  Tesla T4\n"
     ]
    }
   ],
   "source": [
    "import torch\n",
    "\n",
    "from transformers import BertTokenizer, BertForMaskedLM\n",
    "\n",
    "if torch.cuda.is_available():\n",
    "    device = torch.device(\"cuda\")\n",
    "    print('Using GPU ', torch.cuda.get_device_name(0))\n",
    "else:\n",
    "    device = torch.device(\"cpu\")\n",
    "    print('Using CPU')\n",
    "\n",
    "\n",
    "tokenizer = BertTokenizer.from_pretrained('bert-base-uncased')\n",
    "\n",
    "# model = BertForMaskedLM.from_pretrained('bert-base-uncased', return_dict=True)\n",
    "# log_softmax = torch.nn.LogSoftmax(dim=0)\n",
    "# mask_token = tokenizer.mask_token\n",
    "# model.to(device)\n",
    "# model.train()\n",
    "\n",
    "train_encodings = tokenizer(list(train_texts), truncation=True, padding=True, max_length=10)\n",
    "test_encodings = tokenizer(list(test_texts), truncation=True, padding=True, max_length=10)\n"
   ]
  },
  {
   "cell_type": "code",
   "execution_count": null,
   "metadata": {
    "id": "xhrKLt1VgVdn"
   },
   "outputs": [],
   "source": [
    "import torch.nn as nn\n",
    "from transformers import BertModel\n",
    "\n",
    "class CustomBertClassifier(nn.Module):\n",
    "    def __init__(self, bert_model_name='bert-base-uncased', num_labels=2):\n",
    "        super(CustomBertClassifier, self).__init__()\n",
    "        # Load the pretrained BERT model\n",
    "        self.bert = BertModel.from_pretrained(bert_model_name)\n",
    "        # # Add a dropout layer for regularization\n",
    "        # self.dropout = nn.Dropout(0.3)\n",
    "        # Add a linear layer for classification\n",
    "        # Define the loss function\n",
    "        self.loss_fn = nn.CrossEntropyLoss()\n",
    "        self.classifier = nn.Linear(self.bert.config.hidden_size, num_labels)\n",
    "\n",
    "    def forward(self, input_ids, attention_mask, token_type_ids=None, labels=None):\n",
    "        # Pass inputs through BERT\n",
    "        outputs = self.bert(\n",
    "            input_ids=input_ids,\n",
    "            attention_mask=attention_mask,\n",
    "            token_type_ids=token_type_ids,\n",
    "            return_dict=False\n",
    "        )\n",
    "        # Use the [CLS] token representation\n",
    "        pooled_output = outputs[1]\n",
    "        # Apply dropout\n",
    "        # pooled_output = self.dropout(pooled_output)\n",
    "        # Pass through the classification layer\n",
    "\n",
    "        logits = self.classifier(pooled_output)\n",
    "        if labels is not None:\n",
    "            # Compute loss\n",
    "            loss = self.loss_fn(logits, labels)\n",
    "            return loss, logits\n",
    "        return logits"
   ]
  },
  {
   "cell_type": "markdown",
   "metadata": {
    "id": "HLunXO6ygVdn"
   },
   "source": [
    "## Step 5.2: Create a Dataset Class"
   ]
  },
  {
   "cell_type": "code",
   "execution_count": null,
   "metadata": {
    "colab": {
     "base_uri": "https://localhost:8080/"
    },
    "id": "uRTozBHAgVdn",
    "outputId": "a94fdb00-84f0-44d5-bc05-3796915e1259"
   },
   "outputs": [
    {
     "name": "stdout",
     "output_type": "stream",
     "text": [
      "{'input_ids': tensor([  101,  7514,  2000,  2663, 27708,  4882,   999,  2073,  2097,   102]), 'token_type_ids': tensor([0, 0, 0, 0, 0, 0, 0, 0, 0, 0]), 'attention_mask': tensor([1, 1, 1, 1, 1, 1, 1, 1, 1, 1]), 'labels': tensor(1)}\n",
      "{'input_ids': tensor([ 101, 5490, 5657, 4402, 4402, 4371,  999,  999, 2023,  102]), 'token_type_ids': tensor([0, 0, 0, 0, 0, 0, 0, 0, 0, 0]), 'attention_mask': tensor([1, 1, 1, 1, 1, 1, 1, 1, 1, 1]), 'labels': tensor(0)}\n"
     ]
    }
   ],
   "source": [
    "import torch\n",
    "\n",
    "class SpamDataset(torch.utils.data.Dataset):\n",
    "    def __init__(self, encodings, labels):\n",
    "        self.encodings = encodings\n",
    "        self.labels = labels\n",
    "\n",
    "    def __len__(self):\n",
    "        return len(self.labels)\n",
    "\n",
    "    def __getitem__(self, idx):\n",
    "        item = {key: torch.tensor(val[idx]) for key, val in self.encodings.items()}\n",
    "        item['labels'] = torch.tensor(self.labels[idx])\n",
    "        return item\n",
    "\n",
    "train_dataset = SpamDataset(train_encodings, train_labels.tolist())\n",
    "test_dataset = SpamDataset(test_encodings, test_labels.tolist())\n",
    "\n",
    "print(train_dataset[0])\n",
    "print(test_dataset[0])"
   ]
  },
  {
   "cell_type": "markdown",
   "metadata": {
    "id": "Xh3j5IkEgVdn"
   },
   "source": [
    "## Step 5.3: Set up KFlod Cross Validation"
   ]
  },
  {
   "cell_type": "code",
   "execution_count": null,
   "metadata": {
    "id": "2spxkBS4gVdn"
   },
   "outputs": [],
   "source": [
    "from sklearn.model_selection import KFold\n",
    "from transformers import BertForSequenceClassification, Trainer, TrainingArguments, EarlyStoppingCallback\n",
    "from torch.utils.data import DataLoader, Subset\n",
    "\n",
    "kfold = KFold(n_splits=5, shuffle=True, random_state=42)\n",
    "learning_rates = [5e-5, 3e-5, 2e-5]  # Learning rates to test\n",
    "best_lr = None\n",
    "lowest_loss = float('inf')\n",
    "max_epochs = 20\n",
    "early_stopping_patience = 4\n",
    "\n",
    "# Function for evaluating the model on a fold\n",
    "def train_and_evaluate_model(train_idx, val_idx, lr):\n",
    "    # Create training and validation sets\n",
    "    train_subset = Subset(train_dataset, train_idx)\n",
    "    val_subset = Subset(train_dataset, val_idx)\n",
    "\n",
    "    # DataLoaders\n",
    "    # train_loader = DataLoader(train_subset, batch_size=10, shuffle=True)\n",
    "    # val_loader = DataLoader(val_subset, batch_size=10, shuffle=False)\n",
    "\n",
    "    # Model\n",
    "    # model = BertForSequenceClassification.from_pretrained('bert-base-uncased', num_labels=2)\n",
    "    # Initialize the custom BERT classifier\n",
    "    custom_model = CustomBertClassifier(bert_model_name='bert-base-uncased', num_labels=2)\n",
    "    custom_model.to(device)\n",
    "    # model.to(device)\n",
    "\n",
    "    # Trainer\n",
    "    training_args = TrainingArguments(\n",
    "        output_dir='./results',\n",
    "        evaluation_strategy='epoch',\n",
    "        learning_rate=lr,\n",
    "        per_device_train_batch_size=10,\n",
    "        num_train_epochs=max_epochs,\n",
    "        weight_decay=0.01,\n",
    "        save_total_limit=1,\n",
    "        logging_dir='./logs',\n",
    "        load_best_model_at_end=True,\n",
    "        save_strategy=\"epoch\",\n",
    "        metric_for_best_model=\"eval_loss\",\n",
    "        greater_is_better=False\n",
    "    )\n",
    "\n",
    "    trainer = Trainer(\n",
    "        model=custom_model,\n",
    "        args=training_args,\n",
    "        train_dataset=train_subset,\n",
    "        eval_dataset=val_subset,\n",
    "        callbacks=[EarlyStoppingCallback(early_stopping_patience)]\n",
    "    )\n",
    "\n",
    "    trainer.train()\n",
    "\n",
    "    eval_metrics = trainer.evaluate()\n",
    "    return eval_metrics['eval_loss'], model"
   ]
  },
  {
   "cell_type": "markdown",
   "metadata": {
    "id": "VBRxWJhdgVdo"
   },
   "source": [
    "## Step 5.4: Cross-validation"
   ]
  },
  {
   "cell_type": "code",
   "execution_count": null,
   "metadata": {
    "colab": {
     "base_uri": "https://localhost:8080/",
     "height": 1000,
     "referenced_widgets": [
      "5837648e0b8d4031b6dabc3ad0693833",
      "08f007595ca24e60a1baf955a0036fd7",
      "45a24d75e8fa47e8ba3621d2b417a51a",
      "5e6d9c23abca4883a28eb6e463827654",
      "5b0793cd968545dc98fba58e37cffde4",
      "b53327af628f4b1ea67613a401e694fd",
      "6dc9ad150ce346248c352f8c59364e79",
      "4bbe310a312f43e8b334f5490d304560",
      "2067322b9b354225a14ef2114f91cf46",
      "448d6455366843e69b2645e23bcface9",
      "392839c777d9445d8f8d4ac3a3b541ff"
     ]
    },
    "id": "v13dIqj6gVdo",
    "outputId": "5ef8d16c-6f3e-44da-c333-369cc7571039"
   },
   "outputs": [
    {
     "name": "stdout",
     "output_type": "stream",
     "text": [
      "Learning Rate: 5e-05, Fold: 1\n"
     ]
    },
    {
     "data": {
      "application/vnd.jupyter.widget-view+json": {
       "model_id": "5837648e0b8d4031b6dabc3ad0693833",
       "version_major": 2,
       "version_minor": 0
      },
      "text/plain": [
       "model.safetensors:   0%|          | 0.00/440M [00:00<?, ?B/s]"
      ]
     },
     "metadata": {},
     "output_type": "display_data"
    },
    {
     "name": "stderr",
     "output_type": "stream",
     "text": [
      "/usr/local/lib/python3.10/dist-packages/transformers/training_args.py:1568: FutureWarning: `evaluation_strategy` is deprecated and will be removed in version 4.46 of 🤗 Transformers. Use `eval_strategy` instead\n",
      "  warnings.warn(\n",
      "\u001b[34m\u001b[1mwandb\u001b[0m: \u001b[33mWARNING\u001b[0m The `run_name` is currently set to the same value as `TrainingArguments.output_dir`. If this was not intended, please specify a different run name by setting the `TrainingArguments.run_name` parameter.\n",
      "\u001b[34m\u001b[1mwandb\u001b[0m: Using wandb-core as the SDK backend.  Please refer to https://wandb.me/wandb-core for more information.\n"
     ]
    },
    {
     "data": {
      "application/javascript": "\n        window._wandbApiKey = new Promise((resolve, reject) => {\n            function loadScript(url) {\n            return new Promise(function(resolve, reject) {\n                let newScript = document.createElement(\"script\");\n                newScript.onerror = reject;\n                newScript.onload = resolve;\n                document.body.appendChild(newScript);\n                newScript.src = url;\n            });\n            }\n            loadScript(\"https://cdn.jsdelivr.net/npm/postmate/build/postmate.min.js\").then(() => {\n            const iframe = document.createElement('iframe')\n            iframe.style.cssText = \"width:0;height:0;border:none\"\n            document.body.appendChild(iframe)\n            const handshake = new Postmate({\n                container: iframe,\n                url: 'https://wandb.ai/authorize'\n            });\n            const timeout = setTimeout(() => reject(\"Couldn't auto authenticate\"), 5000)\n            handshake.then(function(child) {\n                child.on('authorize', data => {\n                    clearTimeout(timeout)\n                    resolve(data)\n                });\n            });\n            })\n        });\n    ",
      "text/plain": [
       "<IPython.core.display.Javascript object>"
      ]
     },
     "metadata": {},
     "output_type": "display_data"
    },
    {
     "name": "stderr",
     "output_type": "stream",
     "text": [
      "\u001b[34m\u001b[1mwandb\u001b[0m: Logging into wandb.ai. (Learn how to deploy a W&B server locally: https://wandb.me/wandb-server)\n",
      "\u001b[34m\u001b[1mwandb\u001b[0m: You can find your API key in your browser here: https://wandb.ai/authorize\n",
      "wandb: Paste an API key from your profile and hit enter, or press ctrl+c to quit:\u001b[34m\u001b[1mwandb\u001b[0m: Appending key for api.wandb.ai to your netrc file: /root/.netrc\n"
     ]
    },
    {
     "data": {
      "text/html": [
       "Tracking run with wandb version 0.18.7"
      ],
      "text/plain": [
       "<IPython.core.display.HTML object>"
      ]
     },
     "metadata": {},
     "output_type": "display_data"
    },
    {
     "data": {
      "text/html": [
       "Run data is saved locally in <code>/content/wandb/run-20241204_034955-6qe9cxjq</code>"
      ],
      "text/plain": [
       "<IPython.core.display.HTML object>"
      ]
     },
     "metadata": {},
     "output_type": "display_data"
    },
    {
     "data": {
      "text/html": [
       "Syncing run <strong><a href='https://wandb.ai/ian_zhao/huggingface/runs/6qe9cxjq' target=\"_blank\">./results</a></strong> to <a href='https://wandb.ai/ian_zhao/huggingface' target=\"_blank\">Weights & Biases</a> (<a href='https://wandb.me/developer-guide' target=\"_blank\">docs</a>)<br/>"
      ],
      "text/plain": [
       "<IPython.core.display.HTML object>"
      ]
     },
     "metadata": {},
     "output_type": "display_data"
    },
    {
     "data": {
      "text/html": [
       " View project at <a href='https://wandb.ai/ian_zhao/huggingface' target=\"_blank\">https://wandb.ai/ian_zhao/huggingface</a>"
      ],
      "text/plain": [
       "<IPython.core.display.HTML object>"
      ]
     },
     "metadata": {},
     "output_type": "display_data"
    },
    {
     "data": {
      "text/html": [
       " View run at <a href='https://wandb.ai/ian_zhao/huggingface/runs/6qe9cxjq' target=\"_blank\">https://wandb.ai/ian_zhao/huggingface/runs/6qe9cxjq</a>"
      ],
      "text/plain": [
       "<IPython.core.display.HTML object>"
      ]
     },
     "metadata": {},
     "output_type": "display_data"
    },
    {
     "data": {
      "text/html": [
       "\n",
       "    <div>\n",
       "      \n",
       "      <progress value='2499' max='7140' style='width:300px; height:20px; vertical-align: middle;'></progress>\n",
       "      [2499/7140 04:27 < 08:17, 9.32 it/s, Epoch 7/20]\n",
       "    </div>\n",
       "    <table border=\"1\" class=\"dataframe\">\n",
       "  <thead>\n",
       " <tr style=\"text-align: left;\">\n",
       "      <th>Epoch</th>\n",
       "      <th>Training Loss</th>\n",
       "      <th>Validation Loss</th>\n",
       "    </tr>\n",
       "  </thead>\n",
       "  <tbody>\n",
       "    <tr>\n",
       "      <td>1</td>\n",
       "      <td>No log</td>\n",
       "      <td>0.139354</td>\n",
       "    </tr>\n",
       "    <tr>\n",
       "      <td>2</td>\n",
       "      <td>0.159100</td>\n",
       "      <td>0.172739</td>\n",
       "    </tr>\n",
       "    <tr>\n",
       "      <td>3</td>\n",
       "      <td>0.049300</td>\n",
       "      <td>0.124421</td>\n",
       "    </tr>\n",
       "    <tr>\n",
       "      <td>4</td>\n",
       "      <td>0.049300</td>\n",
       "      <td>0.175897</td>\n",
       "    </tr>\n",
       "    <tr>\n",
       "      <td>5</td>\n",
       "      <td>0.015600</td>\n",
       "      <td>0.136128</td>\n",
       "    </tr>\n",
       "    <tr>\n",
       "      <td>6</td>\n",
       "      <td>0.010500</td>\n",
       "      <td>0.239063</td>\n",
       "    </tr>\n",
       "    <tr>\n",
       "      <td>7</td>\n",
       "      <td>0.010500</td>\n",
       "      <td>0.214803</td>\n",
       "    </tr>\n",
       "  </tbody>\n",
       "</table><p>"
      ],
      "text/plain": [
       "<IPython.core.display.HTML object>"
      ]
     },
     "metadata": {},
     "output_type": "display_data"
    },
    {
     "data": {
      "text/html": [
       "\n",
       "    <div>\n",
       "      \n",
       "      <progress value='112' max='112' style='width:300px; height:20px; vertical-align: middle;'></progress>\n",
       "      [112/112 00:01]\n",
       "    </div>\n",
       "    "
      ],
      "text/plain": [
       "<IPython.core.display.HTML object>"
      ]
     },
     "metadata": {},
     "output_type": "display_data"
    },
    {
     "name": "stdout",
     "output_type": "stream",
     "text": [
      "Learning Rate: 5e-05, Fold: 2\n"
     ]
    },
    {
     "name": "stderr",
     "output_type": "stream",
     "text": [
      "/usr/local/lib/python3.10/dist-packages/transformers/training_args.py:1568: FutureWarning: `evaluation_strategy` is deprecated and will be removed in version 4.46 of 🤗 Transformers. Use `eval_strategy` instead\n",
      "  warnings.warn(\n"
     ]
    },
    {
     "data": {
      "text/html": [
       "\n",
       "    <div>\n",
       "      \n",
       "      <progress value='2142' max='7140' style='width:300px; height:20px; vertical-align: middle;'></progress>\n",
       "      [2142/7140 03:40 < 08:34, 9.71 it/s, Epoch 6/20]\n",
       "    </div>\n",
       "    <table border=\"1\" class=\"dataframe\">\n",
       "  <thead>\n",
       " <tr style=\"text-align: left;\">\n",
       "      <th>Epoch</th>\n",
       "      <th>Training Loss</th>\n",
       "      <th>Validation Loss</th>\n",
       "    </tr>\n",
       "  </thead>\n",
       "  <tbody>\n",
       "    <tr>\n",
       "      <td>1</td>\n",
       "      <td>No log</td>\n",
       "      <td>0.130078</td>\n",
       "    </tr>\n",
       "    <tr>\n",
       "      <td>2</td>\n",
       "      <td>0.161000</td>\n",
       "      <td>0.129499</td>\n",
       "    </tr>\n",
       "    <tr>\n",
       "      <td>3</td>\n",
       "      <td>0.054100</td>\n",
       "      <td>0.169329</td>\n",
       "    </tr>\n",
       "    <tr>\n",
       "      <td>4</td>\n",
       "      <td>0.054100</td>\n",
       "      <td>0.156190</td>\n",
       "    </tr>\n",
       "    <tr>\n",
       "      <td>5</td>\n",
       "      <td>0.019000</td>\n",
       "      <td>0.139707</td>\n",
       "    </tr>\n",
       "    <tr>\n",
       "      <td>6</td>\n",
       "      <td>0.015900</td>\n",
       "      <td>0.160952</td>\n",
       "    </tr>\n",
       "  </tbody>\n",
       "</table><p>"
      ],
      "text/plain": [
       "<IPython.core.display.HTML object>"
      ]
     },
     "metadata": {},
     "output_type": "display_data"
    },
    {
     "data": {
      "text/html": [
       "\n",
       "    <div>\n",
       "      \n",
       "      <progress value='112' max='112' style='width:300px; height:20px; vertical-align: middle;'></progress>\n",
       "      [112/112 00:01]\n",
       "    </div>\n",
       "    "
      ],
      "text/plain": [
       "<IPython.core.display.HTML object>"
      ]
     },
     "metadata": {},
     "output_type": "display_data"
    },
    {
     "name": "stdout",
     "output_type": "stream",
     "text": [
      "Learning Rate: 5e-05, Fold: 3\n"
     ]
    },
    {
     "name": "stderr",
     "output_type": "stream",
     "text": [
      "/usr/local/lib/python3.10/dist-packages/transformers/training_args.py:1568: FutureWarning: `evaluation_strategy` is deprecated and will be removed in version 4.46 of 🤗 Transformers. Use `eval_strategy` instead\n",
      "  warnings.warn(\n"
     ]
    },
    {
     "data": {
      "text/html": [
       "\n",
       "    <div>\n",
       "      \n",
       "      <progress value='1785' max='7140' style='width:300px; height:20px; vertical-align: middle;'></progress>\n",
       "      [1785/7140 03:02 < 09:09, 9.75 it/s, Epoch 5/20]\n",
       "    </div>\n",
       "    <table border=\"1\" class=\"dataframe\">\n",
       "  <thead>\n",
       " <tr style=\"text-align: left;\">\n",
       "      <th>Epoch</th>\n",
       "      <th>Training Loss</th>\n",
       "      <th>Validation Loss</th>\n",
       "    </tr>\n",
       "  </thead>\n",
       "  <tbody>\n",
       "    <tr>\n",
       "      <td>1</td>\n",
       "      <td>No log</td>\n",
       "      <td>0.173264</td>\n",
       "    </tr>\n",
       "    <tr>\n",
       "      <td>2</td>\n",
       "      <td>0.169000</td>\n",
       "      <td>0.269391</td>\n",
       "    </tr>\n",
       "    <tr>\n",
       "      <td>3</td>\n",
       "      <td>0.046100</td>\n",
       "      <td>0.225228</td>\n",
       "    </tr>\n",
       "    <tr>\n",
       "      <td>4</td>\n",
       "      <td>0.046100</td>\n",
       "      <td>0.261958</td>\n",
       "    </tr>\n",
       "    <tr>\n",
       "      <td>5</td>\n",
       "      <td>0.026800</td>\n",
       "      <td>0.251395</td>\n",
       "    </tr>\n",
       "  </tbody>\n",
       "</table><p>"
      ],
      "text/plain": [
       "<IPython.core.display.HTML object>"
      ]
     },
     "metadata": {},
     "output_type": "display_data"
    },
    {
     "data": {
      "text/html": [
       "\n",
       "    <div>\n",
       "      \n",
       "      <progress value='112' max='112' style='width:300px; height:20px; vertical-align: middle;'></progress>\n",
       "      [112/112 00:01]\n",
       "    </div>\n",
       "    "
      ],
      "text/plain": [
       "<IPython.core.display.HTML object>"
      ]
     },
     "metadata": {},
     "output_type": "display_data"
    },
    {
     "name": "stdout",
     "output_type": "stream",
     "text": [
      "Learning Rate: 5e-05, Fold: 4\n"
     ]
    },
    {
     "name": "stderr",
     "output_type": "stream",
     "text": [
      "/usr/local/lib/python3.10/dist-packages/transformers/training_args.py:1568: FutureWarning: `evaluation_strategy` is deprecated and will be removed in version 4.46 of 🤗 Transformers. Use `eval_strategy` instead\n",
      "  warnings.warn(\n"
     ]
    },
    {
     "data": {
      "text/html": [
       "\n",
       "    <div>\n",
       "      \n",
       "      <progress value='2142' max='7140' style='width:300px; height:20px; vertical-align: middle;'></progress>\n",
       "      [2142/7140 03:51 < 09:01, 9.23 it/s, Epoch 6/20]\n",
       "    </div>\n",
       "    <table border=\"1\" class=\"dataframe\">\n",
       "  <thead>\n",
       " <tr style=\"text-align: left;\">\n",
       "      <th>Epoch</th>\n",
       "      <th>Training Loss</th>\n",
       "      <th>Validation Loss</th>\n",
       "    </tr>\n",
       "  </thead>\n",
       "  <tbody>\n",
       "    <tr>\n",
       "      <td>1</td>\n",
       "      <td>No log</td>\n",
       "      <td>0.181183</td>\n",
       "    </tr>\n",
       "    <tr>\n",
       "      <td>2</td>\n",
       "      <td>0.172600</td>\n",
       "      <td>0.114089</td>\n",
       "    </tr>\n",
       "    <tr>\n",
       "      <td>3</td>\n",
       "      <td>0.064500</td>\n",
       "      <td>0.194530</td>\n",
       "    </tr>\n",
       "    <tr>\n",
       "      <td>4</td>\n",
       "      <td>0.064500</td>\n",
       "      <td>0.246182</td>\n",
       "    </tr>\n",
       "    <tr>\n",
       "      <td>5</td>\n",
       "      <td>0.024600</td>\n",
       "      <td>0.192300</td>\n",
       "    </tr>\n",
       "    <tr>\n",
       "      <td>6</td>\n",
       "      <td>0.018100</td>\n",
       "      <td>0.239300</td>\n",
       "    </tr>\n",
       "  </tbody>\n",
       "</table><p>"
      ],
      "text/plain": [
       "<IPython.core.display.HTML object>"
      ]
     },
     "metadata": {},
     "output_type": "display_data"
    },
    {
     "data": {
      "text/html": [
       "\n",
       "    <div>\n",
       "      \n",
       "      <progress value='112' max='112' style='width:300px; height:20px; vertical-align: middle;'></progress>\n",
       "      [112/112 00:01]\n",
       "    </div>\n",
       "    "
      ],
      "text/plain": [
       "<IPython.core.display.HTML object>"
      ]
     },
     "metadata": {},
     "output_type": "display_data"
    },
    {
     "name": "stdout",
     "output_type": "stream",
     "text": [
      "Learning Rate: 5e-05, Fold: 5\n"
     ]
    },
    {
     "name": "stderr",
     "output_type": "stream",
     "text": [
      "/usr/local/lib/python3.10/dist-packages/transformers/training_args.py:1568: FutureWarning: `evaluation_strategy` is deprecated and will be removed in version 4.46 of 🤗 Transformers. Use `eval_strategy` instead\n",
      "  warnings.warn(\n"
     ]
    },
    {
     "data": {
      "text/html": [
       "\n",
       "    <div>\n",
       "      \n",
       "      <progress value='1785' max='7140' style='width:300px; height:20px; vertical-align: middle;'></progress>\n",
       "      [1785/7140 03:07 < 09:24, 9.48 it/s, Epoch 5/20]\n",
       "    </div>\n",
       "    <table border=\"1\" class=\"dataframe\">\n",
       "  <thead>\n",
       " <tr style=\"text-align: left;\">\n",
       "      <th>Epoch</th>\n",
       "      <th>Training Loss</th>\n",
       "      <th>Validation Loss</th>\n",
       "    </tr>\n",
       "  </thead>\n",
       "  <tbody>\n",
       "    <tr>\n",
       "      <td>1</td>\n",
       "      <td>No log</td>\n",
       "      <td>0.180560</td>\n",
       "    </tr>\n",
       "    <tr>\n",
       "      <td>2</td>\n",
       "      <td>0.155500</td>\n",
       "      <td>0.207441</td>\n",
       "    </tr>\n",
       "    <tr>\n",
       "      <td>3</td>\n",
       "      <td>0.071700</td>\n",
       "      <td>0.201714</td>\n",
       "    </tr>\n",
       "    <tr>\n",
       "      <td>4</td>\n",
       "      <td>0.071700</td>\n",
       "      <td>0.181063</td>\n",
       "    </tr>\n",
       "    <tr>\n",
       "      <td>5</td>\n",
       "      <td>0.023800</td>\n",
       "      <td>0.239858</td>\n",
       "    </tr>\n",
       "  </tbody>\n",
       "</table><p>"
      ],
      "text/plain": [
       "<IPython.core.display.HTML object>"
      ]
     },
     "metadata": {},
     "output_type": "display_data"
    },
    {
     "data": {
      "text/html": [
       "\n",
       "    <div>\n",
       "      \n",
       "      <progress value='112' max='112' style='width:300px; height:20px; vertical-align: middle;'></progress>\n",
       "      [112/112 00:01]\n",
       "    </div>\n",
       "    "
      ],
      "text/plain": [
       "<IPython.core.display.HTML object>"
      ]
     },
     "metadata": {},
     "output_type": "display_data"
    },
    {
     "name": "stdout",
     "output_type": "stream",
     "text": [
      "Learning Rate: 5e-05, Average Loss: 0.1443665474653244\n",
      "Learning Rate: 3e-05, Fold: 1\n"
     ]
    },
    {
     "name": "stderr",
     "output_type": "stream",
     "text": [
      "/usr/local/lib/python3.10/dist-packages/transformers/training_args.py:1568: FutureWarning: `evaluation_strategy` is deprecated and will be removed in version 4.46 of 🤗 Transformers. Use `eval_strategy` instead\n",
      "  warnings.warn(\n"
     ]
    },
    {
     "data": {
      "text/html": [
       "\n",
       "    <div>\n",
       "      \n",
       "      <progress value='1785' max='7140' style='width:300px; height:20px; vertical-align: middle;'></progress>\n",
       "      [1785/7140 02:59 < 08:59, 9.92 it/s, Epoch 5/20]\n",
       "    </div>\n",
       "    <table border=\"1\" class=\"dataframe\">\n",
       "  <thead>\n",
       " <tr style=\"text-align: left;\">\n",
       "      <th>Epoch</th>\n",
       "      <th>Training Loss</th>\n",
       "      <th>Validation Loss</th>\n",
       "    </tr>\n",
       "  </thead>\n",
       "  <tbody>\n",
       "    <tr>\n",
       "      <td>1</td>\n",
       "      <td>No log</td>\n",
       "      <td>0.110664</td>\n",
       "    </tr>\n",
       "    <tr>\n",
       "      <td>2</td>\n",
       "      <td>0.169500</td>\n",
       "      <td>0.174550</td>\n",
       "    </tr>\n",
       "    <tr>\n",
       "      <td>3</td>\n",
       "      <td>0.052900</td>\n",
       "      <td>0.111071</td>\n",
       "    </tr>\n",
       "    <tr>\n",
       "      <td>4</td>\n",
       "      <td>0.052900</td>\n",
       "      <td>0.194717</td>\n",
       "    </tr>\n",
       "    <tr>\n",
       "      <td>5</td>\n",
       "      <td>0.013600</td>\n",
       "      <td>0.162352</td>\n",
       "    </tr>\n",
       "  </tbody>\n",
       "</table><p>"
      ],
      "text/plain": [
       "<IPython.core.display.HTML object>"
      ]
     },
     "metadata": {},
     "output_type": "display_data"
    },
    {
     "data": {
      "text/html": [
       "\n",
       "    <div>\n",
       "      \n",
       "      <progress value='112' max='112' style='width:300px; height:20px; vertical-align: middle;'></progress>\n",
       "      [112/112 00:01]\n",
       "    </div>\n",
       "    "
      ],
      "text/plain": [
       "<IPython.core.display.HTML object>"
      ]
     },
     "metadata": {},
     "output_type": "display_data"
    },
    {
     "name": "stdout",
     "output_type": "stream",
     "text": [
      "Learning Rate: 3e-05, Fold: 2\n"
     ]
    },
    {
     "name": "stderr",
     "output_type": "stream",
     "text": [
      "/usr/local/lib/python3.10/dist-packages/transformers/training_args.py:1568: FutureWarning: `evaluation_strategy` is deprecated and will be removed in version 4.46 of 🤗 Transformers. Use `eval_strategy` instead\n",
      "  warnings.warn(\n"
     ]
    },
    {
     "data": {
      "text/html": [
       "\n",
       "    <div>\n",
       "      \n",
       "      <progress value='1785' max='7140' style='width:300px; height:20px; vertical-align: middle;'></progress>\n",
       "      [1785/7140 03:11 < 09:33, 9.33 it/s, Epoch 5/20]\n",
       "    </div>\n",
       "    <table border=\"1\" class=\"dataframe\">\n",
       "  <thead>\n",
       " <tr style=\"text-align: left;\">\n",
       "      <th>Epoch</th>\n",
       "      <th>Training Loss</th>\n",
       "      <th>Validation Loss</th>\n",
       "    </tr>\n",
       "  </thead>\n",
       "  <tbody>\n",
       "    <tr>\n",
       "      <td>1</td>\n",
       "      <td>No log</td>\n",
       "      <td>0.113672</td>\n",
       "    </tr>\n",
       "    <tr>\n",
       "      <td>2</td>\n",
       "      <td>0.167300</td>\n",
       "      <td>0.141799</td>\n",
       "    </tr>\n",
       "    <tr>\n",
       "      <td>3</td>\n",
       "      <td>0.049800</td>\n",
       "      <td>0.202904</td>\n",
       "    </tr>\n",
       "    <tr>\n",
       "      <td>4</td>\n",
       "      <td>0.049800</td>\n",
       "      <td>0.162461</td>\n",
       "    </tr>\n",
       "    <tr>\n",
       "      <td>5</td>\n",
       "      <td>0.015700</td>\n",
       "      <td>0.190105</td>\n",
       "    </tr>\n",
       "  </tbody>\n",
       "</table><p>"
      ],
      "text/plain": [
       "<IPython.core.display.HTML object>"
      ]
     },
     "metadata": {},
     "output_type": "display_data"
    },
    {
     "data": {
      "text/html": [
       "\n",
       "    <div>\n",
       "      \n",
       "      <progress value='112' max='112' style='width:300px; height:20px; vertical-align: middle;'></progress>\n",
       "      [112/112 00:01]\n",
       "    </div>\n",
       "    "
      ],
      "text/plain": [
       "<IPython.core.display.HTML object>"
      ]
     },
     "metadata": {},
     "output_type": "display_data"
    },
    {
     "name": "stdout",
     "output_type": "stream",
     "text": [
      "Learning Rate: 3e-05, Fold: 3\n"
     ]
    },
    {
     "name": "stderr",
     "output_type": "stream",
     "text": [
      "/usr/local/lib/python3.10/dist-packages/transformers/training_args.py:1568: FutureWarning: `evaluation_strategy` is deprecated and will be removed in version 4.46 of 🤗 Transformers. Use `eval_strategy` instead\n",
      "  warnings.warn(\n"
     ]
    },
    {
     "data": {
      "text/html": [
       "\n",
       "    <div>\n",
       "      \n",
       "      <progress value='1785' max='7140' style='width:300px; height:20px; vertical-align: middle;'></progress>\n",
       "      [1785/7140 03:02 < 09:07, 9.79 it/s, Epoch 5/20]\n",
       "    </div>\n",
       "    <table border=\"1\" class=\"dataframe\">\n",
       "  <thead>\n",
       " <tr style=\"text-align: left;\">\n",
       "      <th>Epoch</th>\n",
       "      <th>Training Loss</th>\n",
       "      <th>Validation Loss</th>\n",
       "    </tr>\n",
       "  </thead>\n",
       "  <tbody>\n",
       "    <tr>\n",
       "      <td>1</td>\n",
       "      <td>No log</td>\n",
       "      <td>0.139502</td>\n",
       "    </tr>\n",
       "    <tr>\n",
       "      <td>2</td>\n",
       "      <td>0.169100</td>\n",
       "      <td>0.206871</td>\n",
       "    </tr>\n",
       "    <tr>\n",
       "      <td>3</td>\n",
       "      <td>0.048900</td>\n",
       "      <td>0.219216</td>\n",
       "    </tr>\n",
       "    <tr>\n",
       "      <td>4</td>\n",
       "      <td>0.048900</td>\n",
       "      <td>0.217422</td>\n",
       "    </tr>\n",
       "    <tr>\n",
       "      <td>5</td>\n",
       "      <td>0.025500</td>\n",
       "      <td>0.261367</td>\n",
       "    </tr>\n",
       "  </tbody>\n",
       "</table><p>"
      ],
      "text/plain": [
       "<IPython.core.display.HTML object>"
      ]
     },
     "metadata": {},
     "output_type": "display_data"
    },
    {
     "data": {
      "text/html": [
       "\n",
       "    <div>\n",
       "      \n",
       "      <progress value='112' max='112' style='width:300px; height:20px; vertical-align: middle;'></progress>\n",
       "      [112/112 00:01]\n",
       "    </div>\n",
       "    "
      ],
      "text/plain": [
       "<IPython.core.display.HTML object>"
      ]
     },
     "metadata": {},
     "output_type": "display_data"
    },
    {
     "name": "stdout",
     "output_type": "stream",
     "text": [
      "Learning Rate: 3e-05, Fold: 4\n"
     ]
    },
    {
     "name": "stderr",
     "output_type": "stream",
     "text": [
      "/usr/local/lib/python3.10/dist-packages/transformers/training_args.py:1568: FutureWarning: `evaluation_strategy` is deprecated and will be removed in version 4.46 of 🤗 Transformers. Use `eval_strategy` instead\n",
      "  warnings.warn(\n"
     ]
    },
    {
     "data": {
      "text/html": [
       "\n",
       "    <div>\n",
       "      \n",
       "      <progress value='1785' max='7140' style='width:300px; height:20px; vertical-align: middle;'></progress>\n",
       "      [1785/7140 03:00 < 09:02, 9.87 it/s, Epoch 5/20]\n",
       "    </div>\n",
       "    <table border=\"1\" class=\"dataframe\">\n",
       "  <thead>\n",
       " <tr style=\"text-align: left;\">\n",
       "      <th>Epoch</th>\n",
       "      <th>Training Loss</th>\n",
       "      <th>Validation Loss</th>\n",
       "    </tr>\n",
       "  </thead>\n",
       "  <tbody>\n",
       "    <tr>\n",
       "      <td>1</td>\n",
       "      <td>No log</td>\n",
       "      <td>0.143726</td>\n",
       "    </tr>\n",
       "    <tr>\n",
       "      <td>2</td>\n",
       "      <td>0.166800</td>\n",
       "      <td>0.154486</td>\n",
       "    </tr>\n",
       "    <tr>\n",
       "      <td>3</td>\n",
       "      <td>0.046700</td>\n",
       "      <td>0.200564</td>\n",
       "    </tr>\n",
       "    <tr>\n",
       "      <td>4</td>\n",
       "      <td>0.046700</td>\n",
       "      <td>0.287470</td>\n",
       "    </tr>\n",
       "    <tr>\n",
       "      <td>5</td>\n",
       "      <td>0.015000</td>\n",
       "      <td>0.313298</td>\n",
       "    </tr>\n",
       "  </tbody>\n",
       "</table><p>"
      ],
      "text/plain": [
       "<IPython.core.display.HTML object>"
      ]
     },
     "metadata": {},
     "output_type": "display_data"
    },
    {
     "data": {
      "text/html": [
       "\n",
       "    <div>\n",
       "      \n",
       "      <progress value='112' max='112' style='width:300px; height:20px; vertical-align: middle;'></progress>\n",
       "      [112/112 00:01]\n",
       "    </div>\n",
       "    "
      ],
      "text/plain": [
       "<IPython.core.display.HTML object>"
      ]
     },
     "metadata": {},
     "output_type": "display_data"
    },
    {
     "name": "stdout",
     "output_type": "stream",
     "text": [
      "Learning Rate: 3e-05, Fold: 5\n"
     ]
    },
    {
     "name": "stderr",
     "output_type": "stream",
     "text": [
      "/usr/local/lib/python3.10/dist-packages/transformers/training_args.py:1568: FutureWarning: `evaluation_strategy` is deprecated and will be removed in version 4.46 of 🤗 Transformers. Use `eval_strategy` instead\n",
      "  warnings.warn(\n"
     ]
    },
    {
     "data": {
      "text/html": [
       "\n",
       "    <div>\n",
       "      \n",
       "      <progress value='2142' max='7140' style='width:300px; height:20px; vertical-align: middle;'></progress>\n",
       "      [2142/7140 03:31 < 08:14, 10.10 it/s, Epoch 6/20]\n",
       "    </div>\n",
       "    <table border=\"1\" class=\"dataframe\">\n",
       "  <thead>\n",
       " <tr style=\"text-align: left;\">\n",
       "      <th>Epoch</th>\n",
       "      <th>Training Loss</th>\n",
       "      <th>Validation Loss</th>\n",
       "    </tr>\n",
       "  </thead>\n",
       "  <tbody>\n",
       "    <tr>\n",
       "      <td>1</td>\n",
       "      <td>No log</td>\n",
       "      <td>0.177481</td>\n",
       "    </tr>\n",
       "    <tr>\n",
       "      <td>2</td>\n",
       "      <td>0.152500</td>\n",
       "      <td>0.147781</td>\n",
       "    </tr>\n",
       "    <tr>\n",
       "      <td>3</td>\n",
       "      <td>0.055600</td>\n",
       "      <td>0.159763</td>\n",
       "    </tr>\n",
       "    <tr>\n",
       "      <td>4</td>\n",
       "      <td>0.055600</td>\n",
       "      <td>0.267278</td>\n",
       "    </tr>\n",
       "    <tr>\n",
       "      <td>5</td>\n",
       "      <td>0.025600</td>\n",
       "      <td>0.229626</td>\n",
       "    </tr>\n",
       "    <tr>\n",
       "      <td>6</td>\n",
       "      <td>0.010500</td>\n",
       "      <td>0.251149</td>\n",
       "    </tr>\n",
       "  </tbody>\n",
       "</table><p>"
      ],
      "text/plain": [
       "<IPython.core.display.HTML object>"
      ]
     },
     "metadata": {},
     "output_type": "display_data"
    },
    {
     "data": {
      "text/html": [
       "\n",
       "    <div>\n",
       "      \n",
       "      <progress value='112' max='112' style='width:300px; height:20px; vertical-align: middle;'></progress>\n",
       "      [112/112 00:01]\n",
       "    </div>\n",
       "    "
      ],
      "text/plain": [
       "<IPython.core.display.HTML object>"
      ]
     },
     "metadata": {},
     "output_type": "display_data"
    },
    {
     "name": "stdout",
     "output_type": "stream",
     "text": [
      "Learning Rate: 3e-05, Average Loss: 0.1310691863298416\n",
      "Learning Rate: 2e-05, Fold: 1\n"
     ]
    },
    {
     "name": "stderr",
     "output_type": "stream",
     "text": [
      "/usr/local/lib/python3.10/dist-packages/transformers/training_args.py:1568: FutureWarning: `evaluation_strategy` is deprecated and will be removed in version 4.46 of 🤗 Transformers. Use `eval_strategy` instead\n",
      "  warnings.warn(\n"
     ]
    },
    {
     "data": {
      "text/html": [
       "\n",
       "    <div>\n",
       "      \n",
       "      <progress value='1951' max='7140' style='width:300px; height:20px; vertical-align: middle;'></progress>\n",
       "      [1951/7140 03:09 < 08:24, 10.29 it/s, Epoch 5.46/20]\n",
       "    </div>\n",
       "    <table border=\"1\" class=\"dataframe\">\n",
       "  <thead>\n",
       " <tr style=\"text-align: left;\">\n",
       "      <th>Epoch</th>\n",
       "      <th>Training Loss</th>\n",
       "      <th>Validation Loss</th>\n",
       "    </tr>\n",
       "  </thead>\n",
       "  <tbody>\n",
       "    <tr>\n",
       "      <td>1</td>\n",
       "      <td>No log</td>\n",
       "      <td>0.126844</td>\n",
       "    </tr>\n",
       "    <tr>\n",
       "      <td>2</td>\n",
       "      <td>0.169500</td>\n",
       "      <td>0.126088</td>\n",
       "    </tr>\n",
       "    <tr>\n",
       "      <td>3</td>\n",
       "      <td>0.062100</td>\n",
       "      <td>0.158702</td>\n",
       "    </tr>\n",
       "    <tr>\n",
       "      <td>4</td>\n",
       "      <td>0.062100</td>\n",
       "      <td>0.188795</td>\n",
       "    </tr>\n",
       "    <tr>\n",
       "      <td>5</td>\n",
       "      <td>0.022600</td>\n",
       "      <td>0.177214</td>\n",
       "    </tr>\n",
       "  </tbody>\n",
       "</table><p>"
      ],
      "text/plain": [
       "<IPython.core.display.HTML object>"
      ]
     },
     "metadata": {},
     "output_type": "display_data"
    },
    {
     "data": {
      "text/html": [
       "\n",
       "    <div>\n",
       "      \n",
       "      <progress value='2142' max='7140' style='width:300px; height:20px; vertical-align: middle;'></progress>\n",
       "      [2142/7140 03:35 < 08:22, 9.95 it/s, Epoch 6/20]\n",
       "    </div>\n",
       "    <table border=\"1\" class=\"dataframe\">\n",
       "  <thead>\n",
       " <tr style=\"text-align: left;\">\n",
       "      <th>Epoch</th>\n",
       "      <th>Training Loss</th>\n",
       "      <th>Validation Loss</th>\n",
       "    </tr>\n",
       "  </thead>\n",
       "  <tbody>\n",
       "    <tr>\n",
       "      <td>1</td>\n",
       "      <td>No log</td>\n",
       "      <td>0.126844</td>\n",
       "    </tr>\n",
       "    <tr>\n",
       "      <td>2</td>\n",
       "      <td>0.169500</td>\n",
       "      <td>0.126088</td>\n",
       "    </tr>\n",
       "    <tr>\n",
       "      <td>3</td>\n",
       "      <td>0.062100</td>\n",
       "      <td>0.158702</td>\n",
       "    </tr>\n",
       "    <tr>\n",
       "      <td>4</td>\n",
       "      <td>0.062100</td>\n",
       "      <td>0.188795</td>\n",
       "    </tr>\n",
       "    <tr>\n",
       "      <td>5</td>\n",
       "      <td>0.022600</td>\n",
       "      <td>0.177214</td>\n",
       "    </tr>\n",
       "    <tr>\n",
       "      <td>6</td>\n",
       "      <td>0.013000</td>\n",
       "      <td>0.180429</td>\n",
       "    </tr>\n",
       "  </tbody>\n",
       "</table><p>"
      ],
      "text/plain": [
       "<IPython.core.display.HTML object>"
      ]
     },
     "metadata": {},
     "output_type": "display_data"
    },
    {
     "data": {
      "text/html": [
       "\n",
       "    <div>\n",
       "      \n",
       "      <progress value='112' max='112' style='width:300px; height:20px; vertical-align: middle;'></progress>\n",
       "      [112/112 00:01]\n",
       "    </div>\n",
       "    "
      ],
      "text/plain": [
       "<IPython.core.display.HTML object>"
      ]
     },
     "metadata": {},
     "output_type": "display_data"
    },
    {
     "name": "stdout",
     "output_type": "stream",
     "text": [
      "Learning Rate: 2e-05, Fold: 2\n"
     ]
    },
    {
     "name": "stderr",
     "output_type": "stream",
     "text": [
      "/usr/local/lib/python3.10/dist-packages/transformers/training_args.py:1568: FutureWarning: `evaluation_strategy` is deprecated and will be removed in version 4.46 of 🤗 Transformers. Use `eval_strategy` instead\n",
      "  warnings.warn(\n"
     ]
    },
    {
     "data": {
      "text/html": [
       "\n",
       "    <div>\n",
       "      \n",
       "      <progress value='2142' max='7140' style='width:300px; height:20px; vertical-align: middle;'></progress>\n",
       "      [2142/7140 03:44 < 08:45, 9.51 it/s, Epoch 6/20]\n",
       "    </div>\n",
       "    <table border=\"1\" class=\"dataframe\">\n",
       "  <thead>\n",
       " <tr style=\"text-align: left;\">\n",
       "      <th>Epoch</th>\n",
       "      <th>Training Loss</th>\n",
       "      <th>Validation Loss</th>\n",
       "    </tr>\n",
       "  </thead>\n",
       "  <tbody>\n",
       "    <tr>\n",
       "      <td>1</td>\n",
       "      <td>No log</td>\n",
       "      <td>0.115462</td>\n",
       "    </tr>\n",
       "    <tr>\n",
       "      <td>2</td>\n",
       "      <td>0.175700</td>\n",
       "      <td>0.100645</td>\n",
       "    </tr>\n",
       "    <tr>\n",
       "      <td>3</td>\n",
       "      <td>0.059000</td>\n",
       "      <td>0.106369</td>\n",
       "    </tr>\n",
       "    <tr>\n",
       "      <td>4</td>\n",
       "      <td>0.059000</td>\n",
       "      <td>0.152345</td>\n",
       "    </tr>\n",
       "    <tr>\n",
       "      <td>5</td>\n",
       "      <td>0.019300</td>\n",
       "      <td>0.190566</td>\n",
       "    </tr>\n",
       "    <tr>\n",
       "      <td>6</td>\n",
       "      <td>0.006000</td>\n",
       "      <td>0.174177</td>\n",
       "    </tr>\n",
       "  </tbody>\n",
       "</table><p>"
      ],
      "text/plain": [
       "<IPython.core.display.HTML object>"
      ]
     },
     "metadata": {},
     "output_type": "display_data"
    },
    {
     "data": {
      "text/html": [
       "\n",
       "    <div>\n",
       "      \n",
       "      <progress value='112' max='112' style='width:300px; height:20px; vertical-align: middle;'></progress>\n",
       "      [112/112 00:01]\n",
       "    </div>\n",
       "    "
      ],
      "text/plain": [
       "<IPython.core.display.HTML object>"
      ]
     },
     "metadata": {},
     "output_type": "display_data"
    },
    {
     "name": "stdout",
     "output_type": "stream",
     "text": [
      "Learning Rate: 2e-05, Fold: 3\n"
     ]
    },
    {
     "name": "stderr",
     "output_type": "stream",
     "text": [
      "/usr/local/lib/python3.10/dist-packages/transformers/training_args.py:1568: FutureWarning: `evaluation_strategy` is deprecated and will be removed in version 4.46 of 🤗 Transformers. Use `eval_strategy` instead\n",
      "  warnings.warn(\n"
     ]
    },
    {
     "data": {
      "text/html": [
       "\n",
       "    <div>\n",
       "      \n",
       "      <progress value='1785' max='7140' style='width:300px; height:20px; vertical-align: middle;'></progress>\n",
       "      [1785/7140 02:59 < 08:57, 9.96 it/s, Epoch 5/20]\n",
       "    </div>\n",
       "    <table border=\"1\" class=\"dataframe\">\n",
       "  <thead>\n",
       " <tr style=\"text-align: left;\">\n",
       "      <th>Epoch</th>\n",
       "      <th>Training Loss</th>\n",
       "      <th>Validation Loss</th>\n",
       "    </tr>\n",
       "  </thead>\n",
       "  <tbody>\n",
       "    <tr>\n",
       "      <td>1</td>\n",
       "      <td>No log</td>\n",
       "      <td>0.151412</td>\n",
       "    </tr>\n",
       "    <tr>\n",
       "      <td>2</td>\n",
       "      <td>0.172300</td>\n",
       "      <td>0.165876</td>\n",
       "    </tr>\n",
       "    <tr>\n",
       "      <td>3</td>\n",
       "      <td>0.055700</td>\n",
       "      <td>0.170982</td>\n",
       "    </tr>\n",
       "    <tr>\n",
       "      <td>4</td>\n",
       "      <td>0.055700</td>\n",
       "      <td>0.184360</td>\n",
       "    </tr>\n",
       "    <tr>\n",
       "      <td>5</td>\n",
       "      <td>0.028300</td>\n",
       "      <td>0.197507</td>\n",
       "    </tr>\n",
       "  </tbody>\n",
       "</table><p>"
      ],
      "text/plain": [
       "<IPython.core.display.HTML object>"
      ]
     },
     "metadata": {},
     "output_type": "display_data"
    },
    {
     "data": {
      "text/html": [
       "\n",
       "    <div>\n",
       "      \n",
       "      <progress value='112' max='112' style='width:300px; height:20px; vertical-align: middle;'></progress>\n",
       "      [112/112 00:01]\n",
       "    </div>\n",
       "    "
      ],
      "text/plain": [
       "<IPython.core.display.HTML object>"
      ]
     },
     "metadata": {},
     "output_type": "display_data"
    },
    {
     "name": "stdout",
     "output_type": "stream",
     "text": [
      "Learning Rate: 2e-05, Fold: 4\n"
     ]
    },
    {
     "name": "stderr",
     "output_type": "stream",
     "text": [
      "/usr/local/lib/python3.10/dist-packages/transformers/training_args.py:1568: FutureWarning: `evaluation_strategy` is deprecated and will be removed in version 4.46 of 🤗 Transformers. Use `eval_strategy` instead\n",
      "  warnings.warn(\n"
     ]
    },
    {
     "data": {
      "text/html": [
       "\n",
       "    <div>\n",
       "      \n",
       "      <progress value='1785' max='7140' style='width:300px; height:20px; vertical-align: middle;'></progress>\n",
       "      [1785/7140 02:59 < 08:58, 9.94 it/s, Epoch 5/20]\n",
       "    </div>\n",
       "    <table border=\"1\" class=\"dataframe\">\n",
       "  <thead>\n",
       " <tr style=\"text-align: left;\">\n",
       "      <th>Epoch</th>\n",
       "      <th>Training Loss</th>\n",
       "      <th>Validation Loss</th>\n",
       "    </tr>\n",
       "  </thead>\n",
       "  <tbody>\n",
       "    <tr>\n",
       "      <td>1</td>\n",
       "      <td>No log</td>\n",
       "      <td>0.143867</td>\n",
       "    </tr>\n",
       "    <tr>\n",
       "      <td>2</td>\n",
       "      <td>0.154100</td>\n",
       "      <td>0.172098</td>\n",
       "    </tr>\n",
       "    <tr>\n",
       "      <td>3</td>\n",
       "      <td>0.052000</td>\n",
       "      <td>0.225676</td>\n",
       "    </tr>\n",
       "    <tr>\n",
       "      <td>4</td>\n",
       "      <td>0.052000</td>\n",
       "      <td>0.189524</td>\n",
       "    </tr>\n",
       "    <tr>\n",
       "      <td>5</td>\n",
       "      <td>0.017000</td>\n",
       "      <td>0.187307</td>\n",
       "    </tr>\n",
       "  </tbody>\n",
       "</table><p>"
      ],
      "text/plain": [
       "<IPython.core.display.HTML object>"
      ]
     },
     "metadata": {},
     "output_type": "display_data"
    },
    {
     "data": {
      "text/html": [
       "\n",
       "    <div>\n",
       "      \n",
       "      <progress value='112' max='112' style='width:300px; height:20px; vertical-align: middle;'></progress>\n",
       "      [112/112 00:01]\n",
       "    </div>\n",
       "    "
      ],
      "text/plain": [
       "<IPython.core.display.HTML object>"
      ]
     },
     "metadata": {},
     "output_type": "display_data"
    },
    {
     "name": "stdout",
     "output_type": "stream",
     "text": [
      "Learning Rate: 2e-05, Fold: 5\n"
     ]
    },
    {
     "name": "stderr",
     "output_type": "stream",
     "text": [
      "/usr/local/lib/python3.10/dist-packages/transformers/training_args.py:1568: FutureWarning: `evaluation_strategy` is deprecated and will be removed in version 4.46 of 🤗 Transformers. Use `eval_strategy` instead\n",
      "  warnings.warn(\n"
     ]
    },
    {
     "data": {
      "text/html": [
       "\n",
       "    <div>\n",
       "      \n",
       "      <progress value='1785' max='7140' style='width:300px; height:20px; vertical-align: middle;'></progress>\n",
       "      [1785/7140 02:58 < 08:54, 10.01 it/s, Epoch 5/20]\n",
       "    </div>\n",
       "    <table border=\"1\" class=\"dataframe\">\n",
       "  <thead>\n",
       " <tr style=\"text-align: left;\">\n",
       "      <th>Epoch</th>\n",
       "      <th>Training Loss</th>\n",
       "      <th>Validation Loss</th>\n",
       "    </tr>\n",
       "  </thead>\n",
       "  <tbody>\n",
       "    <tr>\n",
       "      <td>1</td>\n",
       "      <td>No log</td>\n",
       "      <td>0.155259</td>\n",
       "    </tr>\n",
       "    <tr>\n",
       "      <td>2</td>\n",
       "      <td>0.157600</td>\n",
       "      <td>0.168323</td>\n",
       "    </tr>\n",
       "    <tr>\n",
       "      <td>3</td>\n",
       "      <td>0.048400</td>\n",
       "      <td>0.192928</td>\n",
       "    </tr>\n",
       "    <tr>\n",
       "      <td>4</td>\n",
       "      <td>0.048400</td>\n",
       "      <td>0.317404</td>\n",
       "    </tr>\n",
       "    <tr>\n",
       "      <td>5</td>\n",
       "      <td>0.017300</td>\n",
       "      <td>0.243989</td>\n",
       "    </tr>\n",
       "  </tbody>\n",
       "</table><p>"
      ],
      "text/plain": [
       "<IPython.core.display.HTML object>"
      ]
     },
     "metadata": {},
     "output_type": "display_data"
    },
    {
     "data": {
      "text/html": [
       "\n",
       "    <div>\n",
       "      \n",
       "      <progress value='112' max='112' style='width:300px; height:20px; vertical-align: middle;'></progress>\n",
       "      [112/112 00:01]\n",
       "    </div>\n",
       "    "
      ],
      "text/plain": [
       "<IPython.core.display.HTML object>"
      ]
     },
     "metadata": {},
     "output_type": "display_data"
    },
    {
     "name": "stdout",
     "output_type": "stream",
     "text": [
      "Learning Rate: 2e-05, Average Loss: 0.13545409440994263\n",
      "Best Learning Rate: 3e-05\n"
     ]
    }
   ],
   "source": [
    "for lr in learning_rates:\n",
    "    avg_loss = 0\n",
    "    for fold, (train_idx, val_idx) in enumerate(kfold.split(train_dataset)):\n",
    "        print(f\"Learning Rate: {lr}, Fold: {fold+1}\")\n",
    "        fold_loss, _ = train_and_evaluate_model(train_idx, val_idx, lr)\n",
    "        avg_loss += fold_loss\n",
    "\n",
    "    avg_loss /= kfold.n_splits\n",
    "    print(f\"Learning Rate: {lr}, Average Loss: {avg_loss}\")\n",
    "\n",
    "    if avg_loss < lowest_loss:\n",
    "        lowest_loss = avg_loss\n",
    "        best_lr = lr\n",
    "\n",
    "print(f\"Best Learning Rate: {best_lr}\")"
   ]
  },
  {
   "cell_type": "markdown",
   "metadata": {
    "id": "iIQaYytegVdo"
   },
   "source": [
    "## Step 5.5: Traning on full Traning dataset and Evaluate on Test set"
   ]
  },
  {
   "cell_type": "code",
   "execution_count": null,
   "metadata": {
    "colab": {
     "base_uri": "https://localhost:8080/",
     "height": 335
    },
    "id": "O7LM5imqgVdo",
    "outputId": "26662e7d-683a-4920-8bb3-920524b09dbd"
   },
   "outputs": [
    {
     "name": "stderr",
     "output_type": "stream",
     "text": [
      "/usr/local/lib/python3.10/dist-packages/transformers/training_args.py:1568: FutureWarning: `evaluation_strategy` is deprecated and will be removed in version 4.46 of 🤗 Transformers. Use `eval_strategy` instead\n",
      "  warnings.warn(\n"
     ]
    },
    {
     "data": {
      "text/html": [
       "\n",
       "    <div>\n",
       "      \n",
       "      <progress value='2676' max='8920' style='width:300px; height:20px; vertical-align: middle;'></progress>\n",
       "      [2676/8920 04:37 < 10:48, 9.63 it/s, Epoch 6/20]\n",
       "    </div>\n",
       "    <table border=\"1\" class=\"dataframe\">\n",
       "  <thead>\n",
       " <tr style=\"text-align: left;\">\n",
       "      <th>Epoch</th>\n",
       "      <th>Training Loss</th>\n",
       "      <th>Validation Loss</th>\n",
       "    </tr>\n",
       "  </thead>\n",
       "  <tbody>\n",
       "    <tr>\n",
       "      <td>1</td>\n",
       "      <td>No log</td>\n",
       "      <td>0.163068</td>\n",
       "    </tr>\n",
       "    <tr>\n",
       "      <td>2</td>\n",
       "      <td>0.172000</td>\n",
       "      <td>0.102322</td>\n",
       "    </tr>\n",
       "    <tr>\n",
       "      <td>3</td>\n",
       "      <td>0.066300</td>\n",
       "      <td>0.136096</td>\n",
       "    </tr>\n",
       "    <tr>\n",
       "      <td>4</td>\n",
       "      <td>0.017200</td>\n",
       "      <td>0.146772</td>\n",
       "    </tr>\n",
       "    <tr>\n",
       "      <td>5</td>\n",
       "      <td>0.013900</td>\n",
       "      <td>0.199020</td>\n",
       "    </tr>\n",
       "    <tr>\n",
       "      <td>6</td>\n",
       "      <td>0.009400</td>\n",
       "      <td>0.193746</td>\n",
       "    </tr>\n",
       "  </tbody>\n",
       "</table><p>"
      ],
      "text/plain": [
       "<IPython.core.display.HTML object>"
      ]
     },
     "metadata": {},
     "output_type": "display_data"
    },
    {
     "data": {
      "text/html": [],
      "text/plain": [
       "<IPython.core.display.HTML object>"
      ]
     },
     "metadata": {},
     "output_type": "display_data"
    },
    {
     "name": "stdout",
     "output_type": "stream",
     "text": [
      "Test Set Results - Precision: 0.95, Recall: 0.90, F1 Score: 0.92\n"
     ]
    }
   ],
   "source": [
    "# Train final model\n",
    "# final_model = BertForSequenceClassification.from_pretrained('bert-base-uncased', num_labels=2)\n",
    "final_model = CustomBertClassifier(bert_model_name='bert-base-uncased', num_labels=2)\n",
    "best_lr = 3e-5\n",
    "final_model.to(device)\n",
    "training_args = TrainingArguments(\n",
    "    output_dir='./final_results',\n",
    "    evaluation_strategy='epoch',\n",
    "    learning_rate=best_lr,\n",
    "    per_device_train_batch_size=10,\n",
    "    num_train_epochs=max_epochs,\n",
    "    weight_decay=0.01,\n",
    "    save_total_limit=1,\n",
    "    logging_dir='./final_logs',\n",
    "    load_best_model_at_end=True,\n",
    "    save_strategy=\"epoch\",\n",
    "    metric_for_best_model=\"eval_loss\",\n",
    "    greater_is_better=False,\n",
    "    prediction_loss_only=False\n",
    ")\n",
    "\n",
    "trainer = Trainer(\n",
    "    model=final_model,\n",
    "    args=training_args,\n",
    "    train_dataset=train_dataset,\n",
    "    eval_dataset=test_dataset,\n",
    "    callbacks=[EarlyStoppingCallback(early_stopping_patience)]\n",
    ")\n",
    "\n",
    "trainer.train()\n",
    "test_metrics = trainer.evaluate()\n",
    "\n",
    "# Generate predictions on the test set\n",
    "predictions = trainer.predict(test_dataset)\n",
    "\n",
    "# Extract logits\n",
    "logits = predictions.predictions\n",
    "\n",
    "# Convert logits to predicted labels\n",
    "predicted_labels = torch.argmax(torch.tensor(logits), axis=1)\n",
    "\n",
    "# Calculate metrics\n",
    "precision, recall, f1, _ = precision_recall_fscore_support(\n",
    "    test_labels,  # True labels\n",
    "    predicted_labels,  # Predicted labels\n",
    "    average='binary'\n",
    ")\n",
    "\n",
    "# Print metrics\n",
    "print(f\"Test Set Results - Precision: {precision:.2f}, Recall: {recall:.2f}, F1 Score: {f1:.2f}\")\n"
   ]
  }
 ],
 "metadata": {
  "accelerator": "GPU",
  "colab": {
   "gpuType": "T4",
   "include_colab_link": true,
   "provenance": []
  },
  "kernelspec": {
   "display_name": "ai",
   "language": "python",
   "name": "python3"
  },
  "language_info": {
   "codemirror_mode": {
    "name": "ipython",
    "version": 3
   },
   "file_extension": ".py",
   "mimetype": "text/x-python",
   "name": "python",
   "nbconvert_exporter": "python",
   "pygments_lexer": "ipython3",
   "version": "3.12.6"
  },
  "widgets": {
   "application/vnd.jupyter.widget-state+json": {
    "08f007595ca24e60a1baf955a0036fd7": {
     "model_module": "@jupyter-widgets/controls",
     "model_module_version": "1.5.0",
     "model_name": "HTMLModel",
     "state": {
      "_dom_classes": [],
      "_model_module": "@jupyter-widgets/controls",
      "_model_module_version": "1.5.0",
      "_model_name": "HTMLModel",
      "_view_count": null,
      "_view_module": "@jupyter-widgets/controls",
      "_view_module_version": "1.5.0",
      "_view_name": "HTMLView",
      "description": "",
      "description_tooltip": null,
      "layout": "IPY_MODEL_b53327af628f4b1ea67613a401e694fd",
      "placeholder": "​",
      "style": "IPY_MODEL_6dc9ad150ce346248c352f8c59364e79",
      "value": "model.safetensors: 100%"
     }
    },
    "2067322b9b354225a14ef2114f91cf46": {
     "model_module": "@jupyter-widgets/controls",
     "model_module_version": "1.5.0",
     "model_name": "ProgressStyleModel",
     "state": {
      "_model_module": "@jupyter-widgets/controls",
      "_model_module_version": "1.5.0",
      "_model_name": "ProgressStyleModel",
      "_view_count": null,
      "_view_module": "@jupyter-widgets/base",
      "_view_module_version": "1.2.0",
      "_view_name": "StyleView",
      "bar_color": null,
      "description_width": ""
     }
    },
    "392839c777d9445d8f8d4ac3a3b541ff": {
     "model_module": "@jupyter-widgets/controls",
     "model_module_version": "1.5.0",
     "model_name": "DescriptionStyleModel",
     "state": {
      "_model_module": "@jupyter-widgets/controls",
      "_model_module_version": "1.5.0",
      "_model_name": "DescriptionStyleModel",
      "_view_count": null,
      "_view_module": "@jupyter-widgets/base",
      "_view_module_version": "1.2.0",
      "_view_name": "StyleView",
      "description_width": ""
     }
    },
    "448d6455366843e69b2645e23bcface9": {
     "model_module": "@jupyter-widgets/base",
     "model_module_version": "1.2.0",
     "model_name": "LayoutModel",
     "state": {
      "_model_module": "@jupyter-widgets/base",
      "_model_module_version": "1.2.0",
      "_model_name": "LayoutModel",
      "_view_count": null,
      "_view_module": "@jupyter-widgets/base",
      "_view_module_version": "1.2.0",
      "_view_name": "LayoutView",
      "align_content": null,
      "align_items": null,
      "align_self": null,
      "border": null,
      "bottom": null,
      "display": null,
      "flex": null,
      "flex_flow": null,
      "grid_area": null,
      "grid_auto_columns": null,
      "grid_auto_flow": null,
      "grid_auto_rows": null,
      "grid_column": null,
      "grid_gap": null,
      "grid_row": null,
      "grid_template_areas": null,
      "grid_template_columns": null,
      "grid_template_rows": null,
      "height": null,
      "justify_content": null,
      "justify_items": null,
      "left": null,
      "margin": null,
      "max_height": null,
      "max_width": null,
      "min_height": null,
      "min_width": null,
      "object_fit": null,
      "object_position": null,
      "order": null,
      "overflow": null,
      "overflow_x": null,
      "overflow_y": null,
      "padding": null,
      "right": null,
      "top": null,
      "visibility": null,
      "width": null
     }
    },
    "45a24d75e8fa47e8ba3621d2b417a51a": {
     "model_module": "@jupyter-widgets/controls",
     "model_module_version": "1.5.0",
     "model_name": "FloatProgressModel",
     "state": {
      "_dom_classes": [],
      "_model_module": "@jupyter-widgets/controls",
      "_model_module_version": "1.5.0",
      "_model_name": "FloatProgressModel",
      "_view_count": null,
      "_view_module": "@jupyter-widgets/controls",
      "_view_module_version": "1.5.0",
      "_view_name": "ProgressView",
      "bar_style": "success",
      "description": "",
      "description_tooltip": null,
      "layout": "IPY_MODEL_4bbe310a312f43e8b334f5490d304560",
      "max": 440449768,
      "min": 0,
      "orientation": "horizontal",
      "style": "IPY_MODEL_2067322b9b354225a14ef2114f91cf46",
      "value": 440449768
     }
    },
    "4bbe310a312f43e8b334f5490d304560": {
     "model_module": "@jupyter-widgets/base",
     "model_module_version": "1.2.0",
     "model_name": "LayoutModel",
     "state": {
      "_model_module": "@jupyter-widgets/base",
      "_model_module_version": "1.2.0",
      "_model_name": "LayoutModel",
      "_view_count": null,
      "_view_module": "@jupyter-widgets/base",
      "_view_module_version": "1.2.0",
      "_view_name": "LayoutView",
      "align_content": null,
      "align_items": null,
      "align_self": null,
      "border": null,
      "bottom": null,
      "display": null,
      "flex": null,
      "flex_flow": null,
      "grid_area": null,
      "grid_auto_columns": null,
      "grid_auto_flow": null,
      "grid_auto_rows": null,
      "grid_column": null,
      "grid_gap": null,
      "grid_row": null,
      "grid_template_areas": null,
      "grid_template_columns": null,
      "grid_template_rows": null,
      "height": null,
      "justify_content": null,
      "justify_items": null,
      "left": null,
      "margin": null,
      "max_height": null,
      "max_width": null,
      "min_height": null,
      "min_width": null,
      "object_fit": null,
      "object_position": null,
      "order": null,
      "overflow": null,
      "overflow_x": null,
      "overflow_y": null,
      "padding": null,
      "right": null,
      "top": null,
      "visibility": null,
      "width": null
     }
    },
    "5837648e0b8d4031b6dabc3ad0693833": {
     "model_module": "@jupyter-widgets/controls",
     "model_module_version": "1.5.0",
     "model_name": "HBoxModel",
     "state": {
      "_dom_classes": [],
      "_model_module": "@jupyter-widgets/controls",
      "_model_module_version": "1.5.0",
      "_model_name": "HBoxModel",
      "_view_count": null,
      "_view_module": "@jupyter-widgets/controls",
      "_view_module_version": "1.5.0",
      "_view_name": "HBoxView",
      "box_style": "",
      "children": [
       "IPY_MODEL_08f007595ca24e60a1baf955a0036fd7",
       "IPY_MODEL_45a24d75e8fa47e8ba3621d2b417a51a",
       "IPY_MODEL_5e6d9c23abca4883a28eb6e463827654"
      ],
      "layout": "IPY_MODEL_5b0793cd968545dc98fba58e37cffde4"
     }
    },
    "5b0793cd968545dc98fba58e37cffde4": {
     "model_module": "@jupyter-widgets/base",
     "model_module_version": "1.2.0",
     "model_name": "LayoutModel",
     "state": {
      "_model_module": "@jupyter-widgets/base",
      "_model_module_version": "1.2.0",
      "_model_name": "LayoutModel",
      "_view_count": null,
      "_view_module": "@jupyter-widgets/base",
      "_view_module_version": "1.2.0",
      "_view_name": "LayoutView",
      "align_content": null,
      "align_items": null,
      "align_self": null,
      "border": null,
      "bottom": null,
      "display": null,
      "flex": null,
      "flex_flow": null,
      "grid_area": null,
      "grid_auto_columns": null,
      "grid_auto_flow": null,
      "grid_auto_rows": null,
      "grid_column": null,
      "grid_gap": null,
      "grid_row": null,
      "grid_template_areas": null,
      "grid_template_columns": null,
      "grid_template_rows": null,
      "height": null,
      "justify_content": null,
      "justify_items": null,
      "left": null,
      "margin": null,
      "max_height": null,
      "max_width": null,
      "min_height": null,
      "min_width": null,
      "object_fit": null,
      "object_position": null,
      "order": null,
      "overflow": null,
      "overflow_x": null,
      "overflow_y": null,
      "padding": null,
      "right": null,
      "top": null,
      "visibility": null,
      "width": null
     }
    },
    "5e6d9c23abca4883a28eb6e463827654": {
     "model_module": "@jupyter-widgets/controls",
     "model_module_version": "1.5.0",
     "model_name": "HTMLModel",
     "state": {
      "_dom_classes": [],
      "_model_module": "@jupyter-widgets/controls",
      "_model_module_version": "1.5.0",
      "_model_name": "HTMLModel",
      "_view_count": null,
      "_view_module": "@jupyter-widgets/controls",
      "_view_module_version": "1.5.0",
      "_view_name": "HTMLView",
      "description": "",
      "description_tooltip": null,
      "layout": "IPY_MODEL_448d6455366843e69b2645e23bcface9",
      "placeholder": "​",
      "style": "IPY_MODEL_392839c777d9445d8f8d4ac3a3b541ff",
      "value": " 440M/440M [00:02&lt;00:00, 190MB/s]"
     }
    },
    "6dc9ad150ce346248c352f8c59364e79": {
     "model_module": "@jupyter-widgets/controls",
     "model_module_version": "1.5.0",
     "model_name": "DescriptionStyleModel",
     "state": {
      "_model_module": "@jupyter-widgets/controls",
      "_model_module_version": "1.5.0",
      "_model_name": "DescriptionStyleModel",
      "_view_count": null,
      "_view_module": "@jupyter-widgets/base",
      "_view_module_version": "1.2.0",
      "_view_name": "StyleView",
      "description_width": ""
     }
    },
    "b53327af628f4b1ea67613a401e694fd": {
     "model_module": "@jupyter-widgets/base",
     "model_module_version": "1.2.0",
     "model_name": "LayoutModel",
     "state": {
      "_model_module": "@jupyter-widgets/base",
      "_model_module_version": "1.2.0",
      "_model_name": "LayoutModel",
      "_view_count": null,
      "_view_module": "@jupyter-widgets/base",
      "_view_module_version": "1.2.0",
      "_view_name": "LayoutView",
      "align_content": null,
      "align_items": null,
      "align_self": null,
      "border": null,
      "bottom": null,
      "display": null,
      "flex": null,
      "flex_flow": null,
      "grid_area": null,
      "grid_auto_columns": null,
      "grid_auto_flow": null,
      "grid_auto_rows": null,
      "grid_column": null,
      "grid_gap": null,
      "grid_row": null,
      "grid_template_areas": null,
      "grid_template_columns": null,
      "grid_template_rows": null,
      "height": null,
      "justify_content": null,
      "justify_items": null,
      "left": null,
      "margin": null,
      "max_height": null,
      "max_width": null,
      "min_height": null,
      "min_width": null,
      "object_fit": null,
      "object_position": null,
      "order": null,
      "overflow": null,
      "overflow_x": null,
      "overflow_y": null,
      "padding": null,
      "right": null,
      "top": null,
      "visibility": null,
      "width": null
     }
    }
   }
  }
 },
 "nbformat": 4,
 "nbformat_minor": 0
}
